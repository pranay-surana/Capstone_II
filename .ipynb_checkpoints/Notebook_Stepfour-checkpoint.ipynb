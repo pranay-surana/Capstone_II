{
 "cells": [
  {
   "cell_type": "markdown",
   "metadata": {},
   "source": [
    "<h1> Step Four : Feature Engineering and Modelling"
   ]
  },
  {
   "cell_type": "markdown",
   "metadata": {},
   "source": [
    "<B>Load python packages"
   ]
  },
  {
   "cell_type": "code",
   "execution_count": 1,
   "metadata": {},
   "outputs": [],
   "source": [
    "import os\n",
    "import pandas as pd\n",
    "import datetime\n",
    "import seaborn as sns\n",
    "import matplotlib.pyplot as plt\n",
    "from sklearn.metrics import classification_report,confusion_matrix,roc_curve,roc_auc_score\n",
    "from sklearn.metrics import f1_score\n",
    "from sklearn.metrics import classification_report,plot_precision_recall_curve\n",
    "from sklearn import preprocessing\n",
    "from sklearn.ensemble import RandomForestClassifier\n",
    "from sklearn.neighbors import KNeighborsClassifier\n",
    "from sklearn.linear_model import LogisticRegression\n",
    "from sklearn.metrics import accuracy_score, roc_auc_score\n",
    "from sklearn.model_selection import train_test_split\n",
    "from sklearn.linear_model import SGDClassifier as svm\n",
    "from sklearn.linear_model import RidgeClassifier\n",
    "from sklearn.utils.class_weight import compute_class_weight\n",
    "from sklearn.decomposition import PCA\n",
    "from sklearn.metrics import precision_recall_curve, roc_curve\n",
    "from sklearn.metrics import auc\n",
    "from sklearn.metrics import recall_score\n",
    "from sklearn.model_selection import RandomizedSearchCV\n",
    "import numpy as np\n",
    "from sklearn.model_selection import RepeatedStratifiedKFold\n",
    "%matplotlib inline"
   ]
  },
  {
   "cell_type": "markdown",
   "metadata": {},
   "source": [
    "<B>Get Current Working Directory, read file and observe sample rows  "
   ]
  },
  {
   "cell_type": "code",
   "execution_count": 2,
   "metadata": {},
   "outputs": [
    {
     "data": {
      "text/plain": [
       "'C:\\\\Users\\\\Pranay\\\\Projects\\\\GitHub\\\\Capstone_II'"
      ]
     },
     "execution_count": 2,
     "metadata": {},
     "output_type": "execute_result"
    }
   ],
   "source": [
    "os.getcwd()"
   ]
  },
  {
   "cell_type": "code",
   "execution_count": 3,
   "metadata": {},
   "outputs": [
    {
     "data": {
      "text/html": [
       "<div>\n",
       "<style scoped>\n",
       "    .dataframe tbody tr th:only-of-type {\n",
       "        vertical-align: middle;\n",
       "    }\n",
       "\n",
       "    .dataframe tbody tr th {\n",
       "        vertical-align: top;\n",
       "    }\n",
       "\n",
       "    .dataframe thead th {\n",
       "        text-align: right;\n",
       "    }\n",
       "</style>\n",
       "<table border=\"1\" class=\"dataframe\">\n",
       "  <thead>\n",
       "    <tr style=\"text-align: right;\">\n",
       "      <th></th>\n",
       "      <th>age</th>\n",
       "      <th>job</th>\n",
       "      <th>marital</th>\n",
       "      <th>education</th>\n",
       "      <th>default</th>\n",
       "      <th>housing</th>\n",
       "      <th>loan</th>\n",
       "      <th>contact</th>\n",
       "      <th>month</th>\n",
       "      <th>day_of_week</th>\n",
       "      <th>campaign</th>\n",
       "      <th>pdays</th>\n",
       "      <th>previous</th>\n",
       "      <th>poutcome</th>\n",
       "      <th>emp.var.rate</th>\n",
       "      <th>cons.price.idx</th>\n",
       "      <th>cons.conf.idx</th>\n",
       "      <th>y</th>\n",
       "    </tr>\n",
       "  </thead>\n",
       "  <tbody>\n",
       "    <tr>\n",
       "      <th>0</th>\n",
       "      <td>56</td>\n",
       "      <td>housemaid</td>\n",
       "      <td>married</td>\n",
       "      <td>basic.4y</td>\n",
       "      <td>0</td>\n",
       "      <td>0</td>\n",
       "      <td>0</td>\n",
       "      <td>telephone</td>\n",
       "      <td>may</td>\n",
       "      <td>mon</td>\n",
       "      <td>1</td>\n",
       "      <td>999</td>\n",
       "      <td>0</td>\n",
       "      <td>nonexistent</td>\n",
       "      <td>1.1</td>\n",
       "      <td>93.994</td>\n",
       "      <td>-36.4</td>\n",
       "      <td>no</td>\n",
       "    </tr>\n",
       "    <tr>\n",
       "      <th>1</th>\n",
       "      <td>57</td>\n",
       "      <td>services</td>\n",
       "      <td>married</td>\n",
       "      <td>high.school</td>\n",
       "      <td>0</td>\n",
       "      <td>0</td>\n",
       "      <td>0</td>\n",
       "      <td>telephone</td>\n",
       "      <td>may</td>\n",
       "      <td>mon</td>\n",
       "      <td>1</td>\n",
       "      <td>999</td>\n",
       "      <td>0</td>\n",
       "      <td>nonexistent</td>\n",
       "      <td>1.1</td>\n",
       "      <td>93.994</td>\n",
       "      <td>-36.4</td>\n",
       "      <td>no</td>\n",
       "    </tr>\n",
       "    <tr>\n",
       "      <th>2</th>\n",
       "      <td>37</td>\n",
       "      <td>services</td>\n",
       "      <td>married</td>\n",
       "      <td>high.school</td>\n",
       "      <td>0</td>\n",
       "      <td>1</td>\n",
       "      <td>0</td>\n",
       "      <td>telephone</td>\n",
       "      <td>may</td>\n",
       "      <td>mon</td>\n",
       "      <td>1</td>\n",
       "      <td>999</td>\n",
       "      <td>0</td>\n",
       "      <td>nonexistent</td>\n",
       "      <td>1.1</td>\n",
       "      <td>93.994</td>\n",
       "      <td>-36.4</td>\n",
       "      <td>no</td>\n",
       "    </tr>\n",
       "    <tr>\n",
       "      <th>3</th>\n",
       "      <td>40</td>\n",
       "      <td>admin.</td>\n",
       "      <td>married</td>\n",
       "      <td>basic.6y</td>\n",
       "      <td>0</td>\n",
       "      <td>0</td>\n",
       "      <td>0</td>\n",
       "      <td>telephone</td>\n",
       "      <td>may</td>\n",
       "      <td>mon</td>\n",
       "      <td>1</td>\n",
       "      <td>999</td>\n",
       "      <td>0</td>\n",
       "      <td>nonexistent</td>\n",
       "      <td>1.1</td>\n",
       "      <td>93.994</td>\n",
       "      <td>-36.4</td>\n",
       "      <td>no</td>\n",
       "    </tr>\n",
       "    <tr>\n",
       "      <th>4</th>\n",
       "      <td>56</td>\n",
       "      <td>services</td>\n",
       "      <td>married</td>\n",
       "      <td>high.school</td>\n",
       "      <td>0</td>\n",
       "      <td>0</td>\n",
       "      <td>1</td>\n",
       "      <td>telephone</td>\n",
       "      <td>may</td>\n",
       "      <td>mon</td>\n",
       "      <td>1</td>\n",
       "      <td>999</td>\n",
       "      <td>0</td>\n",
       "      <td>nonexistent</td>\n",
       "      <td>1.1</td>\n",
       "      <td>93.994</td>\n",
       "      <td>-36.4</td>\n",
       "      <td>no</td>\n",
       "    </tr>\n",
       "  </tbody>\n",
       "</table>\n",
       "</div>"
      ],
      "text/plain": [
       "   age        job  marital    education  default  housing  loan    contact  \\\n",
       "0   56  housemaid  married     basic.4y        0        0     0  telephone   \n",
       "1   57   services  married  high.school        0        0     0  telephone   \n",
       "2   37   services  married  high.school        0        1     0  telephone   \n",
       "3   40     admin.  married     basic.6y        0        0     0  telephone   \n",
       "4   56   services  married  high.school        0        0     1  telephone   \n",
       "\n",
       "  month day_of_week  campaign  pdays  previous     poutcome  emp.var.rate  \\\n",
       "0   may         mon         1    999         0  nonexistent           1.1   \n",
       "1   may         mon         1    999         0  nonexistent           1.1   \n",
       "2   may         mon         1    999         0  nonexistent           1.1   \n",
       "3   may         mon         1    999         0  nonexistent           1.1   \n",
       "4   may         mon         1    999         0  nonexistent           1.1   \n",
       "\n",
       "   cons.price.idx  cons.conf.idx   y  \n",
       "0          93.994          -36.4  no  \n",
       "1          93.994          -36.4  no  \n",
       "2          93.994          -36.4  no  \n",
       "3          93.994          -36.4  no  \n",
       "4          93.994          -36.4  no  "
      ]
     },
     "execution_count": 3,
     "metadata": {},
     "output_type": "execute_result"
    }
   ],
   "source": [
    "#Read CSV data\n",
    "df=pd.read_csv('data/step3_output.csv')\n",
    "df.head()"
   ]
  },
  {
   "cell_type": "code",
   "execution_count": 4,
   "metadata": {},
   "outputs": [
    {
     "name": "stdout",
     "output_type": "stream",
     "text": [
      "(40554, 18)\n"
     ]
    }
   ],
   "source": [
    "#Get Shape\n",
    "print(df.shape)"
   ]
  },
  {
   "cell_type": "code",
   "execution_count": 5,
   "metadata": {},
   "outputs": [
    {
     "name": "stdout",
     "output_type": "stream",
     "text": [
      "age                 int64\n",
      "job                object\n",
      "marital            object\n",
      "education          object\n",
      "default             int64\n",
      "housing             int64\n",
      "loan                int64\n",
      "contact            object\n",
      "month              object\n",
      "day_of_week        object\n",
      "campaign            int64\n",
      "pdays               int64\n",
      "previous            int64\n",
      "poutcome           object\n",
      "emp.var.rate      float64\n",
      "cons.price.idx    float64\n",
      "cons.conf.idx     float64\n",
      "y                  object\n",
      "dtype: object\n"
     ]
    }
   ],
   "source": [
    "#Get data types for all the colums \n",
    "print(df.dtypes)\n",
    "udf=df"
   ]
  },
  {
   "cell_type": "markdown",
   "metadata": {},
   "source": [
    "<B>Get all the columns with object datatype excluding dependent column and perform one hot encoding"
   ]
  },
  {
   "cell_type": "code",
   "execution_count": 6,
   "metadata": {},
   "outputs": [
    {
     "name": "stderr",
     "output_type": "stream",
     "text": [
      "C:\\Users\\Pranay\\anaconda3\\lib\\site-packages\\pandas\\core\\frame.py:3997: SettingWithCopyWarning: \n",
      "A value is trying to be set on a copy of a slice from a DataFrame\n",
      "\n",
      "See the caveats in the documentation: https://pandas.pydata.org/pandas-docs/stable/user_guide/indexing.html#returning-a-view-versus-a-copy\n",
      "  errors=errors,\n"
     ]
    }
   ],
   "source": [
    "only_obj=df.select_dtypes(include=['object'])\n",
    "only_obj.drop(['y'],axis=1,inplace=True)\n",
    "col=only_obj.columns"
   ]
  },
  {
   "cell_type": "code",
   "execution_count": 7,
   "metadata": {},
   "outputs": [],
   "source": [
    "#Do One Hot encoding for the objects columns\n",
    "df=pd.get_dummies(df,columns=col)"
   ]
  },
  {
   "cell_type": "code",
   "execution_count": 8,
   "metadata": {},
   "outputs": [
    {
     "data": {
      "text/plain": [
       "age                                int64\n",
       "default                            int64\n",
       "housing                            int64\n",
       "loan                               int64\n",
       "campaign                           int64\n",
       "pdays                              int64\n",
       "previous                           int64\n",
       "emp.var.rate                     float64\n",
       "cons.price.idx                   float64\n",
       "cons.conf.idx                    float64\n",
       "y                                 object\n",
       "job_admin.                         uint8\n",
       "job_blue-collar                    uint8\n",
       "job_entrepreneur                   uint8\n",
       "job_housemaid                      uint8\n",
       "job_management                     uint8\n",
       "job_retired                        uint8\n",
       "job_self-employed                  uint8\n",
       "job_services                       uint8\n",
       "job_student                        uint8\n",
       "job_technician                     uint8\n",
       "job_unemployed                     uint8\n",
       "marital_divorced                   uint8\n",
       "marital_married                    uint8\n",
       "marital_single                     uint8\n",
       "education_basic.4y                 uint8\n",
       "education_basic.6y                 uint8\n",
       "education_basic.9y                 uint8\n",
       "education_high.school              uint8\n",
       "education_illiterate               uint8\n",
       "education_professional.course      uint8\n",
       "education_university.degree        uint8\n",
       "contact_cellular                   uint8\n",
       "contact_telephone                  uint8\n",
       "month_apr                          uint8\n",
       "month_aug                          uint8\n",
       "month_dec                          uint8\n",
       "month_jul                          uint8\n",
       "month_jun                          uint8\n",
       "month_mar                          uint8\n",
       "month_may                          uint8\n",
       "month_nov                          uint8\n",
       "month_oct                          uint8\n",
       "month_sep                          uint8\n",
       "day_of_week_fri                    uint8\n",
       "day_of_week_mon                    uint8\n",
       "day_of_week_thu                    uint8\n",
       "day_of_week_tue                    uint8\n",
       "day_of_week_wed                    uint8\n",
       "poutcome_failure                   uint8\n",
       "poutcome_nonexistent               uint8\n",
       "poutcome_success                   uint8\n",
       "dtype: object"
      ]
     },
     "execution_count": 8,
     "metadata": {},
     "output_type": "execute_result"
    }
   ],
   "source": [
    "#Get updated data types of all the columns\n",
    "df.dtypes"
   ]
  },
  {
   "cell_type": "code",
   "execution_count": 9,
   "metadata": {},
   "outputs": [],
   "source": [
    "#Transform Dependent Variable values\n",
    "df.y.replace({'yes':1,'no':0},inplace=True)"
   ]
  },
  {
   "cell_type": "markdown",
   "metadata": {},
   "source": [
    "<B>Deal with other continuous variables"
   ]
  },
  {
   "cell_type": "markdown",
   "metadata": {},
   "source": [
    "#Group Age Columns\n",
    "df['Binned_Age']=pd.cut(\n",
    "    df['age'],\n",
    "    bins=[-np.inf,20,30,40,50,60,np.inf],\n",
    "    labels=['0-20','20-30','30-40','40-50','50-60','60-100']\n",
    ")"
   ]
  },
  {
   "cell_type": "code",
   "execution_count": 10,
   "metadata": {},
   "outputs": [],
   "source": [
    "#Group Emp_Var_Rate columns\n",
    "df['Binned_Emp_Var_Rate']=pd.cut(\n",
    "    df['emp.var.rate'],\n",
    "    bins=[-np.inf,-3.5,-2.5,-1.5,-0.5,0.5,1.5,np.inf],\n",
    "    labels=[-4,-3,-2,-1,0,1,2]\n",
    ")"
   ]
  },
  {
   "cell_type": "code",
   "execution_count": 11,
   "metadata": {},
   "outputs": [],
   "source": [
    "#df['euribor3m']=df['euribor3m'].round(1)\n",
    "df['cons.price.idx']=df['cons.price.idx'].round(2)"
   ]
  },
  {
   "cell_type": "markdown",
   "metadata": {},
   "source": [
    "<B>Get count details of age group on the basic of product subscribed"
   ]
  },
  {
   "cell_type": "markdown",
   "metadata": {},
   "source": [
    "iage=list(df.Binned_Age.value_counts().index)\n",
    "dfyes=df[df['y']==1]"
   ]
  },
  {
   "cell_type": "markdown",
   "metadata": {},
   "source": [
    "f, (ax1) = plt.subplots(1,1,figsize=(20, 20))\n",
    "x_1 = pd.DataFrame(df.Binned_Age.value_counts()).reindex(iage, axis=0).dropna()\n",
    "names_1 = list(x_1.index)\n",
    "values_1 = list(x_1.Binned_Age)\n",
    "x_2 = pd.DataFrame(dfyes.Binned_Age.value_counts()).reindex(iage, axis=0).dropna()\n",
    "names_2 = list(x_2.index)\n",
    "values_2 = list(x_2.Binned_Age)\n",
    "ax1.plot(names_2,values_2,linestyle='-', marker='o',color = 'black')\n",
    "for i, txt in enumerate(values_2):\n",
    "    ax1.annotate(txt, (names_2[i], values_2[i]))  \n",
    "splot=sns.barplot(x=names_1, y=values_1,color = 'skyblue',palette=None,ax=ax1)\n",
    "splot.set(xlabel= 'Binned_Age', ylabel='counts')\n",
    "for p in splot.patches:\n",
    "        splot.annotate(format(p.get_height(), '.2f'), (p.get_x() + p.get_width() / 2., p.get_height()), ha = 'center', va ='center', xytext = (0, 10), textcoords = 'offset points')\n"
   ]
  },
  {
   "cell_type": "markdown",
   "metadata": {},
   "source": [
    "df=pd.get_dummies(df,columns=['Binned_Age'])\n",
    "#Get updated Shape\n",
    "print(df.shape)"
   ]
  },
  {
   "cell_type": "code",
   "execution_count": null,
   "metadata": {},
   "outputs": [],
   "source": []
  },
  {
   "cell_type": "markdown",
   "metadata": {},
   "source": [
    "<B> As our data is ready and can we used for modelling purpose, divide the data in traing data and testing data"
   ]
  },
  {
   "cell_type": "code",
   "execution_count": 12,
   "metadata": {},
   "outputs": [],
   "source": [
    "X=df.drop(['y','emp.var.rate'], axis=1)\n",
    "y=df.y\n",
    "X_train, X_test, y_train, y_test = train_test_split(X, y, test_size=0.25, random_state=1)"
   ]
  },
  {
   "cell_type": "markdown",
   "metadata": {},
   "source": [
    "<H3><B>Fit the Data without scaling the data and check the accuracy</B></H3> \n",
    "<ul><li>Random Forest(As Random Forest does not depends on scaling of the data)\n",
    "    <li>KNN\n",
    "    <li>Logistic Regression "
   ]
  },
  {
   "cell_type": "markdown",
   "metadata": {},
   "source": [
    "<B>Random Forest(Unscaled Data)"
   ]
  },
  {
   "cell_type": "code",
   "execution_count": 13,
   "metadata": {},
   "outputs": [
    {
     "name": "stdout",
     "output_type": "stream",
     "text": [
      "Accuracy Score without scaling the data and using Random Forest 0.8960449748495907\n"
     ]
    }
   ],
   "source": [
    "#Fit Random Forest Algorithm on Training Data\n",
    "rand_clf = RandomForestClassifier()\n",
    "rand_clf.fit(X_train, y_train)\n",
    "#Predict the result for testing data\n",
    "y_pred=rand_clf.predict(X_test)\n",
    "# Print the accuracy from the testing data.\n",
    "print('Accuracy Score without scaling the data and using Random Forest',accuracy_score(y_pred, y_test))"
   ]
  },
  {
   "cell_type": "code",
   "execution_count": 14,
   "metadata": {},
   "outputs": [
    {
     "name": "stdout",
     "output_type": "stream",
     "text": [
      "Confusion Matrix without scaling the data and using Random Forest\n",
      " [[8753  263]\n",
      " [ 791  332]]\n"
     ]
    }
   ],
   "source": [
    "cm = confusion_matrix(y_test, y_pred)\n",
    "print('Confusion Matrix without scaling the data and using Random Forest\\n',cm)"
   ]
  },
  {
   "cell_type": "code",
   "execution_count": 15,
   "metadata": {},
   "outputs": [
    {
     "name": "stdout",
     "output_type": "stream",
     "text": [
      "Classifiaction Report without scaling the data and using Random Forest\n",
      "               precision    recall  f1-score   support\n",
      "\n",
      "           0       0.92      0.97      0.94      9016\n",
      "           1       0.56      0.30      0.39      1123\n",
      "\n",
      "    accuracy                           0.90     10139\n",
      "   macro avg       0.74      0.63      0.66     10139\n",
      "weighted avg       0.88      0.90      0.88     10139\n",
      "\n"
     ]
    }
   ],
   "source": [
    "print('Classifiaction Report without scaling the data and using Random Forest\\n',classification_report(y_test, y_pred))"
   ]
  },
  {
   "cell_type": "markdown",
   "metadata": {},
   "source": [
    "<B> KNN(Unscaled Data)"
   ]
  },
  {
   "cell_type": "code",
   "execution_count": 16,
   "metadata": {},
   "outputs": [
    {
     "name": "stdout",
     "output_type": "stream",
     "text": [
      "Accuracy Score without scaling the data and using KNN 0.8946641680639116\n"
     ]
    }
   ],
   "source": [
    "knn = KNeighborsClassifier()\n",
    "knn.fit(X_train, y_train)\n",
    "y_pred=knn.predict(X_test)\n",
    "print('Accuracy Score without scaling the data and using KNN',accuracy_score(y_pred, y_test))"
   ]
  },
  {
   "cell_type": "code",
   "execution_count": 17,
   "metadata": {},
   "outputs": [
    {
     "name": "stdout",
     "output_type": "stream",
     "text": [
      "Confusion Matrix without scaling the data and using KNN\n",
      " [[8752  264]\n",
      " [ 804  319]]\n"
     ]
    }
   ],
   "source": [
    "cm = confusion_matrix(y_test, y_pred)\n",
    "print('Confusion Matrix without scaling the data and using KNN\\n',cm)"
   ]
  },
  {
   "cell_type": "code",
   "execution_count": 18,
   "metadata": {},
   "outputs": [
    {
     "name": "stdout",
     "output_type": "stream",
     "text": [
      "Classifiaction Report without scaling the data and using KNN\n",
      "               precision    recall  f1-score   support\n",
      "\n",
      "           0       0.92      0.97      0.94      9016\n",
      "           1       0.55      0.28      0.37      1123\n",
      "\n",
      "    accuracy                           0.89     10139\n",
      "   macro avg       0.73      0.63      0.66     10139\n",
      "weighted avg       0.88      0.89      0.88     10139\n",
      "\n"
     ]
    }
   ],
   "source": [
    "print('Classifiaction Report without scaling the data and using KNN\\n',classification_report(y_test, y_pred))"
   ]
  },
  {
   "cell_type": "markdown",
   "metadata": {},
   "source": [
    "<B>Logistic Regression(Unscaled Data)"
   ]
  },
  {
   "cell_type": "code",
   "execution_count": 19,
   "metadata": {},
   "outputs": [
    {
     "name": "stdout",
     "output_type": "stream",
     "text": [
      "Accuracy Score without scaling the data and using Logistic Regression 0.9009764276555874\n"
     ]
    }
   ],
   "source": [
    "lr_clf = LogisticRegression(max_iter=1000)\n",
    "# Fit the model on the trainng data.\n",
    "lr_clf.fit(X_train, y_train)\n",
    "y_pred=lr_clf.predict(X_test)\n",
    "# Print the accuracy from the testing data.\n",
    "print('Accuracy Score without scaling the data and using Logistic Regression',accuracy_score(y_pred, y_test))"
   ]
  },
  {
   "cell_type": "code",
   "execution_count": 20,
   "metadata": {},
   "outputs": [
    {
     "name": "stdout",
     "output_type": "stream",
     "text": [
      "Confusion Matrix without scaling the data and using Logistic Regression\n",
      " [[8900  116]\n",
      " [ 888  235]]\n"
     ]
    }
   ],
   "source": [
    "cm = confusion_matrix(y_test, y_pred)\n",
    "print('Confusion Matrix without scaling the data and using Logistic Regression\\n',cm)"
   ]
  },
  {
   "cell_type": "code",
   "execution_count": 21,
   "metadata": {},
   "outputs": [
    {
     "name": "stdout",
     "output_type": "stream",
     "text": [
      "Classifiaction Report without scaling the data and using Logistic Regression\n",
      "               precision    recall  f1-score   support\n",
      "\n",
      "           0       0.91      0.99      0.95      9016\n",
      "           1       0.67      0.21      0.32      1123\n",
      "\n",
      "    accuracy                           0.90     10139\n",
      "   macro avg       0.79      0.60      0.63     10139\n",
      "weighted avg       0.88      0.90      0.88     10139\n",
      "\n"
     ]
    }
   ],
   "source": [
    "print('Classifiaction Report without scaling the data and using Logistic Regression\\n',classification_report(y_test, y_pred))"
   ]
  },
  {
   "cell_type": "markdown",
   "metadata": {},
   "source": [
    "<B>Get the Roc curve for the results"
   ]
  },
  {
   "cell_type": "code",
   "execution_count": 22,
   "metadata": {},
   "outputs": [
    {
     "name": "stdout",
     "output_type": "stream",
     "text": [
      "AUC: 0.8066500555853608\n"
     ]
    },
    {
     "data": {
      "image/png": "[encoded data removed]",
      "text/plain": [
       "<Figure size 432x432 with 1 Axes>"
      ]
     },
     "metadata": {
      "needs_background": "light"
     },
     "output_type": "display_data"
    }
   ],
   "source": [
    "from sklearn import metrics\n",
    "fig, ax = plt.subplots(figsize = (6,6))\n",
    "probs = lr_clf.predict_proba(X_test)\n",
    "preds = probs[:,1]\n",
    "fprrfc, tprrfc, thresholdrfc = metrics.roc_curve(y_test, preds)\n",
    "roc_aucrfc = metrics.auc(fprrfc, tprrfc)\n",
    "\n",
    "ax.plot(fprrfc, tprrfc, 'b', label = 'AUC = %0.2f' % roc_aucrfc)\n",
    "ax.plot([0, 1], [0, 1],'r--')\n",
    "ax.set_title('Receiver Operating Characteristic Logistic Regression ',fontsize=20)\n",
    "ax.set_ylabel('True Positive Rate',fontsize=20)\n",
    "ax.set_xlabel('False Positive Rate',fontsize=15)\n",
    "ax.legend(loc = 'lower right', prop={'size': 16})\n",
    "#Get the AUC score\n",
    "print(\"AUC: {}\".format(roc_auc_score(y_test, preds)))\n",
    "plt.subplots_adjust(wspace=1)"
   ]
  },
  {
   "cell_type": "code",
   "execution_count": 23,
   "metadata": {},
   "outputs": [
    {
     "name": "stdout",
     "output_type": "stream",
     "text": [
      "Logistic: f1=0.319 auc=0.456\n"
     ]
    },
    {
     "data": {
      "image/png": "[encoded data removed]",
      "text/plain": [
       "<Figure size 432x288 with 1 Axes>"
      ]
     },
     "metadata": {
      "needs_background": "light"
     },
     "output_type": "display_data"
    }
   ],
   "source": [
    "lr_probs=lr_clf.predict_proba(X_test)[:,1]\n",
    "lr_precision, lr_recall, _ = precision_recall_curve(y_test, lr_probs)\n",
    "lr_f1, lr_auc = f1_score(y_test, y_pred), auc(lr_recall,lr_precision)\n",
    "print('Logistic: f1=%.3f auc=%.3f' % (lr_f1, lr_auc))\n",
    "# plot the precision-recall curves\n",
    "no_skill = len(y_test[y_test==1]) / len(y_test)\n",
    "plt.plot([0, 1], [no_skill, no_skill], linestyle='--', label='No Skill')\n",
    "plt.plot(lr_recall,lr_precision, marker='.', label='Logistic')\n",
    "# axis labels\n",
    "plt.xlabel('Recall')\n",
    "plt.ylabel('Precision')\n",
    "# show the legend\n",
    "plt.legend()\n",
    "# show the plot\n",
    "plt.show()"
   ]
  },
  {
   "cell_type": "code",
   "execution_count": 24,
   "metadata": {},
   "outputs": [
    {
     "name": "stdout",
     "output_type": "stream",
     "text": [
      "Accuracy Score without scaling the data and using Logistic Regression with updated threshold 0.8751356149521649\n"
     ]
    }
   ],
   "source": [
    "#Adjust the threshold to 0.20\n",
    "THRESHOLD = 0.20\n",
    "#y_pred=clf.predict(X_test)\n",
    "y_pred=np.where(lr_clf.predict_proba(X_test)[:,1] > THRESHOLD, 1, 0)\n",
    "# Print the accuracy from the testing data.\n",
    "print('Accuracy Score without scaling the data and using Logistic Regression with updated threshold',accuracy_score(y_pred, y_test))"
   ]
  },
  {
   "cell_type": "code",
   "execution_count": 25,
   "metadata": {},
   "outputs": [
    {
     "name": "stdout",
     "output_type": "stream",
     "text": [
      "Confusion Matrix without scaling the data and using Logistic Regression with updated threshold\n",
      " [[8242  774]\n",
      " [ 492  631]]\n"
     ]
    }
   ],
   "source": [
    "cm = confusion_matrix(y_test, y_pred)\n",
    "print('Confusion Matrix without scaling the data and using Logistic Regression with updated threshold\\n',cm)"
   ]
  },
  {
   "cell_type": "code",
   "execution_count": 26,
   "metadata": {},
   "outputs": [
    {
     "name": "stdout",
     "output_type": "stream",
     "text": [
      "Classifiaction Report without scaling the data and using Logistic Regression with updated threshold\n",
      "               precision    recall  f1-score   support\n",
      "\n",
      "           0       0.94      0.91      0.93      9016\n",
      "           1       0.45      0.56      0.50      1123\n",
      "\n",
      "    accuracy                           0.88     10139\n",
      "   macro avg       0.70      0.74      0.71     10139\n",
      "weighted avg       0.89      0.88      0.88     10139\n",
      "\n"
     ]
    }
   ],
   "source": [
    "print('Classifiaction Report without scaling the data and using Logistic Regression with updated threshold\\n',classification_report(y_test, y_pred))"
   ]
  },
  {
   "cell_type": "markdown",
   "metadata": {},
   "source": [
    "<B>For this project it is important to have good recall and F1 score. Therefore there is need to improve recall score</B>"
   ]
  },
  {
   "cell_type": "markdown",
   "metadata": {},
   "source": [
    "from sklearn.cluster import KMeans\n",
    "x = df.drop(['Binned_Age','Binned_Emp_Var_Rate','y'], axis=1).values\n",
    "Error =[]\n",
    "for i in range(1, 11):\n",
    "    kmeans = KMeans(n_clusters = i).fit(x)\n",
    "    kmeans.fit(x)\n",
    "    Error.append(kmeans.inertia_)\n",
    "import matplotlib.pyplot as plt\n",
    "plt.plot(range(1, 11), Error)\n",
    "plt.title('Elbow method')\n",
    "plt.xlabel('No of clusters')\n",
    "plt.ylabel('Error')\n",
    "plt.show()"
   ]
  },
  {
   "cell_type": "markdown",
   "metadata": {},
   "source": [
    "range_n_clusters = list (range(2,10))\n",
    "print (\"Number of clusters from 2 to 9: \\n\", range_n_clusters)"
   ]
  },
  {
   "cell_type": "markdown",
   "metadata": {},
   "source": [
    "from sklearn.metrics import silhouette_score\n",
    "for n_clusters in range_n_clusters:\n",
    "    clusterer = KMeans(n_clusters=n_clusters)\n",
    "    preds = clusterer.fit_predict(x)\n",
    "    centers = clusterer.cluster_centers_\n",
    "\n",
    "    score = silhouette_score(x, preds)\n",
    "    print(\"For n_clusters = {}, silhouette score is {})\".format(n_clusters, score))"
   ]
  },
  {
   "cell_type": "markdown",
   "metadata": {},
   "source": [
    "<H3>Scale the Data and then split again</H3>"
   ]
  },
  {
   "cell_type": "code",
   "execution_count": 27,
   "metadata": {},
   "outputs": [],
   "source": [
    "X = df.drop(['y','emp.var.rate'], axis=1)\n",
    "y = df.y\n",
    "scaler = preprocessing.StandardScaler().fit(X)\n",
    "X_scaled=scaler.transform(X) \n",
    "X_train, X_test, y_train, y_test = train_test_split(X_scaled, y, test_size=0.25, random_state=1)\n",
    "#Take backup of X_train and y_train\n",
    "X_train_bkp = X_train\n",
    "y_train_bkp = y_train\n",
    "X_test_bkp  = X_test\n",
    "y_test_bkp  = y_test"
   ]
  },
  {
   "cell_type": "markdown",
   "metadata": {},
   "source": [
    "<B>Here going forward, X_train and X_test will be our scaled data. For Scaled data, we will be using below algorithms</B>\n",
    "<ul><li>Random Forest\n",
    "    <li>KNN\n",
    "    <li>Logistic Regression \n",
    "    <li>SVM   "
   ]
  },
  {
   "cell_type": "markdown",
   "metadata": {},
   "source": [
    "<B>Random Forest Scaled Data"
   ]
  },
  {
   "cell_type": "code",
   "execution_count": 28,
   "metadata": {},
   "outputs": [
    {
     "name": "stdout",
     "output_type": "stream",
     "text": [
      "Accuracy Score of Random Forest is 0.8961436039057106\n",
      "Random Forest: f1-score=0.381\n"
     ]
    }
   ],
   "source": [
    "rand_clf1 = RandomForestClassifier()\n",
    "rand_clf1.fit(X_train, y_train)\n",
    "# Print the accuracy from the testing data.\n",
    "y_pred=rand_clf1.predict(X_test)\n",
    "print('Accuracy Score of Random Forest is',accuracy_score(y_pred, y_test))\n",
    "f1 = f1_score(y_test, y_pred)\n",
    "print('Random Forest: f1-score=%.3f' % (f1))"
   ]
  },
  {
   "cell_type": "code",
   "execution_count": 29,
   "metadata": {},
   "outputs": [
    {
     "name": "stdout",
     "output_type": "stream",
     "text": [
      "[[8762  254]\n",
      " [ 799  324]]\n"
     ]
    }
   ],
   "source": [
    "cm = confusion_matrix(y_test, y_pred)\n",
    "print(cm)"
   ]
  },
  {
   "cell_type": "code",
   "execution_count": 30,
   "metadata": {},
   "outputs": [
    {
     "name": "stdout",
     "output_type": "stream",
     "text": [
      "              precision    recall  f1-score   support\n",
      "\n",
      "           0       0.92      0.97      0.94      9016\n",
      "           1       0.56      0.29      0.38      1123\n",
      "\n",
      "    accuracy                           0.90     10139\n",
      "   macro avg       0.74      0.63      0.66     10139\n",
      "weighted avg       0.88      0.90      0.88     10139\n",
      "\n"
     ]
    }
   ],
   "source": [
    "print(classification_report(y_test, y_pred))"
   ]
  },
  {
   "cell_type": "markdown",
   "metadata": {},
   "source": [
    "<B>KNN(Scaled Data)"
   ]
  },
  {
   "cell_type": "code",
   "execution_count": 31,
   "metadata": {},
   "outputs": [
    {
     "name": "stdout",
     "output_type": "stream",
     "text": [
      "Accuracy Score scaling the data and using KNN 0.8899299733701549\n",
      "KNN: f1-score=0.378\n"
     ]
    }
   ],
   "source": [
    "knn1 = KNeighborsClassifier(n_neighbors=3)\n",
    "knn1.fit(X_train, y_train)\n",
    "#fit the data\n",
    "y_pred=knn1.predict(X_test)\n",
    "print('Accuracy Score scaling the data and using KNN',accuracy_score(y_pred, y_test))\n",
    "f1 = f1_score(y_test, y_pred)\n",
    "print('KNN: f1-score=%.3f' % (f1))"
   ]
  },
  {
   "cell_type": "code",
   "execution_count": 32,
   "metadata": {},
   "outputs": [
    {
     "name": "stdout",
     "output_type": "stream",
     "text": [
      "[[8684  332]\n",
      " [ 784  339]]\n"
     ]
    }
   ],
   "source": [
    "cm = confusion_matrix(y_test, y_pred)\n",
    "print(cm)"
   ]
  },
  {
   "cell_type": "code",
   "execution_count": 33,
   "metadata": {},
   "outputs": [
    {
     "name": "stdout",
     "output_type": "stream",
     "text": [
      "Classification Report after scaling the data and using KNN\n",
      "               precision    recall  f1-score   support\n",
      "\n",
      "           0       0.92      0.96      0.94      9016\n",
      "           1       0.51      0.30      0.38      1123\n",
      "\n",
      "    accuracy                           0.89     10139\n",
      "   macro avg       0.71      0.63      0.66     10139\n",
      "weighted avg       0.87      0.89      0.88     10139\n",
      "\n"
     ]
    }
   ],
   "source": [
    "print('Classification Report after scaling the data and using KNN\\n',classification_report(y_test, y_pred))"
   ]
  },
  {
   "cell_type": "markdown",
   "metadata": {},
   "source": [
    "<B>Logistic Regression with Scaled Data"
   ]
  },
  {
   "cell_type": "code",
   "execution_count": 34,
   "metadata": {},
   "outputs": [
    {
     "name": "stdout",
     "output_type": "stream",
     "text": [
      "Accuracy Score with scaling the data and using Logistic Regression 0.904428444619785\n"
     ]
    }
   ],
   "source": [
    "lr_clf1 = LogisticRegression(max_iter=1000)\n",
    "# Fit the model on the trainng data.\n",
    "lr_clf1.fit(X_train, y_train)\n",
    "y_pred=lr_clf1.predict(X_test)\n",
    "# Print the accuracy from the testing data.\n",
    "print('Accuracy Score with scaling the data and using Logistic Regression',accuracy_score(y_pred, y_test))"
   ]
  },
  {
   "cell_type": "code",
   "execution_count": 35,
   "metadata": {},
   "outputs": [
    {
     "name": "stdout",
     "output_type": "stream",
     "text": [
      "Confusion Matrix with scaling the data and using Logistic Regression\n",
      " [[8909  107]\n",
      " [ 862  261]]\n"
     ]
    }
   ],
   "source": [
    "cm = confusion_matrix(y_test, y_pred)\n",
    "print('Confusion Matrix with scaling the data and using Logistic Regression\\n',cm)"
   ]
  },
  {
   "cell_type": "code",
   "execution_count": 36,
   "metadata": {},
   "outputs": [
    {
     "name": "stdout",
     "output_type": "stream",
     "text": [
      "Classifiaction Report with scaling the data and using Logistic Regression\n",
      "               precision    recall  f1-score   support\n",
      "\n",
      "           0       0.91      0.99      0.95      9016\n",
      "           1       0.71      0.23      0.35      1123\n",
      "\n",
      "    accuracy                           0.90     10139\n",
      "   macro avg       0.81      0.61      0.65     10139\n",
      "weighted avg       0.89      0.90      0.88     10139\n",
      "\n"
     ]
    }
   ],
   "source": [
    "print('Classifiaction Report with scaling the data and using Logistic Regression\\n',classification_report(y_test, y_pred))"
   ]
  },
  {
   "cell_type": "code",
   "execution_count": 37,
   "metadata": {},
   "outputs": [
    {
     "data": {
      "image/png": "[encoded data removed]",
      "text/plain": [
       "<Figure size 432x432 with 1 Axes>"
      ]
     },
     "metadata": {
      "needs_background": "light"
     },
     "output_type": "display_data"
    }
   ],
   "source": [
    "from sklearn import metrics\n",
    "fig, ax = plt.subplots(figsize = (6,6))\n",
    "probs = lr_clf1.predict_proba(X_test)\n",
    "preds = probs[:,1]\n",
    "fprrfc, tprrfc, thresholdrfc = metrics.roc_curve(y_test, preds)\n",
    "roc_aucrfc = metrics.auc(fprrfc, tprrfc)\n",
    "\n",
    "ax.plot(fprrfc, tprrfc, 'b', label = 'AUC = %0.2f' % roc_aucrfc)\n",
    "ax.plot([0, 1], [0, 1],'r--')\n",
    "ax.set_title('Receiver Operating Characteristic Logistic Regression ',fontsize=20)\n",
    "ax.set_ylabel('True Positive Rate',fontsize=20)\n",
    "ax.set_xlabel('False Positive Rate',fontsize=15)\n",
    "ax.legend(loc = 'lower right', prop={'size': 16})\n",
    "\n",
    "plt.subplots_adjust(wspace=1)"
   ]
  },
  {
   "cell_type": "code",
   "execution_count": 38,
   "metadata": {},
   "outputs": [
    {
     "name": "stdout",
     "output_type": "stream",
     "text": [
      "AUC: 0.8109861680550496\n"
     ]
    }
   ],
   "source": [
    "#Get the AUC score\n",
    "print(\"AUC: {}\".format(roc_auc_score(y_test, preds)))"
   ]
  },
  {
   "cell_type": "code",
   "execution_count": 39,
   "metadata": {},
   "outputs": [
    {
     "name": "stdout",
     "output_type": "stream",
     "text": [
      "Logistic: f1=0.350 auc=0.485\n"
     ]
    },
    {
     "data": {
      "image/png": "[encoded data removed]",
      "text/plain": [
       "<Figure size 432x288 with 1 Axes>"
      ]
     },
     "metadata": {
      "needs_background": "light"
     },
     "output_type": "display_data"
    }
   ],
   "source": [
    "lr_probs=lr_clf1.predict_proba(X_test)[:,1]\n",
    "lr_precision, lr_recall, _ = precision_recall_curve(y_test, lr_probs)\n",
    "lr_f1, lr_auc = f1_score(y_test, y_pred), auc(lr_recall,lr_precision)\n",
    "print('Logistic: f1=%.3f auc=%.3f' % (lr_f1, lr_auc))\n",
    "# plot the precision-recall curves\n",
    "no_skill = len(y_test[y_test==1]) / len(y_test)\n",
    "plt.plot([0, 1], [no_skill, no_skill], linestyle='--', label='No Skill')\n",
    "plt.plot(lr_recall,lr_precision, marker='.', label='Logistic')\n",
    "# axis labels\n",
    "plt.xlabel('Recall')\n",
    "plt.ylabel('Precision')\n",
    "# show the legend\n",
    "plt.legend()\n",
    "# show the plot\n",
    "plt.show()"
   ]
  },
  {
   "cell_type": "code",
   "execution_count": 40,
   "metadata": {},
   "outputs": [
    {
     "name": "stdout",
     "output_type": "stream",
     "text": [
      "Accuracy Score by after scaling the data and using logistic regression 0.8733602919420062\n",
      "Logistic Regression: f1-score=0.513\n"
     ]
    }
   ],
   "source": [
    "THRESHOLD = 0.20\n",
    "#y_pred=clf.predict(X_test)\n",
    "y_pred=np.where(lr_clf1.predict_proba(X_test)[:,1] > THRESHOLD, 1, 0)\n",
    "print('Accuracy Score by after scaling the data and using logistic regression',accuracy_score(y_pred, y_test))\n",
    "f1 = f1_score(y_test, y_pred)\n",
    "print('Logistic Regression: f1-score=%.3f' % (f1))"
   ]
  },
  {
   "cell_type": "code",
   "execution_count": 41,
   "metadata": {},
   "outputs": [
    {
     "name": "stdout",
     "output_type": "stream",
     "text": [
      "[[8179  837]\n",
      " [ 447  676]]\n"
     ]
    }
   ],
   "source": [
    "cm = confusion_matrix(y_test, y_pred)\n",
    "print(cm)"
   ]
  },
  {
   "cell_type": "code",
   "execution_count": 42,
   "metadata": {},
   "outputs": [
    {
     "name": "stdout",
     "output_type": "stream",
     "text": [
      "Classification Report after scaling the data and using Logistic regression\n",
      "               precision    recall  f1-score   support\n",
      "\n",
      "           0       0.95      0.91      0.93      9016\n",
      "           1       0.45      0.60      0.51      1123\n",
      "\n",
      "    accuracy                           0.87     10139\n",
      "   macro avg       0.70      0.75      0.72     10139\n",
      "weighted avg       0.89      0.87      0.88     10139\n",
      "\n"
     ]
    }
   ],
   "source": [
    "print('Classification Report after scaling the data and using Logistic regression\\n',classification_report(y_test, y_pred))"
   ]
  },
  {
   "cell_type": "markdown",
   "metadata": {},
   "source": [
    "<B>SVM(Scaled Data)"
   ]
  },
  {
   "cell_type": "code",
   "execution_count": 43,
   "metadata": {},
   "outputs": [
    {
     "name": "stdout",
     "output_type": "stream",
     "text": [
      "Accuracy Score of SVM is 0.8987079593648288\n"
     ]
    }
   ],
   "source": [
    "clf_svm = svm()\n",
    "clf_svm.fit(X_train, y_train)\n",
    "y_pred=clf_svm.predict(X_test)\n",
    "print('Accuracy Score of SVM is',accuracy_score(y_pred, y_test))"
   ]
  },
  {
   "cell_type": "code",
   "execution_count": 44,
   "metadata": {},
   "outputs": [
    {
     "name": "stdout",
     "output_type": "stream",
     "text": [
      "[[8973   43]\n",
      " [ 984  139]]\n"
     ]
    }
   ],
   "source": [
    "cm = confusion_matrix(y_test, y_pred)\n",
    "print(cm)"
   ]
  },
  {
   "cell_type": "code",
   "execution_count": 45,
   "metadata": {},
   "outputs": [
    {
     "name": "stdout",
     "output_type": "stream",
     "text": [
      "Classifiaction Report with scaling the data and using Logistic Regression\n",
      "               precision    recall  f1-score   support\n",
      "\n",
      "           0       0.90      1.00      0.95      9016\n",
      "           1       0.76      0.12      0.21      1123\n",
      "\n",
      "    accuracy                           0.90     10139\n",
      "   macro avg       0.83      0.56      0.58     10139\n",
      "weighted avg       0.89      0.90      0.86     10139\n",
      "\n"
     ]
    }
   ],
   "source": [
    "print('Classifiaction Report with scaling the data and using Logistic Regression\\n',classification_report(y_test, y_pred))"
   ]
  },
  {
   "cell_type": "code",
   "execution_count": 46,
   "metadata": {},
   "outputs": [
    {
     "data": {
      "image/png": "[encoded data removed]",
      "text/plain": [
       "<Figure size 432x288 with 1 Axes>"
      ]
     },
     "metadata": {
      "needs_background": "light"
     },
     "output_type": "display_data"
    }
   ],
   "source": [
    "disp=plot_precision_recall_curve(clf_svm, X_test, y_test)\n"
   ]
  },
  {
   "cell_type": "markdown",
   "metadata": {},
   "source": [
    "<H3>Still Recall score for \"yes\" is not improved as expected, Need to check more on improving recall score by trying regularization method</H3> \n",
    "<UL><LI>Ridge Regression"
   ]
  },
  {
   "cell_type": "markdown",
   "metadata": {},
   "source": [
    "<B>Ridge_Regression"
   ]
  },
  {
   "cell_type": "code",
   "execution_count": 47,
   "metadata": {},
   "outputs": [
    {
     "name": "stdout",
     "output_type": "stream",
     "text": [
      "Accuracy Score of Ridge Regression is 0.9026531216096262\n"
     ]
    }
   ],
   "source": [
    "ridge=RidgeClassifier()\n",
    "ridge.fit(X_train, y_train)\n",
    "y_pred=ridge.predict(X_test)\n",
    "print('Accuracy Score of Ridge Regression is',accuracy_score(y_pred, y_test))"
   ]
  },
  {
   "cell_type": "code",
   "execution_count": 48,
   "metadata": {},
   "outputs": [
    {
     "name": "stdout",
     "output_type": "stream",
     "text": [
      "[[8914  102]\n",
      " [ 885  238]]\n"
     ]
    }
   ],
   "source": [
    "cm = confusion_matrix(y_test, y_pred)\n",
    "print(cm)"
   ]
  },
  {
   "cell_type": "code",
   "execution_count": 49,
   "metadata": {},
   "outputs": [
    {
     "name": "stdout",
     "output_type": "stream",
     "text": [
      "              precision    recall  f1-score   support\n",
      "\n",
      "           0       0.91      0.99      0.95      9016\n",
      "           1       0.70      0.21      0.33      1123\n",
      "\n",
      "    accuracy                           0.90     10139\n",
      "   macro avg       0.80      0.60      0.64     10139\n",
      "weighted avg       0.89      0.90      0.88     10139\n",
      "\n"
     ]
    }
   ],
   "source": [
    "print(classification_report(y_test, y_pred))"
   ]
  },
  {
   "cell_type": "markdown",
   "metadata": {},
   "source": [
    "<H3>Still there is need to improve Recall Score and F1 Score for the models. There is need to balance data<H3>    "
   ]
  },
  {
   "cell_type": "markdown",
   "metadata": {},
   "source": [
    "<B>For Balancing data we will use class weight method. Once done we will use below algorithms\n",
    "    <ul><li>Random Forest\n",
    "    <li>Logistic Regression \n",
    "    <li>SVM  \n",
    "    <li>Ridge Rigression \n",
    "    <li>XG Boost"
   ]
  },
  {
   "cell_type": "code",
   "execution_count": 50,
   "metadata": {},
   "outputs": [
    {
     "name": "stderr",
     "output_type": "stream",
     "text": [
      "C:\\Users\\Pranay\\anaconda3\\lib\\site-packages\\sklearn\\utils\\validation.py:70: FutureWarning: Pass classes=[1, 0] as keyword args. From version 0.25 passing these as positional arguments will result in an error\n",
      "  FutureWarning)\n"
     ]
    },
    {
     "data": {
      "text/plain": [
       "array([4.4272198 , 0.56365827])"
      ]
     },
     "execution_count": 50,
     "metadata": {},
     "output_type": "execute_result"
    }
   ],
   "source": [
    "#Balance the class weight\n",
    "classes=[1,0]\n",
    "weights = compute_class_weight('balanced', classes, y=y_train)\n",
    "weights"
   ]
  },
  {
   "cell_type": "markdown",
   "metadata": {},
   "source": [
    "<B>Random Forest(updated class weight)"
   ]
  },
  {
   "cell_type": "code",
   "execution_count": 51,
   "metadata": {},
   "outputs": [
    {
     "name": "stdout",
     "output_type": "stream",
     "text": [
      "Accuracy Score of Random Forest is 0.8934806193904724\n"
     ]
    }
   ],
   "source": [
    "rand_clf2= RandomForestClassifier(class_weight={0:0.56365827,1:4.4272198})\n",
    "rand_clf2.fit(X_train, y_train)\n",
    "# Print the accuracy from the testing data.\n",
    "y_pred=rand_clf2.predict(X_test)\n",
    "print('Accuracy Score of Random Forest is',accuracy_score(y_pred, y_test))"
   ]
  },
  {
   "cell_type": "code",
   "execution_count": 52,
   "metadata": {},
   "outputs": [
    {
     "name": "stdout",
     "output_type": "stream",
     "text": [
      "[[8739  277]\n",
      " [ 803  320]]\n"
     ]
    }
   ],
   "source": [
    "cm = confusion_matrix(y_test, y_pred)\n",
    "print(cm)"
   ]
  },
  {
   "cell_type": "code",
   "execution_count": 53,
   "metadata": {},
   "outputs": [
    {
     "name": "stdout",
     "output_type": "stream",
     "text": [
      "Classifiaction Report after balancing the data and using Random Forest\n",
      "               precision    recall  f1-score   support\n",
      "\n",
      "           0       0.92      0.97      0.94      9016\n",
      "           1       0.54      0.28      0.37      1123\n",
      "\n",
      "    accuracy                           0.89     10139\n",
      "   macro avg       0.73      0.63      0.66     10139\n",
      "weighted avg       0.87      0.89      0.88     10139\n",
      "\n"
     ]
    }
   ],
   "source": [
    "print('Classifiaction Report after balancing the data and using Random Forest\\n',\n",
    "      classification_report(y_test, y_pred))"
   ]
  },
  {
   "cell_type": "code",
   "execution_count": 54,
   "metadata": {},
   "outputs": [
    {
     "name": "stdout",
     "output_type": "stream",
     "text": [
      "51\n"
     ]
    },
    {
     "data": {
      "image/png": "[encoded data removed]",
      "text/plain": [
       "<Figure size 1080x1080 with 1 Axes>"
      ]
     },
     "metadata": {
      "needs_background": "light"
     },
     "output_type": "display_data"
    }
   ],
   "source": [
    "feature_importance = rand_clf2.feature_importances_\n",
    "# make importances relative to max importance\n",
    "feature_importance = 100.0 * (feature_importance / feature_importance.max())[:59]\n",
    "sorted_idx = np.argsort(feature_importance)[:59]\n",
    "\n",
    "pos = np.arange(sorted_idx.shape[0]) + .5\n",
    "print(pos.size)\n",
    "sorted_idx.size\n",
    "plt.figure(figsize=(15,15))\n",
    "plt.barh(pos, feature_importance[sorted_idx], align='center')\n",
    "plt.yticks(pos, X.columns[sorted_idx])\n",
    "plt.xlabel('Relative Importance')\n",
    "plt.title('Variable Importance')\n",
    "plt.show()"
   ]
  },
  {
   "cell_type": "markdown",
   "metadata": {},
   "source": [
    "<B>Plot ROC Curve for Random Forest"
   ]
  },
  {
   "cell_type": "code",
   "execution_count": 55,
   "metadata": {},
   "outputs": [
    {
     "data": {
      "image/png": "[encoded data removed]",
      "text/plain": [
       "<Figure size 432x432 with 1 Axes>"
      ]
     },
     "metadata": {
      "needs_background": "light"
     },
     "output_type": "display_data"
    }
   ],
   "source": [
    "fig, ax = plt.subplots(figsize = (6,6))\n",
    "probs = rand_clf2.predict_proba(X_test)\n",
    "preds = probs[:,1]\n",
    "fprrfc, tprrfc, thresholdrfc = metrics.roc_curve(y_test, preds)\n",
    "roc_aucrfc = metrics.auc(fprrfc, tprrfc)\n",
    "\n",
    "ax.plot(fprrfc, tprrfc, 'b', label = 'AUC = %0.2f' % roc_aucrfc)\n",
    "ax.plot([0, 1], [0, 1],'r--')\n",
    "ax.set_title('Receiver Operating Characteristic Random Forest ',fontsize=20)\n",
    "ax.set_ylabel('True Positive Rate',fontsize=20)\n",
    "ax.set_xlabel('False Positive Rate',fontsize=15)\n",
    "ax.legend(loc = 'lower right', prop={'size': 16})\n",
    "\n",
    "plt.subplots_adjust(wspace=1)"
   ]
  },
  {
   "cell_type": "code",
   "execution_count": 56,
   "metadata": {},
   "outputs": [
    {
     "name": "stdout",
     "output_type": "stream",
     "text": [
      "AUC: 0.7820243975092069\n"
     ]
    }
   ],
   "source": [
    "#Get the AUC score\n",
    "print(\"AUC: {}\".format(roc_auc_score(y_test, preds)))"
   ]
  },
  {
   "cell_type": "code",
   "execution_count": 57,
   "metadata": {},
   "outputs": [
    {
     "data": {
      "image/png": "[encoded data removed]",
      "text/plain": [
       "<Figure size 432x288 with 1 Axes>"
      ]
     },
     "metadata": {
      "needs_background": "light"
     },
     "output_type": "display_data"
    }
   ],
   "source": [
    "disp=plot_precision_recall_curve(rand_clf2, X_test, y_test)"
   ]
  },
  {
   "cell_type": "code",
   "execution_count": 58,
   "metadata": {},
   "outputs": [
    {
     "name": "stdout",
     "output_type": "stream",
     "text": [
      "Logistic: f1=0.372 auc=0.420\n"
     ]
    },
    {
     "data": {
      "image/png": "[encoded data removed]",
      "text/plain": [
       "<Figure size 432x288 with 1 Axes>"
      ]
     },
     "metadata": {
      "needs_background": "light"
     },
     "output_type": "display_data"
    }
   ],
   "source": [
    "lr_probs=rand_clf2.predict_proba(X_test)[:,1]\n",
    "lr_precision, lr_recall, _ = precision_recall_curve(y_test, lr_probs)\n",
    "lr_f1, lr_auc = f1_score(y_test, y_pred), auc(lr_recall,lr_precision)\n",
    "print('Logistic: f1=%.3f auc=%.3f' % (lr_f1, lr_auc))\n",
    "# plot the precision-recall curves\n",
    "no_skill = len(y_test[y_test==1]) / len(y_test)\n",
    "plt.plot([0, 1], [no_skill, no_skill], linestyle='--', label='No Skill')\n",
    "plt.plot(lr_recall,lr_precision, marker='.', label='Logistic')\n",
    "# axis labels\n",
    "plt.xlabel('Recall')\n",
    "plt.ylabel('Precision')\n",
    "# show the legend\n",
    "plt.legend()\n",
    "# show the plot\n",
    "plt.show()"
   ]
  },
  {
   "cell_type": "code",
   "execution_count": 59,
   "metadata": {},
   "outputs": [
    {
     "name": "stdout",
     "output_type": "stream",
     "text": [
      "Accuracy Score by after balancing the data and using Random Forest 0.8740506953348457\n"
     ]
    }
   ],
   "source": [
    "#update the threshold and then predict the value\n",
    "THRESHOLD = 0.30\n",
    "#y_pred=clf.predict(X_test)\n",
    "y_pred=np.where(rand_clf2.predict_proba(X_test)[:,1] > THRESHOLD, 1, 0)\n",
    "print('Accuracy Score by after balancing the data and using Random Forest',accuracy_score(y_pred, y_test))"
   ]
  },
  {
   "cell_type": "code",
   "execution_count": 60,
   "metadata": {},
   "outputs": [
    {
     "name": "stdout",
     "output_type": "stream",
     "text": [
      "[[8323  693]\n",
      " [ 584  539]]\n"
     ]
    }
   ],
   "source": [
    "cm = confusion_matrix(y_test, y_pred)\n",
    "print(cm)"
   ]
  },
  {
   "cell_type": "code",
   "execution_count": 61,
   "metadata": {},
   "outputs": [
    {
     "name": "stdout",
     "output_type": "stream",
     "text": [
      "Classifiaction Report after balancing the data and using Random Forest\n",
      "               precision    recall  f1-score   support\n",
      "\n",
      "           0       0.93      0.92      0.93      9016\n",
      "           1       0.44      0.48      0.46      1123\n",
      "\n",
      "    accuracy                           0.87     10139\n",
      "   macro avg       0.69      0.70      0.69     10139\n",
      "weighted avg       0.88      0.87      0.88     10139\n",
      "\n"
     ]
    }
   ],
   "source": [
    "print('Classifiaction Report after balancing the data and using Random Forest\\n',\n",
    "      classification_report(y_test, y_pred))"
   ]
  },
  {
   "cell_type": "markdown",
   "metadata": {},
   "source": [
    "<B>Logistic Regression (updated class weight) </B>"
   ]
  },
  {
   "cell_type": "code",
   "execution_count": 62,
   "metadata": {},
   "outputs": [
    {
     "name": "stdout",
     "output_type": "stream",
     "text": [
      "Accuracy Score with scaling the data and using Logistic Regression 0.8247361672748792\n"
     ]
    }
   ],
   "source": [
    "lr_clf2 = LogisticRegression(class_weight={0:0.56365827,1:4.4272198},max_iter=1000)\n",
    "# Fit the model on the trainng data.\n",
    "lr_clf2.fit(X_train, y_train)\n",
    "y_pred=lr_clf2.predict(X_test)\n",
    "# Print the accuracy from the testing data.\n",
    "print('Accuracy Score with scaling the data and using Logistic Regression',accuracy_score(y_pred, y_test))"
   ]
  },
  {
   "cell_type": "code",
   "execution_count": 63,
   "metadata": {},
   "outputs": [
    {
     "name": "stdout",
     "output_type": "stream",
     "text": [
      "Confusion Matrix after updating class weight and using Logistic Regression\n",
      " [[7612 1404]\n",
      " [ 373  750]]\n"
     ]
    }
   ],
   "source": [
    "cm = confusion_matrix(y_test, y_pred)\n",
    "print('Confusion Matrix after updating class weight and using Logistic Regression\\n',cm)"
   ]
  },
  {
   "cell_type": "code",
   "execution_count": 64,
   "metadata": {},
   "outputs": [
    {
     "name": "stdout",
     "output_type": "stream",
     "text": [
      "Classifiaction Report after balancing the data and using Random Forest\n",
      "               precision    recall  f1-score   support\n",
      "\n",
      "           0       0.95      0.84      0.90      9016\n",
      "           1       0.35      0.67      0.46      1123\n",
      "\n",
      "    accuracy                           0.82     10139\n",
      "   macro avg       0.65      0.76      0.68     10139\n",
      "weighted avg       0.89      0.82      0.85     10139\n",
      "\n"
     ]
    }
   ],
   "source": [
    "print('Classifiaction Report after balancing the data and using Random Forest\\n',\n",
    "      classification_report(y_test, y_pred))"
   ]
  },
  {
   "cell_type": "code",
   "execution_count": 65,
   "metadata": {},
   "outputs": [
    {
     "name": "stdout",
     "output_type": "stream",
     "text": [
      "51\n"
     ]
    },
    {
     "data": {
      "image/png": "[encoded data removed]",
      "text/plain": [
       "<Figure size 1080x1080 with 1 Axes>"
      ]
     },
     "metadata": {
      "needs_background": "light"
     },
     "output_type": "display_data"
    }
   ],
   "source": [
    "feature_importance = lr_clf2.coef_[0]\n",
    "feature_importance = 100.0 * (feature_importance / feature_importance.max())[:59]\n",
    "sorted_idx = np.argsort(feature_importance)[:59]\n",
    "\n",
    "pos = np.arange(sorted_idx.shape[0]) + .5\n",
    "print(pos.size)\n",
    "sorted_idx.size\n",
    "plt.figure(figsize=(15,15))\n",
    "plt.barh(pos, feature_importance[sorted_idx], align='center')\n",
    "plt.yticks(pos, X.columns[sorted_idx])\n",
    "plt.xlabel('Relative Importance')\n",
    "plt.title('Variable Importance')\n",
    "plt.show()"
   ]
  },
  {
   "cell_type": "markdown",
   "metadata": {},
   "source": [
    "<B>Plot Ruc Curve for Logistic Regression"
   ]
  },
  {
   "cell_type": "code",
   "execution_count": 66,
   "metadata": {},
   "outputs": [
    {
     "name": "stdout",
     "output_type": "stream",
     "text": [
      "AUC: 0.8118903684436336\n"
     ]
    },
    {
     "data": {
      "image/png": "[encoded data removed]",
      "text/plain": [
       "<Figure size 432x432 with 1 Axes>"
      ]
     },
     "metadata": {
      "needs_background": "light"
     },
     "output_type": "display_data"
    }
   ],
   "source": [
    "fig, ax = plt.subplots(figsize = (6,6))\n",
    "probs = lr_clf2.predict_proba(X_test)\n",
    "preds = probs[:,1]\n",
    "fprrfc, tprrfc, thresholdrfc = metrics.roc_curve(y_test, preds)\n",
    "roc_aucrfc = metrics.auc(fprrfc, tprrfc)\n",
    "\n",
    "ax.plot(fprrfc, tprrfc, 'b', label = 'AUC = %0.2f' % roc_aucrfc)\n",
    "ax.plot([0, 1], [0, 1],'r--')\n",
    "ax.set_title('Receiver Operating Characteristic Logistic Regression ',fontsize=20)\n",
    "ax.set_ylabel('True Positive Rate',fontsize=20)\n",
    "ax.set_xlabel('False Positive Rate',fontsize=15)\n",
    "ax.legend(loc = 'lower right', prop={'size': 16})\n",
    "#Get the AUC score\n",
    "print(\"AUC: {}\".format(roc_auc_score(y_test, preds)))\n",
    "plt.subplots_adjust(wspace=1)"
   ]
  },
  {
   "cell_type": "code",
   "execution_count": 67,
   "metadata": {},
   "outputs": [
    {
     "name": "stdout",
     "output_type": "stream",
     "text": [
      "Logistic: f1=0.458 auc=0.481\n"
     ]
    },
    {
     "data": {
      "image/png": "[encoded data removed]",
      "text/plain": [
       "<Figure size 432x288 with 1 Axes>"
      ]
     },
     "metadata": {
      "needs_background": "light"
     },
     "output_type": "display_data"
    }
   ],
   "source": [
    "lr_probs=lr_clf2.predict_proba(X_test)[:,1]\n",
    "lr_precision, lr_recall, _ = precision_recall_curve(y_test, lr_probs)\n",
    "lr_f1, lr_auc = f1_score(y_test, y_pred), auc(lr_recall,lr_precision)\n",
    "print('Logistic: f1=%.3f auc=%.3f' % (lr_f1, lr_auc))\n",
    "# plot the precision-recall curves\n",
    "no_skill = len(y_test[y_test==1]) / len(y_test)\n",
    "plt.plot([0, 1], [no_skill, no_skill], linestyle='--', label='No Skill')\n",
    "plt.plot(lr_recall,lr_precision, marker='.', label='Logistic')\n",
    "# axis labels\n",
    "plt.xlabel('Recall')\n",
    "plt.ylabel('Precision')\n",
    "# show the legend\n",
    "plt.legend()\n",
    "# show the plot\n",
    "plt.show()"
   ]
  },
  {
   "cell_type": "code",
   "execution_count": 68,
   "metadata": {},
   "outputs": [
    {
     "name": "stdout",
     "output_type": "stream",
     "text": [
      "Accuracy Score by after balancing the data and using Logistic Regression 0.8719794851563271\n"
     ]
    }
   ],
   "source": [
    "#update the threshold and then predict the value\n",
    "THRESHOLD = 0.65\n",
    "#y_pred=clf.predict(X_test)\n",
    "y_pred=np.where(lr_clf2.predict_proba(X_test)[:,1] > THRESHOLD, 1, 0)\n",
    "print('Accuracy Score by after balancing the data and using Logistic Regression',accuracy_score(y_pred, y_test))"
   ]
  },
  {
   "cell_type": "code",
   "execution_count": 69,
   "metadata": {},
   "outputs": [
    {
     "name": "stdout",
     "output_type": "stream",
     "text": [
      "[[8171  845]\n",
      " [ 453  670]]\n"
     ]
    }
   ],
   "source": [
    "cm = confusion_matrix(y_test, y_pred)\n",
    "print(cm)"
   ]
  },
  {
   "cell_type": "code",
   "execution_count": 70,
   "metadata": {},
   "outputs": [
    {
     "name": "stdout",
     "output_type": "stream",
     "text": [
      "Classifiaction Report after balancing the data and using Logistic Regression\n",
      "               precision    recall  f1-score   support\n",
      "\n",
      "           0       0.95      0.91      0.93      9016\n",
      "           1       0.44      0.60      0.51      1123\n",
      "\n",
      "    accuracy                           0.87     10139\n",
      "   macro avg       0.69      0.75      0.72     10139\n",
      "weighted avg       0.89      0.87      0.88     10139\n",
      "\n"
     ]
    }
   ],
   "source": [
    "print('Classifiaction Report after balancing the data and using Logistic Regression\\n',\n",
    "      classification_report(y_test, y_pred))"
   ]
  },
  {
   "cell_type": "markdown",
   "metadata": {},
   "source": [
    "<B>SVM (updated class weight) </B>"
   ]
  },
  {
   "cell_type": "code",
   "execution_count": 71,
   "metadata": {},
   "outputs": [
    {
     "name": "stdout",
     "output_type": "stream",
     "text": [
      "Accuracy Score of SVM is 0.8054048722753723\n"
     ]
    }
   ],
   "source": [
    "clf_svm1 = svm(class_weight={0:0.56365827,1:4.4272198})\n",
    "clf_svm1.fit(X_train, y_train)\n",
    "y_pred=clf_svm1.predict(X_test)\n",
    "print('Accuracy Score of SVM is',accuracy_score(y_pred, y_test))"
   ]
  },
  {
   "cell_type": "code",
   "execution_count": 72,
   "metadata": {},
   "outputs": [
    {
     "name": "stdout",
     "output_type": "stream",
     "text": [
      "Confusion Matrix after updating class weight and using SVM\n",
      " [[7440 1576]\n",
      " [ 397  726]]\n"
     ]
    }
   ],
   "source": [
    "cm = confusion_matrix(y_test, y_pred)\n",
    "print('Confusion Matrix after updating class weight and using SVM\\n',cm)"
   ]
  },
  {
   "cell_type": "code",
   "execution_count": 73,
   "metadata": {},
   "outputs": [
    {
     "name": "stdout",
     "output_type": "stream",
     "text": [
      "Classifiaction Report after balancing the data and using Random Forest\n",
      "               precision    recall  f1-score   support\n",
      "\n",
      "           0       0.95      0.83      0.88      9016\n",
      "           1       0.32      0.65      0.42      1123\n",
      "\n",
      "    accuracy                           0.81     10139\n",
      "   macro avg       0.63      0.74      0.65     10139\n",
      "weighted avg       0.88      0.81      0.83     10139\n",
      "\n"
     ]
    }
   ],
   "source": [
    "print('Classifiaction Report after balancing the data and using Random Forest\\n',\n",
    "      classification_report(y_test, y_pred))"
   ]
  },
  {
   "cell_type": "markdown",
   "metadata": {},
   "source": [
    "<B>Ridge Rigression (updating class weight)"
   ]
  },
  {
   "cell_type": "code",
   "execution_count": 74,
   "metadata": {},
   "outputs": [
    {
     "name": "stdout",
     "output_type": "stream",
     "text": [
      "Accuracy Score of Ridge Regression is 0.8129993095966072\n"
     ]
    }
   ],
   "source": [
    "ridge=RidgeClassifier(class_weight={0:0.56365827,1:4.4272198})\n",
    "ridge.fit(X_train, y_train)\n",
    "y_pred=ridge.predict(X_test)\n",
    "print('Accuracy Score of Ridge Regression is',accuracy_score(y_pred, y_test))"
   ]
  },
  {
   "cell_type": "code",
   "execution_count": 75,
   "metadata": {},
   "outputs": [
    {
     "name": "stdout",
     "output_type": "stream",
     "text": [
      "[[7486 1530]\n",
      " [ 366  757]]\n"
     ]
    }
   ],
   "source": [
    "cm = confusion_matrix(y_test, y_pred)\n",
    "print(cm)"
   ]
  },
  {
   "cell_type": "code",
   "execution_count": 76,
   "metadata": {},
   "outputs": [
    {
     "name": "stdout",
     "output_type": "stream",
     "text": [
      "Classifiaction Report after balancing the data and using Random Forest\n",
      "               precision    recall  f1-score   support\n",
      "\n",
      "           0       0.95      0.83      0.89      9016\n",
      "           1       0.33      0.67      0.44      1123\n",
      "\n",
      "    accuracy                           0.81     10139\n",
      "   macro avg       0.64      0.75      0.67     10139\n",
      "weighted avg       0.88      0.81      0.84     10139\n",
      "\n"
     ]
    }
   ],
   "source": [
    "print('Classifiaction Report after balancing the data and using Random Forest\\n',\n",
    "      classification_report(y_test, y_pred))"
   ]
  },
  {
   "cell_type": "markdown",
   "metadata": {},
   "source": [
    "<B>Use Xgboost by balancing data</B>"
   ]
  },
  {
   "cell_type": "code",
   "execution_count": 77,
   "metadata": {},
   "outputs": [],
   "source": [
    "from xgboost import XGBClassifier\n",
    "scale_pos_weight = 26980/3435\n",
    "gbc = XGBClassifier(scale_pos_weight=scale_pos_weight)"
   ]
  },
  {
   "cell_type": "code",
   "execution_count": 78,
   "metadata": {},
   "outputs": [
    {
     "name": "stdout",
     "output_type": "stream",
     "text": [
      "Accuracy Score of Xgboost is 0.830949797810435\n"
     ]
    }
   ],
   "source": [
    "gbc.fit(X_train, y_train)\n",
    "y_pred=gbc.predict(X_test)\n",
    "print('Accuracy Score of Xgboost is',accuracy_score(y_pred, y_test))"
   ]
  },
  {
   "cell_type": "code",
   "execution_count": 79,
   "metadata": {},
   "outputs": [
    {
     "name": "stdout",
     "output_type": "stream",
     "text": [
      "Confusion Matrix after updating class weight and using Xgboost\n",
      " [[7675 1341]\n",
      " [ 373  750]]\n"
     ]
    }
   ],
   "source": [
    "cm = confusion_matrix(y_test, y_pred)\n",
    "print('Confusion Matrix after updating class weight and using Xgboost\\n',cm)"
   ]
  },
  {
   "cell_type": "code",
   "execution_count": 80,
   "metadata": {},
   "outputs": [
    {
     "name": "stdout",
     "output_type": "stream",
     "text": [
      "Classifiaction Report after balancing the data and using Xgboost\n",
      "               precision    recall  f1-score   support\n",
      "\n",
      "           0       0.95      0.85      0.90      9016\n",
      "           1       0.36      0.67      0.47      1123\n",
      "\n",
      "    accuracy                           0.83     10139\n",
      "   macro avg       0.66      0.76      0.68     10139\n",
      "weighted avg       0.89      0.83      0.85     10139\n",
      "\n"
     ]
    }
   ],
   "source": [
    "print('Classifiaction Report after balancing the data and using Xgboost\\n',\n",
    "      classification_report(y_test, y_pred))"
   ]
  },
  {
   "cell_type": "code",
   "execution_count": 81,
   "metadata": {},
   "outputs": [
    {
     "data": {
      "image/png": "[encoded data removed]",
      "text/plain": [
       "<Figure size 432x288 with 1 Axes>"
      ]
     },
     "metadata": {
      "needs_background": "light"
     },
     "output_type": "display_data"
    }
   ],
   "source": [
    "disp=plot_precision_recall_curve(gbc, X_test, y_test)"
   ]
  },
  {
   "cell_type": "markdown",
   "metadata": {},
   "source": [
    "<B>OverSampling\n",
    "    <ul><li>Random Forest\n",
    "    <li>Logistic Regression \n",
    "    <li>SVM  \n",
    "    <li>Ridge Rigression \n",
    "    <li>XG Boost"
   ]
  },
  {
   "cell_type": "code",
   "execution_count": 82,
   "metadata": {},
   "outputs": [
    {
     "name": "stdout",
     "output_type": "stream",
     "text": [
      "0    26980\n",
      "1     3435\n",
      "Name: y, dtype: int64\n"
     ]
    }
   ],
   "source": [
    "#In Oversampling size of data gets changed, therefore get initial value counts in y_train and take backup of the values\n",
    "print(y_train.value_counts())\n",
    "X_train1=X_train\n",
    "y_train1=y_train"
   ]
  },
  {
   "cell_type": "code",
   "execution_count": 83,
   "metadata": {},
   "outputs": [],
   "source": [
    "#TO balance data, update traing set with SMOTE method\n",
    "from imblearn.over_sampling import SMOTE\n",
    "sm = SMOTE(random_state=27, sampling_strategy=1.0)\n",
    "X_train, y_train = sm.fit_resample(X_train,y_train)"
   ]
  },
  {
   "cell_type": "code",
   "execution_count": 84,
   "metadata": {},
   "outputs": [
    {
     "data": {
      "text/plain": [
       "1    26980\n",
       "0    26980\n",
       "Name: y, dtype: int64"
      ]
     },
     "execution_count": 84,
     "metadata": {},
     "output_type": "execute_result"
    }
   ],
   "source": [
    "#Get updated counts of the data\n",
    "y_train.value_counts()"
   ]
  },
  {
   "cell_type": "markdown",
   "metadata": {},
   "source": [
    "<B>Random Forest (Oversampling)"
   ]
  },
  {
   "cell_type": "code",
   "execution_count": 85,
   "metadata": {},
   "outputs": [
    {
     "name": "stdout",
     "output_type": "stream",
     "text": [
      "Accuracy Score of Random Forest is 0.8870697307426768\n"
     ]
    }
   ],
   "source": [
    "rand_clf2= RandomForestClassifier()\n",
    "rand_clf2.fit(X_train, y_train)\n",
    "# Print the accuracy from the testing data.\n",
    "y_pred=rand_clf2.predict(X_test)\n",
    "print('Accuracy Score of Random Forest is',accuracy_score(y_pred, y_test))"
   ]
  },
  {
   "cell_type": "code",
   "execution_count": 86,
   "metadata": {},
   "outputs": [
    {
     "name": "stdout",
     "output_type": "stream",
     "text": [
      "[[8599  417]\n",
      " [ 728  395]]\n",
      "Classifiaction Report after balancing the data and using Random Forest\n",
      "               precision    recall  f1-score   support\n",
      "\n",
      "           0       0.92      0.95      0.94      9016\n",
      "           1       0.49      0.35      0.41      1123\n",
      "\n",
      "    accuracy                           0.89     10139\n",
      "   macro avg       0.70      0.65      0.67     10139\n",
      "weighted avg       0.87      0.89      0.88     10139\n",
      "\n"
     ]
    }
   ],
   "source": [
    "cm = confusion_matrix(y_test, y_pred)\n",
    "print(cm)\n",
    "\n",
    "print('Classifiaction Report after balancing the data and using Random Forest\\n',\n",
    "      classification_report(y_test, y_pred))"
   ]
  },
  {
   "cell_type": "code",
   "execution_count": 87,
   "metadata": {},
   "outputs": [
    {
     "name": "stdout",
     "output_type": "stream",
     "text": [
      "51\n"
     ]
    },
    {
     "data": {
      "image/png": "[encoded data removed]",
      "text/plain": [
       "<Figure size 1080x1080 with 1 Axes>"
      ]
     },
     "metadata": {
      "needs_background": "light"
     },
     "output_type": "display_data"
    }
   ],
   "source": [
    "feature_importance = rand_clf2.feature_importances_\n",
    "# make importances relative to max importance\n",
    "feature_importance = 100.0 * (feature_importance / feature_importance.max())[:59]\n",
    "sorted_idx = np.argsort(feature_importance)[:59]\n",
    "\n",
    "pos = np.arange(sorted_idx.shape[0]) + .5\n",
    "print(pos.size)\n",
    "sorted_idx.size\n",
    "plt.figure(figsize=(15,15))\n",
    "plt.barh(pos, feature_importance[sorted_idx], align='center')\n",
    "plt.yticks(pos, X.columns[sorted_idx])\n",
    "plt.xlabel('Relative Importance')\n",
    "plt.title('Variable Importance')\n",
    "plt.show()"
   ]
  },
  {
   "cell_type": "code",
   "execution_count": 88,
   "metadata": {},
   "outputs": [
    {
     "data": {
      "image/png": "[encoded data removed]",
      "text/plain": [
       "<Figure size 432x432 with 1 Axes>"
      ]
     },
     "metadata": {
      "needs_background": "light"
     },
     "output_type": "display_data"
    }
   ],
   "source": [
    "fig, ax = plt.subplots(figsize = (6,6))\n",
    "probs = rand_clf2.predict_proba(X_test)\n",
    "preds = probs[:,1]\n",
    "fprrfc, tprrfc, thresholdrfc = metrics.roc_curve(y_test, preds)\n",
    "roc_aucrfc = metrics.auc(fprrfc, tprrfc)\n",
    "\n",
    "ax.plot(fprrfc, tprrfc, 'b', label = 'AUC = %0.2f' % roc_aucrfc)\n",
    "ax.plot([0, 1], [0, 1],'r--')\n",
    "ax.set_title('Receiver Operating Characteristic Random Forest ',fontsize=20)\n",
    "ax.set_ylabel('True Positive Rate',fontsize=20)\n",
    "ax.set_xlabel('False Positive Rate',fontsize=15)\n",
    "ax.legend(loc = 'lower right', prop={'size': 16})\n",
    "\n",
    "plt.subplots_adjust(wspace=1)"
   ]
  },
  {
   "cell_type": "code",
   "execution_count": 89,
   "metadata": {},
   "outputs": [
    {
     "name": "stdout",
     "output_type": "stream",
     "text": [
      "AUC: 0.7830449439445142\n"
     ]
    }
   ],
   "source": [
    "#Get the AUC score\n",
    "print(\"AUC: {}\".format(roc_auc_score(y_test, preds)))"
   ]
  },
  {
   "cell_type": "code",
   "execution_count": 90,
   "metadata": {},
   "outputs": [
    {
     "name": "stdout",
     "output_type": "stream",
     "text": [
      "Logistic: f1=0.408 auc=0.404\n"
     ]
    },
    {
     "data": {
      "image/png": "[encoded data removed]",
      "text/plain": [
       "<Figure size 432x288 with 1 Axes>"
      ]
     },
     "metadata": {
      "needs_background": "light"
     },
     "output_type": "display_data"
    }
   ],
   "source": [
    "disp=plot_precision_recall_curve(rand_clf2, X_test, y_test)\n",
    "\n",
    "lr_probs=rand_clf2.predict_proba(X_test)[:,1]\n",
    "lr_precision, lr_recall, _ = precision_recall_curve(y_test, lr_probs)\n",
    "lr_f1, lr_auc = f1_score(y_test, y_pred), auc(lr_recall,lr_precision)\n",
    "print('Logistic: f1=%.3f auc=%.3f' % (lr_f1, lr_auc))\n",
    "# plot the precision-recall curves\n",
    "no_skill = len(y_test[y_test==1]) / len(y_test)\n",
    "plt.plot([0, 1], [no_skill, no_skill], linestyle='--', label='No Skill')\n",
    "plt.plot(lr_recall,lr_precision, marker='.', label='Random Forest')\n",
    "# axis labels\n",
    "plt.xlabel('Recall')\n",
    "plt.ylabel('Precision')\n",
    "# show the legend\n",
    "plt.legend()\n",
    "# show the plot\n",
    "plt.show()"
   ]
  },
  {
   "cell_type": "code",
   "execution_count": 91,
   "metadata": {},
   "outputs": [
    {
     "name": "stdout",
     "output_type": "stream",
     "text": [
      "Accuracy Score by after balancing the data and using Random Forest 0.8768123089062038\n",
      "[[8396  620]\n",
      " [ 629  494]]\n",
      "Classifiaction Report after balancing the data and using Random Forest\n",
      "               precision    recall  f1-score   support\n",
      "\n",
      "           0       0.93      0.93      0.93      9016\n",
      "           1       0.44      0.44      0.44      1123\n",
      "\n",
      "    accuracy                           0.88     10139\n",
      "   macro avg       0.69      0.69      0.69     10139\n",
      "weighted avg       0.88      0.88      0.88     10139\n",
      "\n"
     ]
    }
   ],
   "source": [
    "#update the threshold and then predict the value\n",
    "THRESHOLD = 0.40\n",
    "#y_pred=clf.predict(X_test)\n",
    "y_pred=np.where(rand_clf2.predict_proba(X_test)[:,1] > THRESHOLD, 1, 0)\n",
    "print('Accuracy Score by after balancing the data and using Random Forest',accuracy_score(y_pred, y_test))\n",
    "\n",
    "cm = confusion_matrix(y_test, y_pred)\n",
    "print(cm)\n",
    "\n",
    "print('Classifiaction Report after balancing the data and using Random Forest\\n',\n",
    "      classification_report(y_test, y_pred))"
   ]
  },
  {
   "cell_type": "markdown",
   "metadata": {},
   "source": [
    "<B>Logistic Regression (Oversampling)"
   ]
  },
  {
   "cell_type": "code",
   "execution_count": 92,
   "metadata": {},
   "outputs": [
    {
     "name": "stdout",
     "output_type": "stream",
     "text": [
      "Accuracy Score with scaling the data and using Logistic Regression 0.8125061643160075\n",
      "Confusion Matrix after updating class weight and using Logistic Regression\n",
      " [[7485 1531]\n",
      " [ 370  753]]\n",
      "Classifiaction Report after balancing the data and using Random Forest\n",
      "               precision    recall  f1-score   support\n",
      "\n",
      "           0       0.95      0.83      0.89      9016\n",
      "           1       0.33      0.67      0.44      1123\n",
      "\n",
      "    accuracy                           0.81     10139\n",
      "   macro avg       0.64      0.75      0.66     10139\n",
      "weighted avg       0.88      0.81      0.84     10139\n",
      "\n"
     ]
    }
   ],
   "source": [
    "lr_clf2 = LogisticRegression()\n",
    "# Fit the model on the trainng data.\n",
    "lr_clf2.fit(X_train, y_train)\n",
    "y_pred=lr_clf2.predict(X_test)\n",
    "# Print the accuracy from the testing data.\n",
    "print('Accuracy Score with scaling the data and using Logistic Regression',accuracy_score(y_pred, y_test))\n",
    "\n",
    "cm = confusion_matrix(y_test, y_pred)\n",
    "print('Confusion Matrix after updating class weight and using Logistic Regression\\n',cm)\n",
    "\n",
    "print('Classifiaction Report after balancing the data and using Random Forest\\n',\n",
    "      classification_report(y_test, y_pred))"
   ]
  },
  {
   "cell_type": "code",
   "execution_count": 93,
   "metadata": {},
   "outputs": [
    {
     "name": "stdout",
     "output_type": "stream",
     "text": [
      "AUC: 0.8086044321325263\n"
     ]
    },
    {
     "data": {
      "image/png": "[encoded data removed]",
      "text/plain": [
       "<Figure size 432x432 with 1 Axes>"
      ]
     },
     "metadata": {
      "needs_background": "light"
     },
     "output_type": "display_data"
    }
   ],
   "source": [
    "fig, ax = plt.subplots(figsize = (6,6))\n",
    "probs = lr_clf2.predict_proba(X_test)\n",
    "preds = probs[:,1]\n",
    "fprrfc, tprrfc, thresholdrfc = metrics.roc_curve(y_test, preds)\n",
    "roc_aucrfc = metrics.auc(fprrfc, tprrfc)\n",
    "\n",
    "ax.plot(fprrfc, tprrfc, 'b', label = 'AUC = %0.2f' % roc_aucrfc)\n",
    "ax.plot([0, 1], [0, 1],'r--')\n",
    "ax.set_title('Receiver Operating Characteristic Logistic Regression ',fontsize=20)\n",
    "ax.set_ylabel('True Positive Rate',fontsize=20)\n",
    "ax.set_xlabel('False Positive Rate',fontsize=15)\n",
    "ax.legend(loc = 'lower right', prop={'size': 16})\n",
    "#Get the AUC score\n",
    "print(\"AUC: {}\".format(roc_auc_score(y_test, preds)))\n",
    "plt.subplots_adjust(wspace=1)"
   ]
  },
  {
   "cell_type": "code",
   "execution_count": 94,
   "metadata": {},
   "outputs": [
    {
     "name": "stdout",
     "output_type": "stream",
     "text": [
      "Logistic: f1=0.442 auc=0.480\n"
     ]
    },
    {
     "data": {
      "image/png": "[encoded data removed]",
      "text/plain": [
       "<Figure size 432x288 with 1 Axes>"
      ]
     },
     "metadata": {
      "needs_background": "light"
     },
     "output_type": "display_data"
    }
   ],
   "source": [
    "lr_probs=lr_clf2.predict_proba(X_test)[:,1]\n",
    "lr_precision, lr_recall, _ = precision_recall_curve(y_test, lr_probs)\n",
    "lr_f1, lr_auc = f1_score(y_test, y_pred), auc(lr_recall,lr_precision)\n",
    "print('Logistic: f1=%.3f auc=%.3f' % (lr_f1, lr_auc))\n",
    "# plot the precision-recall curves\n",
    "no_skill = len(y_test[y_test==1]) / len(y_test)\n",
    "plt.plot([0, 1], [no_skill, no_skill], linestyle='--', label='No Skill')\n",
    "plt.plot(lr_recall,lr_precision, marker='.', label='Logistic')\n",
    "# axis labels\n",
    "plt.xlabel('Recall')\n",
    "plt.ylabel('Precision')\n",
    "# show the legend\n",
    "plt.legend()\n",
    "# show the plot\n",
    "plt.show()"
   ]
  },
  {
   "cell_type": "code",
   "execution_count": 95,
   "metadata": {},
   "outputs": [
    {
     "name": "stdout",
     "output_type": "stream",
     "text": [
      "Accuracy Score by after balancing the data and using Random Forest 0.8695137587533287\n",
      "[[8148  868]\n",
      " [ 455  668]]\n",
      "Classifiaction Report after balancing the data and using Random Forest\n",
      "               precision    recall  f1-score   support\n",
      "\n",
      "           0       0.95      0.90      0.92      9016\n",
      "           1       0.43      0.59      0.50      1123\n",
      "\n",
      "    accuracy                           0.87     10139\n",
      "   macro avg       0.69      0.75      0.71     10139\n",
      "weighted avg       0.89      0.87      0.88     10139\n",
      "\n"
     ]
    }
   ],
   "source": [
    "#update the threshold and then predict the value\n",
    "THRESHOLD = 0.65\n",
    "#y_pred=clf.predict(X_test)\n",
    "y_pred=np.where(lr_clf2.predict_proba(X_test)[:,1] > THRESHOLD, 1, 0)\n",
    "print('Accuracy Score by after balancing the data and using Random Forest',accuracy_score(y_pred, y_test))\n",
    "\n",
    "cm = confusion_matrix(y_test, y_pred)\n",
    "print(cm)\n",
    "\n",
    "print('Classifiaction Report after balancing the data and using Random Forest\\n',\n",
    "      classification_report(y_test, y_pred))"
   ]
  },
  {
   "cell_type": "markdown",
   "metadata": {},
   "source": [
    "<B>SVM (Oversampling)"
   ]
  },
  {
   "cell_type": "code",
   "execution_count": 96,
   "metadata": {},
   "outputs": [
    {
     "name": "stdout",
     "output_type": "stream",
     "text": [
      "Accuracy Score of SVM is 0.8091527764079298\n",
      "Confusion Matrix after updating class weight and using Logistic Regression\n",
      " [[7441 1575]\n",
      " [ 360  763]]\n",
      "Classifiaction Report after balancing the data and using Random Forest\n",
      "               precision    recall  f1-score   support\n",
      "\n",
      "           0       0.95      0.83      0.88      9016\n",
      "           1       0.33      0.68      0.44      1123\n",
      "\n",
      "    accuracy                           0.81     10139\n",
      "   macro avg       0.64      0.75      0.66     10139\n",
      "weighted avg       0.88      0.81      0.84     10139\n",
      "\n"
     ]
    }
   ],
   "source": [
    "clf_svm1 = svm()\n",
    "clf_svm1.fit(X_train, y_train)\n",
    "y_pred=clf_svm1.predict(X_test)\n",
    "print('Accuracy Score of SVM is',accuracy_score(y_pred, y_test))\n",
    "\n",
    "cm = confusion_matrix(y_test, y_pred)\n",
    "print('Confusion Matrix after updating class weight and using Logistic Regression\\n',cm)\n",
    "\n",
    "print('Classifiaction Report after balancing the data and using Random Forest\\n',\n",
    "      classification_report(y_test, y_pred))"
   ]
  },
  {
   "cell_type": "markdown",
   "metadata": {},
   "source": [
    "<B>Ridge Regression(Oversampling)"
   ]
  },
  {
   "cell_type": "code",
   "execution_count": 97,
   "metadata": {},
   "outputs": [
    {
     "name": "stdout",
     "output_type": "stream",
     "text": [
      "Accuracy Score of Ridge Regression is 0.8027418877601341\n",
      "[[7376 1640]\n",
      " [ 360  763]]\n",
      "Classifiaction Report after balancing the data using Oversampling and using Random Forest\n",
      "               precision    recall  f1-score   support\n",
      "\n",
      "           0       0.95      0.82      0.88      9016\n",
      "           1       0.32      0.68      0.43      1123\n",
      "\n",
      "    accuracy                           0.80     10139\n",
      "   macro avg       0.64      0.75      0.66     10139\n",
      "weighted avg       0.88      0.80      0.83     10139\n",
      "\n"
     ]
    }
   ],
   "source": [
    "ridge=RidgeClassifier()\n",
    "ridge.fit(X_train, y_train)\n",
    "y_pred=ridge.predict(X_test)\n",
    "print('Accuracy Score of Ridge Regression is',accuracy_score(y_pred, y_test))\n",
    "\n",
    "cm = confusion_matrix(y_test, y_pred)\n",
    "print(cm)\n",
    "\n",
    "print('Classifiaction Report after balancing the data using Oversampling and using Random Forest\\n',\n",
    "      classification_report(y_test, y_pred))"
   ]
  },
  {
   "cell_type": "markdown",
   "metadata": {},
   "source": [
    "<B>XGBoost (Oversampling)"
   ]
  },
  {
   "cell_type": "code",
   "execution_count": 98,
   "metadata": {},
   "outputs": [
    {
     "name": "stdout",
     "output_type": "stream",
     "text": [
      "Accuracy Score of Xgboost is 0.8920998126047933\n",
      "Confusion Matrix after updating class weight and using Xgboost\n",
      " [[8562  454]\n",
      " [ 640  483]]\n",
      "Classifiaction Report after balancing the data and using Xgboost\n",
      "               precision    recall  f1-score   support\n",
      "\n",
      "           0       0.93      0.95      0.94      9016\n",
      "           1       0.52      0.43      0.47      1123\n",
      "\n",
      "    accuracy                           0.89     10139\n",
      "   macro avg       0.72      0.69      0.70     10139\n",
      "weighted avg       0.88      0.89      0.89     10139\n",
      "\n"
     ]
    }
   ],
   "source": [
    "gbc = XGBClassifier()\n",
    "gbc.fit(X_train, y_train)\n",
    "y_pred=gbc.predict(X_test)\n",
    "print('Accuracy Score of Xgboost is',accuracy_score(y_pred, y_test))\n",
    "\n",
    "cm = confusion_matrix(y_test, y_pred)\n",
    "print('Confusion Matrix after updating class weight and using Xgboost\\n',cm)\n",
    "\n",
    "print('Classifiaction Report after balancing the data and using Xgboost\\n',\n",
    "      classification_report(y_test, y_pred))"
   ]
  },
  {
   "cell_type": "markdown",
   "metadata": {},
   "source": [
    "<H3><B>Undersampling\n",
    "    <ul><li>Random Forest\n",
    "    <li>Logistic Regression \n",
    "    <li>SVM  \n",
    "    <li>Ridge Rigression \n",
    "    <li>XG Boost"
   ]
  },
  {
   "cell_type": "code",
   "execution_count": 99,
   "metadata": {},
   "outputs": [
    {
     "data": {
      "text/plain": [
       "1    26980\n",
       "0    26980\n",
       "Name: y, dtype: int64"
      ]
     },
     "execution_count": 99,
     "metadata": {},
     "output_type": "execute_result"
    }
   ],
   "source": [
    "\n",
    "y_train.value_counts()"
   ]
  },
  {
   "cell_type": "code",
   "execution_count": 100,
   "metadata": {},
   "outputs": [
    {
     "data": {
      "text/plain": [
       "0    26980\n",
       "1     3435\n",
       "Name: y, dtype: int64"
      ]
     },
     "execution_count": 100,
     "metadata": {},
     "output_type": "execute_result"
    }
   ],
   "source": [
    "X_train=X_train1\n",
    "y_train=y_train1\n",
    "y_train.value_counts()"
   ]
  },
  {
   "cell_type": "code",
   "execution_count": 101,
   "metadata": {},
   "outputs": [],
   "source": [
    "from imblearn.under_sampling import RandomUnderSampler \n",
    "rus = RandomUnderSampler(random_state=42)\n",
    "X_train, y_train = rus.fit_resample(X_train, y_train)"
   ]
  },
  {
   "cell_type": "code",
   "execution_count": 102,
   "metadata": {},
   "outputs": [
    {
     "data": {
      "text/plain": [
       "1    3435\n",
       "0    3435\n",
       "Name: y, dtype: int64"
      ]
     },
     "execution_count": 102,
     "metadata": {},
     "output_type": "execute_result"
    }
   ],
   "source": [
    "y_train.value_counts()"
   ]
  },
  {
   "cell_type": "markdown",
   "metadata": {},
   "source": [
    "<B>Random Forest Classifier (Undersampling)"
   ]
  },
  {
   "cell_type": "code",
   "execution_count": 103,
   "metadata": {},
   "outputs": [
    {
     "name": "stdout",
     "output_type": "stream",
     "text": [
      "Accuracy Score of Random Forest is 0.7686162343426374\n",
      "[[7011 2005]\n",
      " [ 341  782]]\n",
      "Classifiaction Report after balancing the data and using Random Forest\n",
      "               precision    recall  f1-score   support\n",
      "\n",
      "           0       0.95      0.78      0.86      9016\n",
      "           1       0.28      0.70      0.40      1123\n",
      "\n",
      "    accuracy                           0.77     10139\n",
      "   macro avg       0.62      0.74      0.63     10139\n",
      "weighted avg       0.88      0.77      0.81     10139\n",
      "\n"
     ]
    }
   ],
   "source": [
    "rand_clf2= RandomForestClassifier()\n",
    "rand_clf2.fit(X_train, y_train)\n",
    "# Print the accuracy from the testing data.\n",
    "y_pred=rand_clf2.predict(X_test)\n",
    "print('Accuracy Score of Random Forest is',accuracy_score(y_pred, y_test))\n",
    "\n",
    "cm = confusion_matrix(y_test, y_pred)\n",
    "print(cm)\n",
    "\n",
    "print('Classifiaction Report after balancing the data and using Random Forest\\n',\n",
    "      classification_report(y_test, y_pred))"
   ]
  },
  {
   "cell_type": "code",
   "execution_count": 104,
   "metadata": {},
   "outputs": [
    {
     "data": {
      "image/png": "[encoded data removed]",
      "text/plain": [
       "<Figure size 432x432 with 1 Axes>"
      ]
     },
     "metadata": {
      "needs_background": "light"
     },
     "output_type": "display_data"
    }
   ],
   "source": [
    "fig, ax = plt.subplots(figsize = (6,6))\n",
    "probs = rand_clf2.predict_proba(X_test)\n",
    "preds = probs[:,1]\n",
    "fprrfc, tprrfc, thresholdrfc = metrics.roc_curve(y_test, preds)\n",
    "roc_aucrfc = metrics.auc(fprrfc, tprrfc)\n",
    "\n",
    "ax.plot(fprrfc, tprrfc, 'b', label = 'AUC = %0.2f' % roc_aucrfc)\n",
    "ax.plot([0, 1], [0, 1],'r--')\n",
    "ax.set_title('Receiver Operating Characteristic Random Forest ',fontsize=20)\n",
    "ax.set_ylabel('True Positive Rate',fontsize=20)\n",
    "ax.set_xlabel('False Positive Rate',fontsize=15)\n",
    "ax.legend(loc = 'lower right', prop={'size': 16})\n",
    "\n",
    "plt.subplots_adjust(wspace=1)"
   ]
  },
  {
   "cell_type": "code",
   "execution_count": 105,
   "metadata": {},
   "outputs": [
    {
     "name": "stdout",
     "output_type": "stream",
     "text": [
      "Accuracy Score by after balancing the data and using Random Forest 0.8277936680145971\n",
      "[[7694 1322]\n",
      " [ 424  699]]\n",
      "Classifiaction Report after balancing the data and using Random Forest\n",
      "               precision    recall  f1-score   support\n",
      "\n",
      "           0       0.95      0.85      0.90      9016\n",
      "           1       0.35      0.62      0.44      1123\n",
      "\n",
      "    accuracy                           0.83     10139\n",
      "   macro avg       0.65      0.74      0.67     10139\n",
      "weighted avg       0.88      0.83      0.85     10139\n",
      "\n"
     ]
    }
   ],
   "source": [
    "#update the threshold and then predict the value\n",
    "THRESHOLD = 0.60\n",
    "#y_pred=clf.predict(X_test)\n",
    "y_pred=np.where(rand_clf2.predict_proba(X_test)[:,1] > THRESHOLD, 1, 0)\n",
    "print('Accuracy Score by after balancing the data and using Random Forest',accuracy_score(y_pred, y_test))\n",
    "\n",
    "cm = confusion_matrix(y_test, y_pred)\n",
    "print(cm)\n",
    "\n",
    "print('Classifiaction Report after balancing the data and using Random Forest\\n',\n",
    "      classification_report(y_test, y_pred))"
   ]
  },
  {
   "cell_type": "markdown",
   "metadata": {},
   "source": [
    "<B>Logistic Regression (Undersampling)"
   ]
  },
  {
   "cell_type": "code",
   "execution_count": 106,
   "metadata": {},
   "outputs": [
    {
     "name": "stdout",
     "output_type": "stream",
     "text": [
      "Accuracy Score with scaling the data and using Logistic Regression 0.8185225367393234\n",
      "Confusion Matrix after updating class weight and using Logistic Regression\n",
      " [[7545 1471]\n",
      " [ 369  754]]\n",
      "Classifiaction Report after balancing the data and using Random Forest\n",
      "               precision    recall  f1-score   support\n",
      "\n",
      "           0       0.95      0.84      0.89      9016\n",
      "           1       0.34      0.67      0.45      1123\n",
      "\n",
      "    accuracy                           0.82     10139\n",
      "   macro avg       0.65      0.75      0.67     10139\n",
      "weighted avg       0.89      0.82      0.84     10139\n",
      "\n"
     ]
    }
   ],
   "source": [
    "lr_clf2 = LogisticRegression()\n",
    "# Fit the model on the trainng data.\n",
    "lr_clf2.fit(X_train, y_train)\n",
    "y_pred=lr_clf2.predict(X_test)\n",
    "# Print the accuracy from the testing data.\n",
    "print('Accuracy Score with scaling the data and using Logistic Regression',accuracy_score(y_pred, y_test))\n",
    "\n",
    "cm = confusion_matrix(y_test, y_pred)\n",
    "print('Confusion Matrix after updating class weight and using Logistic Regression\\n',cm)\n",
    "\n",
    "print('Classifiaction Report after balancing the data and using Random Forest\\n',\n",
    "      classification_report(y_test, y_pred))"
   ]
  },
  {
   "cell_type": "code",
   "execution_count": 107,
   "metadata": {},
   "outputs": [
    {
     "name": "stdout",
     "output_type": "stream",
     "text": [
      "AUC: 0.8087714450060484\n"
     ]
    },
    {
     "data": {
      "image/png": "[encoded data removed]",
      "text/plain": [
       "<Figure size 432x432 with 1 Axes>"
      ]
     },
     "metadata": {
      "needs_background": "light"
     },
     "output_type": "display_data"
    }
   ],
   "source": [
    "fig, ax = plt.subplots(figsize = (6,6))\n",
    "probs = lr_clf2.predict_proba(X_test)\n",
    "preds = probs[:,1]\n",
    "fprrfc, tprrfc, thresholdrfc = metrics.roc_curve(y_test, preds)\n",
    "roc_aucrfc = metrics.auc(fprrfc, tprrfc)\n",
    "\n",
    "ax.plot(fprrfc, tprrfc, 'b', label = 'AUC = %0.2f' % roc_aucrfc)\n",
    "ax.plot([0, 1], [0, 1],'r--')\n",
    "ax.set_title('Receiver Operating Characteristic Logistic Regression ',fontsize=20)\n",
    "ax.set_ylabel('True Positive Rate',fontsize=20)\n",
    "ax.set_xlabel('False Positive Rate',fontsize=15)\n",
    "ax.legend(loc = 'lower right', prop={'size': 16})\n",
    "#Get the AUC score\n",
    "print(\"AUC: {}\".format(roc_auc_score(y_test, preds)))\n",
    "plt.subplots_adjust(wspace=1)"
   ]
  },
  {
   "cell_type": "code",
   "execution_count": 108,
   "metadata": {},
   "outputs": [
    {
     "name": "stdout",
     "output_type": "stream",
     "text": [
      "Logistic: f1=0.450 auc=0.479\n"
     ]
    },
    {
     "data": {
      "image/png": "[encoded data removed]",
      "text/plain": [
       "<Figure size 432x288 with 1 Axes>"
      ]
     },
     "metadata": {
      "needs_background": "light"
     },
     "output_type": "display_data"
    }
   ],
   "source": [
    "lr_probs=lr_clf2.predict_proba(X_test)[:,1]\n",
    "lr_precision, lr_recall, _ = precision_recall_curve(y_test, lr_probs)\n",
    "lr_f1, lr_auc = f1_score(y_test, y_pred), auc(lr_recall,lr_precision)\n",
    "print('Logistic: f1=%.3f auc=%.3f' % (lr_f1, lr_auc))\n",
    "# plot the precision-recall curves\n",
    "no_skill = len(y_test[y_test==1]) / len(y_test)\n",
    "plt.plot([0, 1], [no_skill, no_skill], linestyle='--', label='No Skill')\n",
    "plt.plot(lr_recall,lr_precision, marker='.', label='Logistic')\n",
    "# axis labels\n",
    "plt.xlabel('Recall')\n",
    "plt.ylabel('Precision')\n",
    "# show the legend\n",
    "plt.legend()\n",
    "# show the plot\n",
    "plt.show()"
   ]
  },
  {
   "cell_type": "code",
   "execution_count": 109,
   "metadata": {},
   "outputs": [
    {
     "name": "stdout",
     "output_type": "stream",
     "text": [
      "Accuracy Score by after balancing the data and using Random Forest 0.8701055330900483\n",
      "[[8146  870]\n",
      " [ 447  676]]\n",
      "Classifiaction Report after balancing the data and using Random Forest\n",
      "               precision    recall  f1-score   support\n",
      "\n",
      "           0       0.95      0.90      0.93      9016\n",
      "           1       0.44      0.60      0.51      1123\n",
      "\n",
      "    accuracy                           0.87     10139\n",
      "   macro avg       0.69      0.75      0.72     10139\n",
      "weighted avg       0.89      0.87      0.88     10139\n",
      "\n"
     ]
    }
   ],
   "source": [
    "#update the threshold and then predict the value\n",
    "THRESHOLD = 0.65\n",
    "#y_pred=clf.predict(X_test)\n",
    "y_pred=np.where(lr_clf2.predict_proba(X_test)[:,1] > THRESHOLD, 1, 0)\n",
    "print('Accuracy Score by after balancing the data and using Random Forest',accuracy_score(y_pred, y_test))\n",
    "\n",
    "cm = confusion_matrix(y_test, y_pred)\n",
    "print(cm)\n",
    "\n",
    "print('Classifiaction Report after balancing the data and using Random Forest\\n',\n",
    "      classification_report(y_test, y_pred))"
   ]
  },
  {
   "cell_type": "markdown",
   "metadata": {},
   "source": [
    "<B>SVM (Undersampling)"
   ]
  },
  {
   "cell_type": "code",
   "execution_count": 110,
   "metadata": {},
   "outputs": [
    {
     "name": "stdout",
     "output_type": "stream",
     "text": [
      "Accuracy Score of SVM is 0.7379425978893382\n",
      "Confusion Matrix after updating class weight and using Logistic Regression\n",
      " [[6767 2249]\n",
      " [ 408  715]]\n",
      "Classifiaction Report after balancing the data and using Random Forest\n",
      "               precision    recall  f1-score   support\n",
      "\n",
      "           0       0.94      0.75      0.84      9016\n",
      "           1       0.24      0.64      0.35      1123\n",
      "\n",
      "    accuracy                           0.74     10139\n",
      "   macro avg       0.59      0.69      0.59     10139\n",
      "weighted avg       0.87      0.74      0.78     10139\n",
      "\n"
     ]
    }
   ],
   "source": [
    "clf_svm1 = svm()\n",
    "clf_svm1.fit(X_train, y_train)\n",
    "y_pred=clf_svm1.predict(X_test)\n",
    "print('Accuracy Score of SVM is',accuracy_score(y_pred, y_test))\n",
    "\n",
    "cm = confusion_matrix(y_test, y_pred)\n",
    "print('Confusion Matrix after updating class weight and using Logistic Regression\\n',cm)\n",
    "\n",
    "print('Classifiaction Report after balancing the data and using Random Forest\\n',\n",
    "      classification_report(y_test, y_pred))"
   ]
  },
  {
   "cell_type": "markdown",
   "metadata": {},
   "source": [
    "<B>Ridge Regression (Undersample)"
   ]
  },
  {
   "cell_type": "code",
   "execution_count": 111,
   "metadata": {},
   "outputs": [
    {
     "name": "stdout",
     "output_type": "stream",
     "text": [
      "Accuracy Score of Ridge Regression is 0.8112239865864483\n",
      "[[7466 1550]\n",
      " [ 364  759]]\n",
      "Classifiaction Report after balancing the data using Oversampling and using Random Forest\n",
      "               precision    recall  f1-score   support\n",
      "\n",
      "           0       0.95      0.83      0.89      9016\n",
      "           1       0.33      0.68      0.44      1123\n",
      "\n",
      "    accuracy                           0.81     10139\n",
      "   macro avg       0.64      0.75      0.66     10139\n",
      "weighted avg       0.88      0.81      0.84     10139\n",
      "\n"
     ]
    }
   ],
   "source": [
    "ridge=RidgeClassifier()\n",
    "ridge.fit(X_train, y_train)\n",
    "y_pred=ridge.predict(X_test)\n",
    "print('Accuracy Score of Ridge Regression is',accuracy_score(y_pred, y_test))\n",
    "\n",
    "cm = confusion_matrix(y_test, y_pred)\n",
    "print(cm)\n",
    "\n",
    "print('Classifiaction Report after balancing the data using Oversampling and using Random Forest\\n',\n",
    "      classification_report(y_test, y_pred))"
   ]
  },
  {
   "cell_type": "markdown",
   "metadata": {},
   "source": [
    "<B>XG Boost (Undersampling)"
   ]
  },
  {
   "cell_type": "code",
   "execution_count": 112,
   "metadata": {},
   "outputs": [
    {
     "name": "stdout",
     "output_type": "stream",
     "text": [
      "Accuracy Score of Xgboost is 0.8243416510503995\n",
      "Confusion Matrix after updating class weight and using Xgboost\n",
      " [[7600 1416]\n",
      " [ 365  758]]\n",
      "Classifiaction Report after balancing the data and using Xgboost\n",
      "               precision    recall  f1-score   support\n",
      "\n",
      "           0       0.95      0.84      0.90      9016\n",
      "           1       0.35      0.67      0.46      1123\n",
      "\n",
      "    accuracy                           0.82     10139\n",
      "   macro avg       0.65      0.76      0.68     10139\n",
      "weighted avg       0.89      0.82      0.85     10139\n",
      "\n"
     ]
    }
   ],
   "source": [
    "gbc = XGBClassifier()\n",
    "gbc.fit(X_train, y_train)\n",
    "y_pred=gbc.predict(X_test)\n",
    "print('Accuracy Score of Xgboost is',accuracy_score(y_pred, y_test))\n",
    "\n",
    "cm = confusion_matrix(y_test, y_pred)\n",
    "print('Confusion Matrix after updating class weight and using Xgboost\\n',cm)\n",
    "\n",
    "print('Classifiaction Report after balancing the data and using Xgboost\\n',\n",
    "      classification_report(y_test, y_pred))"
   ]
  },
  {
   "cell_type": "code",
   "execution_count": 113,
   "metadata": {},
   "outputs": [
    {
     "data": {
      "text/plain": [
       "1    3435\n",
       "0    3435\n",
       "Name: y, dtype: int64"
      ]
     },
     "execution_count": 113,
     "metadata": {},
     "output_type": "execute_result"
    }
   ],
   "source": [
    "y_train.value_counts()"
   ]
  },
  {
   "cell_type": "code",
   "execution_count": 114,
   "metadata": {},
   "outputs": [
    {
     "data": {
      "text/plain": [
       "0    26980\n",
       "1     3435\n",
       "Name: y, dtype: int64"
      ]
     },
     "execution_count": 114,
     "metadata": {},
     "output_type": "execute_result"
    }
   ],
   "source": [
    "X_train=X_train1\n",
    "y_train=y_train1\n",
    "y_train.value_counts()"
   ]
  },
  {
   "cell_type": "markdown",
   "metadata": {},
   "source": [
    "<H2>Still we need to work on improving F1 score</H2>\n",
    "<B> We will need to look for feature reduction techniques<B>\n",
    "    <UL><LI>PCA>>KNN\n",
    "    <LI>Club Features into similar Categories"
   ]
  },
  {
   "cell_type": "markdown",
   "metadata": {},
   "source": [
    "<B>PCA"
   ]
  },
  {
   "cell_type": "code",
   "execution_count": 115,
   "metadata": {},
   "outputs": [],
   "source": [
    "#Transform Data using PCA\n",
    "pca=PCA(n_components=2)\n",
    "pca.fit(X_train)\n",
    "X_transformed=pca.transform(X_train)\n",
    "X_test_Transformed=pca.transform(X_test)"
   ]
  },
  {
   "cell_type": "code",
   "execution_count": 116,
   "metadata": {},
   "outputs": [
    {
     "name": "stdout",
     "output_type": "stream",
     "text": [
      "Accuracy Score scaling the data and using PCA with KNN 0.8813492454877206\n"
     ]
    }
   ],
   "source": [
    "knn2 = KNeighborsClassifier(n_neighbors=3)\n",
    "knn2.fit(X_transformed, y_train)\n",
    "#fit the data\n",
    "y_pred=knn2.predict(X_test_Transformed)\n",
    "print('Accuracy Score scaling the data and using PCA with KNN',accuracy_score(y_pred, y_test))"
   ]
  },
  {
   "cell_type": "code",
   "execution_count": 117,
   "metadata": {},
   "outputs": [
    {
     "name": "stdout",
     "output_type": "stream",
     "text": [
      "Confusion Matrix after updating class weight and using PCA with KNN\n",
      " [[8640  376]\n",
      " [ 827  296]]\n"
     ]
    }
   ],
   "source": [
    "cm = confusion_matrix(y_test, y_pred)\n",
    "print('Confusion Matrix after updating class weight and using PCA with KNN\\n',cm)"
   ]
  },
  {
   "cell_type": "code",
   "execution_count": 118,
   "metadata": {},
   "outputs": [
    {
     "name": "stdout",
     "output_type": "stream",
     "text": [
      "Classifiaction Report after balancing the data and using PCA with KNN\n",
      "               precision    recall  f1-score   support\n",
      "\n",
      "           0       0.91      0.96      0.93      9016\n",
      "           1       0.44      0.26      0.33      1123\n",
      "\n",
      "    accuracy                           0.88     10139\n",
      "   macro avg       0.68      0.61      0.63     10139\n",
      "weighted avg       0.86      0.88      0.87     10139\n",
      "\n"
     ]
    }
   ],
   "source": [
    "print('Classifiaction Report after balancing the data and using PCA with KNN\\n',\n",
    "      classification_report(y_test, y_pred))"
   ]
  },
  {
   "cell_type": "markdown",
   "metadata": {},
   "source": [
    "<B>Reduce Feature by clubing values into similar categories"
   ]
  },
  {
   "cell_type": "code",
   "execution_count": 119,
   "metadata": {},
   "outputs": [],
   "source": [
    "#Clubbing Categories for Education Column\n",
    "udf['Education_lt_09'],udf['Education_09'],udf['Education_High_School'],udf['Education_University_Degree'],udf['Education_Professional_Course']=0,0,0,0,0\n",
    "udf.loc[(udf['education'] == 'illiterate') | (udf['education'] == 'basic.4y') |  (udf['education'] == 'basic.6y'),\n",
    "       'Education_lt_09']=1\n",
    "udf.loc[(udf['education'] == 'basic.9y'),'Education_09']=1\n",
    "udf.loc[(udf['education'] == 'high.school'),'Education_High_School']=1\n",
    "udf.loc[(udf['education'] == 'university.degree'),'Education_University_Degree']=1\n",
    "udf.loc[(udf['education'] == 'professional.course'),'Education_Professional_Course']=1\n",
    "udf.drop(['education'], axis=1, inplace=True)"
   ]
  },
  {
   "cell_type": "code",
   "execution_count": 120,
   "metadata": {},
   "outputs": [],
   "source": [
    "#Clubbing Caegories for Month Column\n",
    "udf['Quarter1'],udf['Quarter2'],udf['Quarter3'],udf['Quarter4']=0,0,0,0\n",
    "udf.loc[(udf['month'] == 'jan') | (udf['month'] == 'feb') |  (udf['month'] == 'mar'),'Quarter1']=1\n",
    "udf.loc[(udf['month'] == 'apr') | (udf['month'] == 'may') |  (udf['month'] == 'jun'),'Quarter2']=1\n",
    "udf.loc[(udf['month'] == 'jul') | (udf['month'] == 'aug') |  (udf['month'] == 'sep'),'Quarter3']=1\n",
    "udf.loc[(udf['month'] == 'oct') | (udf['month'] == 'nov') |  (udf['month'] == 'dec'),'Quarter4']=1\n",
    "udf.drop(['month'], axis=1, inplace=True)"
   ]
  },
  {
   "cell_type": "code",
   "execution_count": 121,
   "metadata": {},
   "outputs": [],
   "source": [
    "#Clubbing Categorie for Job Columns\n",
    "udf['Job_No_Income'],udf['Job_Self_Employed'],udf['Job_Management'],udf['Job_Services'],udf['Job_Admin'],udf['Job_blue_collar'],udf['Job_Technician']=0,0,0,0,0,0,0\n",
    "udf.loc[(udf['job'] == 'housemaid') | (udf['job'] == 'unemployed') | (udf['job'] == 'retired') | (udf['job'] == 'student')\n",
    "        ,'Job_No_Income']=1\n",
    "udf.loc[(udf['job'] == 'self-employed') | (udf['job'] == 'entrepreneur'),'Job_Self_Employed']=1\n",
    "udf.loc[(udf['job'] == 'management'),'Job_Management']=1\n",
    "udf.loc[(udf['job'] == 'services'),'Job_Services']=1\n",
    "udf.loc[(udf['job'] == 'admin.'),'Job_Admin']=1\n",
    "udf.loc[(udf['job'] == 'blue-collar'),'Job_blue_collar']=1\n",
    "udf.loc[(udf['job'] == 'technician'),'Job_Technician']=1\n",
    "udf.drop(['job'], axis=1, inplace=True)\n"
   ]
  },
  {
   "cell_type": "markdown",
   "metadata": {},
   "source": [
    "<B>Handle rest of the data as earlier"
   ]
  },
  {
   "cell_type": "code",
   "execution_count": 122,
   "metadata": {},
   "outputs": [
    {
     "name": "stderr",
     "output_type": "stream",
     "text": [
      "C:\\Users\\Pranay\\anaconda3\\lib\\site-packages\\pandas\\core\\frame.py:3997: SettingWithCopyWarning: \n",
      "A value is trying to be set on a copy of a slice from a DataFrame\n",
      "\n",
      "See the caveats in the documentation: https://pandas.pydata.org/pandas-docs/stable/user_guide/indexing.html#returning-a-view-versus-a-copy\n",
      "  errors=errors,\n"
     ]
    },
    {
     "data": {
      "text/plain": [
       "age                                int64\n",
       "default                            int64\n",
       "housing                            int64\n",
       "loan                               int64\n",
       "campaign                           int64\n",
       "pdays                              int64\n",
       "previous                           int64\n",
       "emp.var.rate                     float64\n",
       "cons.price.idx                   float64\n",
       "cons.conf.idx                    float64\n",
       "y                                  int64\n",
       "Education_lt_09                    int64\n",
       "Education_09                       int64\n",
       "Education_High_School              int64\n",
       "Education_University_Degree        int64\n",
       "Education_Professional_Course      int64\n",
       "Quarter1                           int64\n",
       "Quarter2                           int64\n",
       "Quarter3                           int64\n",
       "Quarter4                           int64\n",
       "Job_No_Income                      int64\n",
       "Job_Self_Employed                  int64\n",
       "Job_Management                     int64\n",
       "Job_Services                       int64\n",
       "Job_Admin                          int64\n",
       "Job_blue_collar                    int64\n",
       "Job_Technician                     int64\n",
       "marital_divorced                   uint8\n",
       "marital_married                    uint8\n",
       "marital_single                     uint8\n",
       "contact_cellular                   uint8\n",
       "contact_telephone                  uint8\n",
       "day_of_week_fri                    uint8\n",
       "day_of_week_mon                    uint8\n",
       "day_of_week_thu                    uint8\n",
       "day_of_week_tue                    uint8\n",
       "day_of_week_wed                    uint8\n",
       "poutcome_failure                   uint8\n",
       "poutcome_nonexistent               uint8\n",
       "poutcome_success                   uint8\n",
       "dtype: object"
      ]
     },
     "execution_count": 122,
     "metadata": {},
     "output_type": "execute_result"
    }
   ],
   "source": [
    "only_obj=udf.select_dtypes(include=['object'])\n",
    "only_obj.drop(['y'],axis=1,inplace=True)\n",
    "col=only_obj.columns\n",
    "#Do One Hot encoding for the objects columns\n",
    "udf=pd.get_dummies(udf,columns=col)\n",
    "#Transform Dependent Variable values\n",
    "udf.y.replace({'yes':1,'no':0},inplace=True)\n",
    "#Get updated data types of all the columns\n",
    "udf.dtypes"
   ]
  },
  {
   "cell_type": "code",
   "execution_count": 123,
   "metadata": {},
   "outputs": [],
   "source": [
    "#Group Age Columns\n",
    "udf['Binned_Age']=pd.cut(\n",
    "    udf['age'],\n",
    "    bins=[-np.inf,20,30,40,50,60,np.inf],\n",
    "    labels=['0-20','20-30','30-40','40-50','50-60','60-100']\n",
    ")\n",
    "udf.drop(['age'], axis=1, inplace=True)"
   ]
  },
  {
   "cell_type": "code",
   "execution_count": 124,
   "metadata": {},
   "outputs": [],
   "source": [
    "#Group Emp_Var_Rate columns\n",
    "udf['Binned_Emp_Var_Rate']=pd.cut(\n",
    "    udf['emp.var.rate'],\n",
    "    bins=[-np.inf,-3.5,-2.5,-1.5,-0.5,0.5,1.5,np.inf],\n",
    "    labels=[-4,-3,-2,-1,0,1,2]\n",
    ")\n",
    "udf.drop(['emp.var.rate'], axis=1, inplace=True)"
   ]
  },
  {
   "cell_type": "code",
   "execution_count": 125,
   "metadata": {},
   "outputs": [],
   "source": [
    "#df['euribor3m']=df['euribor3m'].round(1)\n",
    "udf['cons.price.idx']=udf['cons.price.idx'].round(2)"
   ]
  },
  {
   "cell_type": "code",
   "execution_count": 126,
   "metadata": {},
   "outputs": [],
   "source": [
    "iage=list(udf.Binned_Age.value_counts().index)\n",
    "udfyes=udf[udf['y']==1]"
   ]
  },
  {
   "cell_type": "code",
   "execution_count": 127,
   "metadata": {},
   "outputs": [
    {
     "data": {
      "image/png": "[encoded data removed]",
      "text/plain": [
       "<Figure size 1440x1440 with 1 Axes>"
      ]
     },
     "metadata": {
      "needs_background": "light"
     },
     "output_type": "display_data"
    }
   ],
   "source": [
    "f, (ax1) = plt.subplots(1,1,figsize=(20, 20))\n",
    "x_1 = pd.DataFrame(udf.Binned_Age.value_counts()).reindex(iage, axis=0).dropna()\n",
    "names_1 = list(x_1.index)\n",
    "values_1 = list(x_1.Binned_Age)\n",
    "x_2 = pd.DataFrame(udfyes.Binned_Age.value_counts()).reindex(iage, axis=0).dropna()\n",
    "names_2 = list(x_2.index)\n",
    "values_2 = list(x_2.Binned_Age)\n",
    "ax1.plot(names_2,values_2,linestyle='-', marker='o',color = 'black')\n",
    "for i, txt in enumerate(values_2):\n",
    "    ax1.annotate(txt, (names_2[i], values_2[i]))  \n",
    "splot=sns.barplot(x=names_1, y=values_1,color = 'skyblue',palette=None,ax=ax1)\n",
    "splot.set(xlabel= 'Binned_Age', ylabel='counts')\n",
    "for p in splot.patches:\n",
    "        splot.annotate(format(p.get_height(), '.2f'), (p.get_x() + p.get_width() / 2., p.get_height()), ha = 'center', va ='center', xytext = (0, 10), textcoords = 'offset points')\n"
   ]
  },
  {
   "cell_type": "code",
   "execution_count": 128,
   "metadata": {},
   "outputs": [
    {
     "name": "stdout",
     "output_type": "stream",
     "text": [
      "(40554, 45)\n"
     ]
    }
   ],
   "source": [
    "udf=pd.get_dummies(udf,columns=['Binned_Age'])\n",
    "#Get updated Shape\n",
    "print(udf.shape)"
   ]
  },
  {
   "cell_type": "code",
   "execution_count": 129,
   "metadata": {},
   "outputs": [],
   "source": [
    "#Scale the data and split\n",
    "X = udf.drop(['y'], axis=1)\n",
    "y=udf.y\n",
    "scaler = preprocessing.StandardScaler().fit(X)\n",
    "X_scaled=scaler.transform(X) \n",
    "X_train, X_test, y_train, y_test = train_test_split(X_scaled, y, test_size=0.25, random_state=1)"
   ]
  },
  {
   "cell_type": "markdown",
   "metadata": {},
   "source": [
    "<H3>Random Forest</H3><Br>\n",
    "<B>For Random Forest Model with Scaled Data, Class weight method for Imbalanced Data Set worked will. Therefore we will be using this model </B>"
   ]
  },
  {
   "cell_type": "code",
   "execution_count": 130,
   "metadata": {},
   "outputs": [
    {
     "name": "stdout",
     "output_type": "stream",
     "text": [
      "Accuracy Score of Random Forest is 0.876615050793964\n",
      "Random Forest: f1-score=0.351\n"
     ]
    }
   ],
   "source": [
    "#Use Randome Forest on updated data\n",
    "rand_clf1 = RandomForestClassifier(class_weight={0:0.56365827,1:4.4272198})\n",
    "rand_clf1.fit(X_train, y_train)\n",
    "# Print the accuracy from the testing data.\n",
    "y_pred=rand_clf1.predict(X_test)\n",
    "print('Accuracy Score of Random Forest is',accuracy_score(y_pred, y_test))\n",
    "f1 = f1_score(y_test, y_pred)\n",
    "print('Random Forest: f1-score=%.3f' % (f1))"
   ]
  },
  {
   "cell_type": "code",
   "execution_count": 131,
   "metadata": {},
   "outputs": [
    {
     "name": "stdout",
     "output_type": "stream",
     "text": [
      "[[8549  467]\n",
      " [ 784  339]]\n"
     ]
    }
   ],
   "source": [
    "cm = confusion_matrix(y_test, y_pred)\n",
    "print(cm)"
   ]
  },
  {
   "cell_type": "code",
   "execution_count": 132,
   "metadata": {},
   "outputs": [
    {
     "name": "stdout",
     "output_type": "stream",
     "text": [
      "              precision    recall  f1-score   support\n",
      "\n",
      "           0       0.92      0.95      0.93      9016\n",
      "           1       0.42      0.30      0.35      1123\n",
      "\n",
      "    accuracy                           0.88     10139\n",
      "   macro avg       0.67      0.63      0.64     10139\n",
      "weighted avg       0.86      0.88      0.87     10139\n",
      "\n"
     ]
    }
   ],
   "source": [
    "print(classification_report(y_test, y_pred))"
   ]
  },
  {
   "cell_type": "code",
   "execution_count": 133,
   "metadata": {},
   "outputs": [
    {
     "name": "stdout",
     "output_type": "stream",
     "text": [
      "44\n"
     ]
    },
    {
     "data": {
      "image/png": "[encoded data removed]",
      "text/plain": [
       "<Figure size 1080x1080 with 1 Axes>"
      ]
     },
     "metadata": {
      "needs_background": "light"
     },
     "output_type": "display_data"
    }
   ],
   "source": [
    "feature_importance = rand_clf1.feature_importances_\n",
    "# make importances relative to max importance\n",
    "feature_importance = 100.0 * (feature_importance / feature_importance.max())[:50]\n",
    "sorted_idx = np.argsort(feature_importance)[:50]\n",
    "\n",
    "pos = np.arange(sorted_idx.shape[0]) + .5\n",
    "print(pos.size)\n",
    "sorted_idx.size\n",
    "plt.figure(figsize=(15,15))\n",
    "plt.barh(pos, feature_importance[sorted_idx], align='center')\n",
    "plt.yticks(pos, X.columns[sorted_idx])\n",
    "plt.xlabel('Relative Importance')\n",
    "plt.title('Variable Importance')\n",
    "plt.show()"
   ]
  },
  {
   "cell_type": "code",
   "execution_count": 134,
   "metadata": {},
   "outputs": [
    {
     "data": {
      "image/png": "[encoded data removed]",
      "text/plain": [
       "<Figure size 432x288 with 1 Axes>"
      ]
     },
     "metadata": {
      "needs_background": "light"
     },
     "output_type": "display_data"
    }
   ],
   "source": [
    "disp=plot_precision_recall_curve(rand_clf1, X_test, y_test)"
   ]
  },
  {
   "cell_type": "code",
   "execution_count": 135,
   "metadata": {},
   "outputs": [
    {
     "name": "stdout",
     "output_type": "stream",
     "text": [
      "Accuracy Score by after balancing the data and using Random Forest 0.8217772955912812\n"
     ]
    }
   ],
   "source": [
    "#update the threshold and then predict the value\n",
    "THRESHOLD = 0.20\n",
    "#y_pred=clf.predict(X_test)\n",
    "y_pred=np.where(rand_clf1.predict_proba(X_test)[:,1] > THRESHOLD, 1, 0)\n",
    "print('Accuracy Score by after balancing the data and using Random Forest',accuracy_score(y_pred, y_test))"
   ]
  },
  {
   "cell_type": "code",
   "execution_count": 136,
   "metadata": {},
   "outputs": [
    {
     "name": "stdout",
     "output_type": "stream",
     "text": [
      "[[7664 1352]\n",
      " [ 455  668]]\n"
     ]
    }
   ],
   "source": [
    "cm = confusion_matrix(y_test, y_pred)\n",
    "print(cm)"
   ]
  },
  {
   "cell_type": "code",
   "execution_count": 137,
   "metadata": {},
   "outputs": [
    {
     "name": "stdout",
     "output_type": "stream",
     "text": [
      "              precision    recall  f1-score   support\n",
      "\n",
      "           0       0.94      0.85      0.89      9016\n",
      "           1       0.33      0.59      0.43      1123\n",
      "\n",
      "    accuracy                           0.82     10139\n",
      "   macro avg       0.64      0.72      0.66     10139\n",
      "weighted avg       0.88      0.82      0.84     10139\n",
      "\n"
     ]
    }
   ],
   "source": [
    "print(classification_report(y_test, y_pred))"
   ]
  },
  {
   "cell_type": "markdown",
   "metadata": {},
   "source": [
    "<h3>Logistic Regression</h3><br>\n",
    "<b>For Logistic Regression we will use Scaled Data and \"class weight\" to balance data set"
   ]
  },
  {
   "cell_type": "code",
   "execution_count": 138,
   "metadata": {},
   "outputs": [
    {
     "name": "stdout",
     "output_type": "stream",
     "text": [
      "Accuracy Score with scaling the data and using Logistic Regression 0.8153664069434855\n"
     ]
    }
   ],
   "source": [
    "lr_clf2 = LogisticRegression(class_weight={0:0.56365827,1:4.4272198},max_iter=1000)\n",
    "# Fit the model on the trainng data.\n",
    "lr_clf2.fit(X_train, y_train)\n",
    "y_pred=lr_clf2.predict(X_test)\n",
    "# Print the accuracy from the testing data.\n",
    "print('Accuracy Score with scaling the data and using Logistic Regression',accuracy_score(y_pred, y_test))"
   ]
  },
  {
   "cell_type": "code",
   "execution_count": 139,
   "metadata": {},
   "outputs": [
    {
     "name": "stdout",
     "output_type": "stream",
     "text": [
      "Confusion Matrix after updating class weight and using Logistic Regression\n",
      " [[7503 1513]\n",
      " [ 359  764]]\n"
     ]
    }
   ],
   "source": [
    "cm = confusion_matrix(y_test, y_pred)\n",
    "print('Confusion Matrix after updating class weight and using Logistic Regression\\n',cm)"
   ]
  },
  {
   "cell_type": "code",
   "execution_count": 140,
   "metadata": {},
   "outputs": [
    {
     "name": "stdout",
     "output_type": "stream",
     "text": [
      "              precision    recall  f1-score   support\n",
      "\n",
      "           0       0.95      0.83      0.89      9016\n",
      "           1       0.34      0.68      0.45      1123\n",
      "\n",
      "    accuracy                           0.82     10139\n",
      "   macro avg       0.64      0.76      0.67     10139\n",
      "weighted avg       0.89      0.82      0.84     10139\n",
      "\n"
     ]
    }
   ],
   "source": [
    "print(classification_report(y_test, y_pred))"
   ]
  },
  {
   "cell_type": "code",
   "execution_count": 141,
   "metadata": {},
   "outputs": [
    {
     "name": "stdout",
     "output_type": "stream",
     "text": [
      "Logistic: f1=0.449 auc=0.481\n"
     ]
    },
    {
     "data": {
      "image/png": "[encoded data removed]",
      "text/plain": [
       "<Figure size 432x288 with 1 Axes>"
      ]
     },
     "metadata": {
      "needs_background": "light"
     },
     "output_type": "display_data"
    }
   ],
   "source": [
    "lr_probs=lr_clf2.predict_proba(X_test)[:,1]\n",
    "lr_precision, lr_recall, _ = precision_recall_curve(y_test, lr_probs)\n",
    "lr_f1, lr_auc = f1_score(y_test, y_pred), auc(lr_recall,lr_precision)\n",
    "print('Logistic: f1=%.3f auc=%.3f' % (lr_f1, lr_auc))\n",
    "# plot the precision-recall curves\n",
    "no_skill = len(y_test[y_test==1]) / len(y_test)\n",
    "plt.plot([0, 1], [no_skill, no_skill], linestyle='--', label='No Skill')\n",
    "plt.plot(lr_recall,lr_precision, marker='.', label='Logistic')\n",
    "# axis labels\n",
    "plt.xlabel('Recall')\n",
    "plt.ylabel('Precision')\n",
    "# show the legend\n",
    "plt.legend()\n",
    "# show the plot\n",
    "plt.show()"
   ]
  },
  {
   "cell_type": "code",
   "execution_count": 142,
   "metadata": {},
   "outputs": [
    {
     "name": "stdout",
     "output_type": "stream",
     "text": [
      "Accuracy Score by after balancing the data and using Random Forest 0.8688233553604892\n"
     ]
    }
   ],
   "source": [
    "#update the threshold and then predict the value\n",
    "THRESHOLD = 0.58\n",
    "#y_pred=clf.predict(X_test)\n",
    "y_pred=np.where(lr_clf2.predict_proba(X_test)[:,1] > THRESHOLD, 1, 0)\n",
    "print('Accuracy Score by after balancing the data and using Random Forest',accuracy_score(y_pred, y_test))"
   ]
  },
  {
   "cell_type": "code",
   "execution_count": 143,
   "metadata": {},
   "outputs": [
    {
     "name": "stdout",
     "output_type": "stream",
     "text": [
      "[[8124  892]\n",
      " [ 438  685]]\n"
     ]
    }
   ],
   "source": [
    "cm = confusion_matrix(y_test, y_pred)\n",
    "print(cm)"
   ]
  },
  {
   "cell_type": "code",
   "execution_count": 144,
   "metadata": {},
   "outputs": [
    {
     "name": "stdout",
     "output_type": "stream",
     "text": [
      "              precision    recall  f1-score   support\n",
      "\n",
      "           0       0.95      0.90      0.92      9016\n",
      "           1       0.43      0.61      0.51      1123\n",
      "\n",
      "    accuracy                           0.87     10139\n",
      "   macro avg       0.69      0.76      0.72     10139\n",
      "weighted avg       0.89      0.87      0.88     10139\n",
      "\n"
     ]
    }
   ],
   "source": [
    "print(classification_report(y_test, y_pred))"
   ]
  },
  {
   "cell_type": "markdown",
   "metadata": {},
   "source": [
    "<B>SVM"
   ]
  },
  {
   "cell_type": "code",
   "execution_count": 145,
   "metadata": {},
   "outputs": [],
   "source": [
    "X_ovr, y_ovr = sm.fit_resample(X_train,y_train)"
   ]
  },
  {
   "cell_type": "code",
   "execution_count": 146,
   "metadata": {},
   "outputs": [
    {
     "name": "stdout",
     "output_type": "stream",
     "text": [
      "Accuracy Score of SVM is 0.8102376960252491\n"
     ]
    }
   ],
   "source": [
    "clf_svm1 = svm()\n",
    "clf_svm1.fit(X_ovr, y_ovr)\n",
    "y_pred=clf_svm1.predict(X_test)\n",
    "print('Accuracy Score of SVM is',accuracy_score(y_pred, y_test))"
   ]
  },
  {
   "cell_type": "code",
   "execution_count": 147,
   "metadata": {},
   "outputs": [
    {
     "name": "stdout",
     "output_type": "stream",
     "text": [
      "Confusion Matrix after updating class weight and using Logistic Regression\n",
      " [[7445 1571]\n",
      " [ 353  770]]\n"
     ]
    }
   ],
   "source": [
    "cm = confusion_matrix(y_test, y_pred)\n",
    "print('Confusion Matrix after updating class weight and using Logistic Regression\\n',cm)"
   ]
  },
  {
   "cell_type": "code",
   "execution_count": 148,
   "metadata": {},
   "outputs": [
    {
     "name": "stdout",
     "output_type": "stream",
     "text": [
      "              precision    recall  f1-score   support\n",
      "\n",
      "           0       0.95      0.83      0.89      9016\n",
      "           1       0.33      0.69      0.44      1123\n",
      "\n",
      "    accuracy                           0.81     10139\n",
      "   macro avg       0.64      0.76      0.67     10139\n",
      "weighted avg       0.89      0.81      0.84     10139\n",
      "\n"
     ]
    }
   ],
   "source": [
    "print(classification_report(y_test, y_pred))"
   ]
  },
  {
   "cell_type": "markdown",
   "metadata": {},
   "source": [
    "<B>Ridge Regression"
   ]
  },
  {
   "cell_type": "code",
   "execution_count": 149,
   "metadata": {},
   "outputs": [
    {
     "name": "stdout",
     "output_type": "stream",
     "text": [
      "Accuracy Score of Ridge Regression is 0.9025544925535063\n",
      "[[8918   98]\n",
      " [ 890  233]]\n",
      "Classifiaction Report after balancing the data using Oversampling and using Random Forest\n",
      "               precision    recall  f1-score   support\n",
      "\n",
      "           0       0.91      0.99      0.95      9016\n",
      "           1       0.70      0.21      0.32      1123\n",
      "\n",
      "    accuracy                           0.90     10139\n",
      "   macro avg       0.81      0.60      0.63     10139\n",
      "weighted avg       0.89      0.90      0.88     10139\n",
      "\n"
     ]
    }
   ],
   "source": [
    "ridge=RidgeClassifier()\n",
    "ridge.fit(X_train, y_train)\n",
    "y_pred=ridge.predict(X_test)\n",
    "print('Accuracy Score of Ridge Regression is',accuracy_score(y_pred, y_test))\n",
    "\n",
    "cm = confusion_matrix(y_test, y_pred)\n",
    "print(cm)\n",
    "\n",
    "print('Classifiaction Report after balancing the data using Oversampling and using Random Forest\\n',\n",
    "      classification_report(y_test, y_pred))"
   ]
  },
  {
   "cell_type": "markdown",
   "metadata": {},
   "source": [
    "<B>XG Boost"
   ]
  },
  {
   "cell_type": "code",
   "execution_count": 150,
   "metadata": {},
   "outputs": [],
   "source": [
    "from xgboost import XGBClassifier\n",
    "scale_pos_weight = 26980/3435\n",
    "gbc = XGBClassifier(scale_pos_weight=scale_pos_weight)"
   ]
  },
  {
   "cell_type": "code",
   "execution_count": 151,
   "metadata": {},
   "outputs": [
    {
     "name": "stdout",
     "output_type": "stream",
     "text": [
      "Accuracy Score of Xgboost is 0.83814971890719\n"
     ]
    }
   ],
   "source": [
    "gbc.fit(X_train, y_train)\n",
    "y_pred=gbc.predict(X_test)\n",
    "print('Accuracy Score of Xgboost is',accuracy_score(y_pred, y_test))"
   ]
  },
  {
   "cell_type": "code",
   "execution_count": 152,
   "metadata": {},
   "outputs": [
    {
     "name": "stdout",
     "output_type": "stream",
     "text": [
      "Confusion Matrix after updating class weight and using Xgboost\n",
      " [[7756 1260]\n",
      " [ 381  742]]\n"
     ]
    }
   ],
   "source": [
    "cm = confusion_matrix(y_test, y_pred)\n",
    "print('Confusion Matrix after updating class weight and using Xgboost\\n',cm)"
   ]
  },
  {
   "cell_type": "code",
   "execution_count": 153,
   "metadata": {},
   "outputs": [
    {
     "name": "stdout",
     "output_type": "stream",
     "text": [
      "              precision    recall  f1-score   support\n",
      "\n",
      "           0       0.95      0.86      0.90      9016\n",
      "           1       0.37      0.66      0.47      1123\n",
      "\n",
      "    accuracy                           0.84     10139\n",
      "   macro avg       0.66      0.76      0.69     10139\n",
      "weighted avg       0.89      0.84      0.86     10139\n",
      "\n"
     ]
    }
   ],
   "source": [
    "print(classification_report(y_test, y_pred))"
   ]
  },
  {
   "cell_type": "markdown",
   "metadata": {},
   "source": [
    "<h3>Hyper Parameter Tuning"
   ]
  },
  {
   "cell_type": "markdown",
   "metadata": {},
   "source": [
    "<B>Before starting with hyperparameter tunnig let us sort variables we have for different approches"
   ]
  },
  {
   "cell_type": "code",
   "execution_count": 154,
   "metadata": {},
   "outputs": [],
   "source": [
    "#X_train and y_train for clubbed features : X_train, y_train\n",
    "#X_train and y_train for original features:X_train_bkp, y_train_bkp "
   ]
  },
  {
   "cell_type": "markdown",
   "metadata": {},
   "source": [
    "<B>Logistic Regression (Hyperparameter Tunnig)</B><br>\n",
    "    For Logistic Regression model with clubbed features performed well, therefore we will implment hyperparameter tunnig on logistic regression and fit that data"
   ]
  },
  {
   "cell_type": "code",
   "execution_count": 155,
   "metadata": {},
   "outputs": [
    {
     "name": "stdout",
     "output_type": "stream",
     "text": [
      "Tuned Logistic Regression Parameters: {'C': 1}\n",
      "Best score is 0.8088443202367254\n"
     ]
    }
   ],
   "source": [
    "#the grid of parameters to search over\n",
    "Cs = [0.001, 0.1, 1, 10, 100]\n",
    "param_grid = {'C': Cs}\n",
    "from sklearn.model_selection import GridSearchCV\n",
    "clf = LogisticRegression(max_iter=1000,class_weight={0:0.56365827,1:4.4272198})\n",
    "clf_cv=GridSearchCV(clf,param_grid,cv=5)\n",
    "clf_cv.fit(X_train, y_train)\n",
    "print(\"Tuned Logistic Regression Parameters: {}\".format(clf_cv.best_params_))\n",
    "print(\"Best score is {}\".format(clf_cv.best_score_))"
   ]
  },
  {
   "cell_type": "code",
   "execution_count": 156,
   "metadata": {},
   "outputs": [
    {
     "data": {
      "text/plain": [
       "LogisticRegression(C=1, class_weight={0: 0.56365827, 1: 4.4272198},\n",
       "                   max_iter=1000)"
      ]
     },
     "execution_count": 156,
     "metadata": {},
     "output_type": "execute_result"
    }
   ],
   "source": [
    "clf_best=LogisticRegression(C=1,max_iter=1000,class_weight={0:0.56365827,1:4.4272198})\n",
    "clf_best.fit(X_train, y_train)"
   ]
  },
  {
   "cell_type": "code",
   "execution_count": 157,
   "metadata": {},
   "outputs": [
    {
     "name": "stdout",
     "output_type": "stream",
     "text": [
      "Accuracy Score of Final Logistic Regression Model is 0.8153664069434855\n"
     ]
    }
   ],
   "source": [
    "y_pred=clf_best.predict(X_test)\n",
    "print('Accuracy Score of Final Logistic Regression Model is',accuracy_score(y_pred, y_test))"
   ]
  },
  {
   "cell_type": "code",
   "execution_count": 158,
   "metadata": {},
   "outputs": [
    {
     "name": "stdout",
     "output_type": "stream",
     "text": [
      "Confusion Matrix for Final Logistic Regression\n",
      " [[7503 1513]\n",
      " [ 359  764]]\n"
     ]
    }
   ],
   "source": [
    "cm = confusion_matrix(y_test, y_pred)\n",
    "print('Confusion Matrix for Final Logistic Regression\\n',cm)"
   ]
  },
  {
   "cell_type": "code",
   "execution_count": 159,
   "metadata": {},
   "outputs": [
    {
     "name": "stdout",
     "output_type": "stream",
     "text": [
      "Classification Report for Final Logistic Regression Model is\n",
      "               precision    recall  f1-score   support\n",
      "\n",
      "           0       0.95      0.83      0.89      9016\n",
      "           1       0.34      0.68      0.45      1123\n",
      "\n",
      "    accuracy                           0.82     10139\n",
      "   macro avg       0.64      0.76      0.67     10139\n",
      "weighted avg       0.89      0.82      0.84     10139\n",
      "\n"
     ]
    }
   ],
   "source": [
    "print('Classification Report for Final Logistic Regression Model is\\n',classification_report(y_test, y_pred))"
   ]
  },
  {
   "cell_type": "markdown",
   "metadata": {},
   "source": [
    "<B>Updating the threshold for Logistic Regression"
   ]
  },
  {
   "cell_type": "code",
   "execution_count": 160,
   "metadata": {},
   "outputs": [
    {
     "name": "stdout",
     "output_type": "stream",
     "text": [
      "Confusion Matrix after updating class weight and using Logistic Regression\n",
      " [[8192  824]\n",
      " [ 450  673]]\n",
      "Logistic Regression: f1-score=0.514\n"
     ]
    }
   ],
   "source": [
    "THRESHOLD = 0.60\n",
    "y_pred=clf_best.predict(X_test)\n",
    "y_pred=np.where(clf_best.predict_proba(X_test)[:,1] > THRESHOLD, 1, 0)\n",
    "cm = confusion_matrix(y_test, y_pred)\n",
    "print('Confusion Matrix after updating class weight and using Logistic Regression\\n',cm)\n",
    "f1 = f1_score(y_test, y_pred)\n",
    "print('Logistic Regression: f1-score=%.3f' % (f1))"
   ]
  },
  {
   "cell_type": "code",
   "execution_count": 161,
   "metadata": {},
   "outputs": [
    {
     "name": "stdout",
     "output_type": "stream",
     "text": [
      "Classifiaction Report after updating class weight and using Logistic Regression\n",
      "               precision    recall  f1-score   support\n",
      "\n",
      "           0       0.95      0.91      0.93      9016\n",
      "           1       0.45      0.60      0.51      1123\n",
      "\n",
      "    accuracy                           0.87     10139\n",
      "   macro avg       0.70      0.75      0.72     10139\n",
      "weighted avg       0.89      0.87      0.88     10139\n",
      "\n"
     ]
    }
   ],
   "source": [
    "print('Classifiaction Report after updating class weight and using Logistic Regression\\n',classification_report(y_test, y_pred))"
   ]
  },
  {
   "cell_type": "code",
   "execution_count": 162,
   "metadata": {},
   "outputs": [],
   "source": [
    "\n",
    "#recall_score(y_test, y_pred)"
   ]
  },
  {
   "cell_type": "markdown",
   "metadata": {},
   "source": [
    "<B>Random Forrest</B><br>\n",
    "For Random Sampling model with undersampling performed well with no clubbed features, therefore we will be under sample original data and apply it to Randomforest Model"
   ]
  },
  {
   "cell_type": "code",
   "execution_count": 163,
   "metadata": {},
   "outputs": [],
   "source": [
    "#Undersample Original Data\n",
    "rus = RandomUnderSampler(random_state=42)\n",
    "X_udr, y_udr = rus.fit_resample(X_train_bkp, y_train_bkp)"
   ]
  },
  {
   "cell_type": "code",
   "execution_count": 164,
   "metadata": {},
   "outputs": [],
   "source": [
    "# Number of trees in random forest\n",
    "n_estimators = [int(x) for x in np.linspace(start = 200, stop = 2000, num = 10)] #this\n",
    "# Maximum number of levels in tree\n",
    "max_depth = [int(x) for x in np.linspace(10, 110, num = 11)] #this\n",
    "max_depth.append(None)\n",
    "# Number of features to consider at every split\n",
    "max_features = ['auto', 'sqrt'] \n",
    "# Create the random grid\n",
    "random_grid = {'n_estimators': n_estimators,\n",
    "               'max_features': max_features,\n",
    "               'max_depth': max_depth}"
   ]
  },
  {
   "cell_type": "code",
   "execution_count": 165,
   "metadata": {},
   "outputs": [
    {
     "data": {
      "text/plain": [
       "RandomizedSearchCV(estimator=RandomForestClassifier(), n_jobs=-1,\n",
       "                   param_distributions={'max_depth': [10, 20, 30, 40, 50, 60,\n",
       "                                                      70, 80, 90, 100, 110,\n",
       "                                                      None],\n",
       "                                        'max_features': ['auto', 'sqrt'],\n",
       "                                        'n_estimators': [200, 400, 600, 800,\n",
       "                                                         1000, 1200, 1400, 1600,\n",
       "                                                         1800, 2000]},\n",
       "                   scoring='f1')"
      ]
     },
     "execution_count": 165,
     "metadata": {},
     "output_type": "execute_result"
    }
   ],
   "source": [
    "random_clf_best = RandomForestClassifier()\n",
    "random_clf_best_cv=RandomizedSearchCV(random_clf_best,param_distributions = random_grid,scoring = 'f1', n_jobs = -1,cv=None)\n",
    "random_clf_best_cv.fit(X_udr,y_udr)"
   ]
  },
  {
   "cell_type": "code",
   "execution_count": 166,
   "metadata": {},
   "outputs": [
    {
     "name": "stdout",
     "output_type": "stream",
     "text": [
      "Tuned Logistic Regression Parameters: {'n_estimators': 1200, 'max_features': 'sqrt', 'max_depth': 10}\n",
      "Best score is 0.7080384991342579\n"
     ]
    }
   ],
   "source": [
    "print(\"Tuned Random Forest Parameters: {}\".format(random_clf_best_cv.best_params_))\n",
    "print(\"Best score is {}\".format(random_clf_best_cv.best_score_))"
   ]
  },
  {
   "cell_type": "code",
   "execution_count": 171,
   "metadata": {},
   "outputs": [
    {
     "name": "stdout",
     "output_type": "stream",
     "text": [
      "Accuracy Score of Random Forest is 0.8360785087286715\n",
      "Random Forest: f1-score=0.473\n"
     ]
    }
   ],
   "source": [
    "#Use Randome Forest on updated data\n",
    "rand_clsf_best = RandomForestClassifier(n_estimators=1200,max_features='sqrt',max_depth=10)\n",
    "rand_clsf_best.fit(X_udr,y_udr)\n",
    "# Print the accuracy from the testing data.\n",
    "y_pred=rand_clsf_best.predict(X_test_bkp)\n",
    "print('Accuracy Score of Random Forest is',accuracy_score(y_pred, y_test))\n",
    "f1 = f1_score(y_test, y_pred)\n",
    "print('Random Forest: f1-score=%.3f' % (f1))"
   ]
  },
  {
   "cell_type": "code",
   "execution_count": 172,
   "metadata": {},
   "outputs": [
    {
     "name": "stdout",
     "output_type": "stream",
     "text": [
      "Confusion Matrix for Final Logistic Regression\n",
      " [[7731 1285]\n",
      " [ 377  746]]\n"
     ]
    }
   ],
   "source": [
    "cm = confusion_matrix(y_test_bkp, y_pred)\n",
    "print('Confusion Matrix for Final Logistic Regression\\n',cm)"
   ]
  },
  {
   "cell_type": "code",
   "execution_count": 174,
   "metadata": {},
   "outputs": [
    {
     "name": "stdout",
     "output_type": "stream",
     "text": [
      "Classifiaction Report after updating class weight and using Logistic Regression\n",
      "               precision    recall  f1-score   support\n",
      "\n",
      "           0       0.95      0.86      0.90      9016\n",
      "           1       0.37      0.66      0.47      1123\n",
      "\n",
      "    accuracy                           0.84     10139\n",
      "   macro avg       0.66      0.76      0.69     10139\n",
      "weighted avg       0.89      0.84      0.86     10139\n",
      "\n"
     ]
    }
   ],
   "source": [
    "print('Classifiaction Report after updating class weight and using Logistic Regression\\n',classification_report(y_test_bkp, y_pred))"
   ]
  },
  {
   "cell_type": "code",
   "execution_count": 190,
   "metadata": {},
   "outputs": [
    {
     "name": "stdout",
     "output_type": "stream",
     "text": [
      "Accuracy Score by after balancing the data and using Random Forest 0.8786862609724825\n"
     ]
    }
   ],
   "source": [
    "#update the threshold and then predict the value\n",
    "THRESHOLD = 0.65\n",
    "#y_pred=clf.predict(X_test)\n",
    "y_pred=np.where(rand_clsf_best.predict_proba(X_test_bkp)[:,1] > THRESHOLD, 1, 0)\n",
    "print('Accuracy Score by after balancing the data and using Random Forest',accuracy_score(y_pred, y_test_bkp))"
   ]
  },
  {
   "cell_type": "code",
   "execution_count": 182,
   "metadata": {},
   "outputs": [
    {
     "name": "stdout",
     "output_type": "stream",
     "text": [
      "Confusion Matrix for Final Logistic Regression\n",
      " [[8230  786]\n",
      " [ 444  679]]\n"
     ]
    }
   ],
   "source": [
    "cm = confusion_matrix(y_test_bkp, y_pred)\n",
    "print('Confusion Matrix for Final Logistic Regression\\n',cm)"
   ]
  },
  {
   "cell_type": "code",
   "execution_count": 183,
   "metadata": {},
   "outputs": [
    {
     "name": "stdout",
     "output_type": "stream",
     "text": [
      "Classifiaction Report after updating class weight and using Logistic Regression\n",
      "               precision    recall  f1-score   support\n",
      "\n",
      "           0       0.95      0.91      0.93      9016\n",
      "           1       0.46      0.60      0.52      1123\n",
      "\n",
      "    accuracy                           0.88     10139\n",
      "   macro avg       0.71      0.76      0.73     10139\n",
      "weighted avg       0.90      0.88      0.89     10139\n",
      "\n"
     ]
    }
   ],
   "source": [
    "print('Classifiaction Report after updating class weight and using Logistic Regression\\n',classification_report(y_test_bkp, y_pred))"
   ]
  },
  {
   "cell_type": "markdown",
   "metadata": {},
   "source": [
    "<B>Ridge Rigression</B><br>\n",
    "Here for ridge classification best model performed was on scaled and original data and balancing data with cass weight"
   ]
  },
  {
   "cell_type": "code",
   "execution_count": 186,
   "metadata": {},
   "outputs": [],
   "source": [
    "alpha = [0.1, 0.2, 0.3, 0.4, 0.5, 0.6, 0.7, 0.8, 0.9, 1.0]\n",
    "grid = dict(alpha=alpha)\n",
    "cv = RepeatedStratifiedKFold(n_splits=10, n_repeats=3, random_state=1)"
   ]
  },
  {
   "cell_type": "code",
   "execution_count": 187,
   "metadata": {},
   "outputs": [
    {
     "data": {
      "text/plain": [
       "RandomizedSearchCV(cv=RepeatedStratifiedKFold(n_repeats=3, n_splits=10, random_state=1),\n",
       "                   estimator=RidgeClassifier(class_weight={0: 0.56365827,\n",
       "                                                           1: 4.4272198}),\n",
       "                   n_jobs=-1,\n",
       "                   param_distributions={'alpha': [0.1, 0.2, 0.3, 0.4, 0.5, 0.6,\n",
       "                                                  0.7, 0.8, 0.9, 1.0]},\n",
       "                   scoring='f1')"
      ]
     },
     "execution_count": 187,
     "metadata": {},
     "output_type": "execute_result"
    }
   ],
   "source": [
    "ridge_cv=RidgeClassifier(class_weight={0:0.56365827,1:4.4272198})\n",
    "ridge_clf_cv = RandomizedSearchCV(ridge_cv,param_distributions = grid,scoring = 'f1', n_jobs = -1,cv=cv)\n",
    "ridge_clf_cv.fit(X_train_bkp,y_train_bkp)"
   ]
  },
  {
   "cell_type": "code",
   "execution_count": 189,
   "metadata": {},
   "outputs": [
    {
     "name": "stdout",
     "output_type": "stream",
     "text": [
      "Tuned Ridge Classifier Parameters: {'alpha': 0.1}\n",
      "Best score is 0.42814094278543435\n"
     ]
    }
   ],
   "source": [
    "print(\"Tuned Ridge Classifier Parameters: {}\".format(ridge_clf_cv.best_params_))\n",
    "print(\"Best score is {}\".format(ridge_clf_cv.best_score_))"
   ]
  },
  {
   "cell_type": "code",
   "execution_count": 197,
   "metadata": {},
   "outputs": [
    {
     "name": "stdout",
     "output_type": "stream",
     "text": [
      "Accuracy Score of Ridge Regression is 0.8129993095966072\n"
     ]
    }
   ],
   "source": [
    "ridge_best_clf_cv=RidgeClassifier(class_weight={0:0.56365827,1:4.4272198},alpha=0.1)\n",
    "ridge_best_clf_cv.fit(X_train_bkp, y_train_bkp)\n",
    "y_pred=ridge_best_clf_cv.predict(X_test_bkp)\n",
    "print('Accuracy Score of Ridge Regression is',accuracy_score(y_pred, y_test_bkp))"
   ]
  },
  {
   "cell_type": "code",
   "execution_count": 198,
   "metadata": {},
   "outputs": [
    {
     "name": "stdout",
     "output_type": "stream",
     "text": [
      "Confusion Matrix for Final Logistic Regression\n",
      " [[7486 1530]\n",
      " [ 366  757]]\n"
     ]
    }
   ],
   "source": [
    "cm = confusion_matrix(y_test_bkp, y_pred)\n",
    "print('Confusion Matrix for Final Logistic Regression\\n',cm)"
   ]
  },
  {
   "cell_type": "code",
   "execution_count": 199,
   "metadata": {},
   "outputs": [
    {
     "name": "stdout",
     "output_type": "stream",
     "text": [
      "Classifiaction Report after updating class weight and using Logistic Regression\n",
      "               precision    recall  f1-score   support\n",
      "\n",
      "           0       0.95      0.83      0.89      9016\n",
      "           1       0.33      0.67      0.44      1123\n",
      "\n",
      "    accuracy                           0.81     10139\n",
      "   macro avg       0.64      0.75      0.67     10139\n",
      "weighted avg       0.88      0.81      0.84     10139\n",
      "\n"
     ]
    }
   ],
   "source": [
    "print('Classifiaction Report after updating class weight and using Logistic Regression\\n',classification_report(y_test_bkp, y_pred))"
   ]
  },
  {
   "cell_type": "markdown",
   "metadata": {},
   "source": [
    "<B>SVM</B> <br>\n",
    "SVM worked well on clubbed features data set and balancing data with oversampling. "
   ]
  },
  {
   "cell_type": "code",
   "execution_count": 211,
   "metadata": {},
   "outputs": [],
   "source": [
    "param_grid = {\n",
    "    'alpha': [1e-4, 1e-3, 1e-2, 1e-1, 1e0, 1e1, 1e2, 1e3], # learning rate\n",
    "    'loss': ['log','hinge'], # logistic regression,\n",
    "    'penalty': ['l2']\n",
    "}"
   ]
  },
  {
   "cell_type": "code",
   "execution_count": 212,
   "metadata": {},
   "outputs": [
    {
     "data": {
      "text/plain": [
       "GridSearchCV(cv=5, estimator=SGDClassifier(),\n",
       "             param_grid={'alpha': [0.0001, 0.001, 0.01, 0.1, 1.0, 10.0, 100.0,\n",
       "                                   1000.0],\n",
       "                         'loss': ['log', 'hinge'], 'penalty': ['l2']})"
      ]
     },
     "execution_count": 212,
     "metadata": {},
     "output_type": "execute_result"
    }
   ],
   "source": [
    "svm_cv=svm()\n",
    "svm_clf_cv =GridSearchCV(svm_cv,param_grid,cv=5)\n",
    "svm_clf_cv.fit(X_ovr,y_ovr)"
   ]
  },
  {
   "cell_type": "code",
   "execution_count": 213,
   "metadata": {},
   "outputs": [
    {
     "name": "stdout",
     "output_type": "stream",
     "text": [
      "Tuned Ridge Classifier Parameters: {'alpha': 0.01, 'loss': 'log', 'penalty': 'l2'}\n",
      "Best score is 0.741160118606375\n"
     ]
    }
   ],
   "source": [
    "print(\"Tuned Ridge Classifier Parameters: {}\".format(svm_clf_cv.best_params_))\n",
    "print(\"Best score is {}\".format(svm_clf_cv.best_score_))"
   ]
  },
  {
   "cell_type": "code",
   "execution_count": 214,
   "metadata": {},
   "outputs": [
    {
     "name": "stdout",
     "output_type": "stream",
     "text": [
      "Accuracy Score of SVM is 0.8075747115100108\n"
     ]
    }
   ],
   "source": [
    "svm_best_clf_cv = svm(alpha=0.01,loss= 'log', penalty= 'l2')\n",
    "svm_best_clf_cv.fit(X_ovr, y_ovr)\n",
    "y_pred=svm_best_clf_cv.predict(X_test)\n",
    "print('Accuracy Score of SVM is',accuracy_score(y_pred, y_test))"
   ]
  },
  {
   "cell_type": "code",
   "execution_count": 215,
   "metadata": {},
   "outputs": [
    {
     "name": "stdout",
     "output_type": "stream",
     "text": [
      "Confusion Matrix for Final Logistic Regression\n",
      " [[7423 1593]\n",
      " [ 358  765]]\n"
     ]
    }
   ],
   "source": [
    "cm = confusion_matrix(y_test, y_pred)\n",
    "print('Confusion Matrix for Final Logistic Regression\\n',cm)"
   ]
  },
  {
   "cell_type": "code",
   "execution_count": 216,
   "metadata": {},
   "outputs": [
    {
     "name": "stdout",
     "output_type": "stream",
     "text": [
      "Classifiaction Report after updating class weight and using Logistic Regression\n",
      "               precision    recall  f1-score   support\n",
      "\n",
      "           0       0.95      0.82      0.88      9016\n",
      "           1       0.32      0.68      0.44      1123\n",
      "\n",
      "    accuracy                           0.81     10139\n",
      "   macro avg       0.64      0.75      0.66     10139\n",
      "weighted avg       0.88      0.81      0.83     10139\n",
      "\n"
     ]
    }
   ],
   "source": [
    "print('Classifiaction Report after updating class weight and using Logistic Regression\\n',classification_report(y_test, y_pred))"
   ]
  },
  {
   "cell_type": "markdown",
   "metadata": {},
   "source": [
    "<B>XG Boost </B> <br>\n",
    "XGBoost performed best on scaled original data, where imbalance data was handled by Scale Position Weight "
   ]
  },
  {
   "cell_type": "code",
   "execution_count": 217,
   "metadata": {},
   "outputs": [],
   "source": [
    "from scipy import stats\n",
    "from sklearn.model_selection import RandomizedSearchCV\n",
    "n_estimators = [int(x) for x in np.linspace(start = 200, stop = 2000, num = 10)]\n",
    "param_dist = {'n_estimators': n_estimators,\n",
    "              'learning_rate': stats.uniform(0.01, 0.6),\n",
    "              'subsample': stats.uniform(0.3, 0.9),\n",
    "              'max_depth': [3, 4, 5, 6, 7, 8, 9]\n",
    "             }"
   ]
  },
  {
   "cell_type": "code",
   "execution_count": 218,
   "metadata": {},
   "outputs": [],
   "source": [
    "clf_xgb = XGBClassifier(scale_pos_weight=scale_pos_weight)\n",
    "xgb_clf = RandomizedSearchCV(clf_xgb, param_distributions = param_dist, n_iter = 10, \n",
    "                             scoring = 'f1', n_jobs = -1,cv=None)"
   ]
  },
  {
   "cell_type": "code",
   "execution_count": 219,
   "metadata": {},
   "outputs": [
    {
     "data": {
      "text/plain": [
       "RandomizedSearchCV(estimator=XGBClassifier(scale_pos_weight=7.854439592430859),\n",
       "                   n_jobs=-1,\n",
       "                   param_distributions={'learning_rate': <scipy.stats._distn_infrastructure.rv_frozen object at 0x000001D65A886B48>,\n",
       "                                        'max_depth': [3, 4, 5, 6, 7, 8, 9],\n",
       "                                        'n_estimators': [200, 400, 600, 800,\n",
       "                                                         1000, 1200, 1400, 1600,\n",
       "                                                         1800, 2000],\n",
       "                                        'subsample': <scipy.stats._distn_infrastructure.rv_frozen object at 0x000001D65A84B848>},\n",
       "                   scoring='f1')"
      ]
     },
     "execution_count": 219,
     "metadata": {},
     "output_type": "execute_result"
    }
   ],
   "source": [
    "xgb_clf.fit(X_train_bkp, y_train_bkp)"
   ]
  },
  {
   "cell_type": "code",
   "execution_count": 227,
   "metadata": {},
   "outputs": [
    {
     "name": "stdout",
     "output_type": "stream",
     "text": [
      "Tuned XGboost Parameters: {'learning_rate': 0.03512530075230746, 'max_depth': 9, 'n_estimators': 400, 'subsample': 0.45609232557844703}\n",
      "Best score is 0.44017559303074416\n"
     ]
    }
   ],
   "source": [
    "print(\"Tuned XGboost Parameters: {}\".format(xgb_clf.best_params_))\n",
    "print(\"Best score is {}\".format(xgb_clf.best_score_))"
   ]
  },
  {
   "cell_type": "code",
   "execution_count": 221,
   "metadata": {},
   "outputs": [],
   "source": [
    "best_clf_xgb = XGBClassifier(scale_pos_weight=scale_pos_weight,\n",
    "                             learning_rate= 0.03512530075230746, \n",
    "                             max_depth= 9, \n",
    "                             n_estimators= 400, \n",
    "                             subsample= 0.45609232557844703)"
   ]
  },
  {
   "cell_type": "code",
   "execution_count": 224,
   "metadata": {},
   "outputs": [
    {
     "name": "stdout",
     "output_type": "stream",
     "text": [
      "Accuracy Score of Xgboost is 0.8564947233454976\n",
      "Logistic Regression: f1-score=0.461\n"
     ]
    }
   ],
   "source": [
    "best_clf_xgb.fit(X_train_bkp, y_train_bkp)\n",
    "y_pred=best_clf_xgb.predict(X_test_bkp)\n",
    "print('Accuracy Score of Xgboost is',accuracy_score(y_pred, y_test_bkp))\n",
    "f1 = f1_score(y_test, y_pred)\n",
    "print('XGBoost: f1-score=%.3f' % (f1))"
   ]
  },
  {
   "cell_type": "code",
   "execution_count": 225,
   "metadata": {},
   "outputs": [
    {
     "name": "stdout",
     "output_type": "stream",
     "text": [
      "Confusion Matrix after updating class weight and using Logistic Regression\n",
      " [[8063  953]\n",
      " [ 502  621]]\n"
     ]
    }
   ],
   "source": [
    "cm = confusion_matrix(y_test_bkp, y_pred)\n",
    "print('Confusion Matrix after updating class weight and using Logistic Regression\\n',cm)"
   ]
  },
  {
   "cell_type": "code",
   "execution_count": 229,
   "metadata": {},
   "outputs": [
    {
     "name": "stdout",
     "output_type": "stream",
     "text": [
      "              precision    recall  f1-score   support\n",
      "\n",
      "           0       0.94      0.89      0.92      9016\n",
      "           1       0.39      0.55      0.46      1123\n",
      "\n",
      "    accuracy                           0.86     10139\n",
      "   macro avg       0.67      0.72      0.69     10139\n",
      "weighted avg       0.88      0.86      0.87     10139\n",
      "\n"
     ]
    }
   ],
   "source": [
    "print(classification_report(y_test_bkp, y_pred))"
   ]
  },
  {
   "cell_type": "code",
   "execution_count": null,
   "metadata": {},
   "outputs": [],
   "source": []
  },
  {
   "cell_type": "code",
   "execution_count": null,
   "metadata": {},
   "outputs": [],
   "source": []
  },
  {
   "cell_type": "code",
   "execution_count": null,
   "metadata": {},
   "outputs": [],
   "source": [
    "clf = LogisticRegression(max_iter=1000,class_weight={0:0.56365827,1:4.4272198})\n",
    "clf_cv=GridSearchCV(clf,param_grid,cv=5)\n",
    "clf_cv.fit(X_train, y_train)"
   ]
  },
  {
   "cell_type": "code",
   "execution_count": null,
   "metadata": {},
   "outputs": [],
   "source": [
    "clf = RandomForestClassifier()\n",
    "clf_cv=GridSearchCV(clf,random_grid,cv=5)\n",
    "\n",
    "from sklearn.model_selection import RandomizedSearchCV\n",
    "# Number of trees in random forest\n",
    "n_estimators = [int(x) for x in np.linspace(start = 200, stop = 2000, num = 10)] #this\n",
    "# Number of features to consider at every split\n",
    "max_features = ['auto', 'sqrt'] \n",
    "# Maximum number of levels in tree\n",
    "max_depth = [int(x) for x in np.linspace(10, 110, num = 11)] #this\n",
    "max_depth.append(None)\n",
    "# Create the random grid\n",
    "random_grid = {'n_estimators': n_estimators,\n",
    "               'max_features': max_features,\n",
    "               'max_depth': max_depth}"
   ]
  },
  {
   "cell_type": "code",
   "execution_count": null,
   "metadata": {},
   "outputs": [],
   "source": []
  },
  {
   "cell_type": "code",
   "execution_count": null,
   "metadata": {},
   "outputs": [],
   "source": []
  },
  {
   "cell_type": "code",
   "execution_count": null,
   "metadata": {},
   "outputs": [],
   "source": []
  },
  {
   "cell_type": "markdown",
   "metadata": {},
   "source": [
    "<B>KNN"
   ]
  },
  {
   "cell_type": "code",
   "execution_count": null,
   "metadata": {},
   "outputs": [],
   "source": [
    "param_grid={'n_neighbors':np.arange(1,50)}\n",
    "knn=KNeighborsClassifier()\n",
    "knn_cv=GridSearchCV(knn,param_grid,cv=5)\n",
    "#knn_cv.fit(X_train,y_train)\n",
    "#print(\"Tuned KNN Parameters: {}\".format(knn_cv.best_params_))\n",
    "#print(\"Best score is {}\".format(knn_cv.best_score_))"
   ]
  },
  {
   "cell_type": "code",
   "execution_count": null,
   "metadata": {},
   "outputs": [],
   "source": []
  },
  {
   "cell_type": "code",
   "execution_count": null,
   "metadata": {},
   "outputs": [],
   "source": [
    "#knn_cv.fit(X_train,y_train)"
   ]
  },
  {
   "cell_type": "code",
   "execution_count": null,
   "metadata": {},
   "outputs": [],
   "source": [
    "#print(\"Tuned KNN Parameters: {}\".format(knn_cv.best_params_))\n",
    "#print(\"Best score is {}\".format(knn_cv.best_score_))"
   ]
  },
  {
   "cell_type": "code",
   "execution_count": null,
   "metadata": {},
   "outputs": [],
   "source": [
    "#knn = KNeighborsClassifier(n_neighbors=30)\n",
    "#knn.fit(X_train, y_train)"
   ]
  },
  {
   "cell_type": "code",
   "execution_count": null,
   "metadata": {},
   "outputs": [],
   "source": [
    "#y_pred=knn.predict(X_test)\n",
    "#print('Accuracy Score without scaling the data and using KNN',accuracy_score(y_pred, y_test))\n",
    "#f1 = f1_score(y_test, y_pred, average='weighted')\n",
    "#print('KNN: f1-score=%.3f' % (f1))"
   ]
  },
  {
   "cell_type": "code",
   "execution_count": null,
   "metadata": {},
   "outputs": [],
   "source": [
    "#cm = confusion_matrix(y_test, y_pred)\n",
    "#print(cm)"
   ]
  },
  {
   "cell_type": "code",
   "execution_count": null,
   "metadata": {},
   "outputs": [],
   "source": [
    "#print('Classification Report after scaling the data and using KNN\\n',classification_report(y_test, y_pred))"
   ]
  },
  {
   "cell_type": "code",
   "execution_count": null,
   "metadata": {},
   "outputs": [],
   "source": [
    "from sklearn.model_selection import RandomizedSearchCV\n",
    "# Number of trees in random forest\n",
    "n_estimators = [int(x) for x in np.linspace(start = 200, stop = 2000, num = 10)] #this\n",
    "# Number of features to consider at every split\n",
    "max_features = ['auto', 'sqrt'] \n",
    "# Maximum number of levels in tree\n",
    "max_depth = [int(x) for x in np.linspace(10, 110, num = 11)] #this\n",
    "max_depth.append(None)\n",
    "# Create the random grid\n",
    "random_grid = {'n_estimators': n_estimators,\n",
    "               'max_features': max_features,\n",
    "               'max_depth': max_depth}"
   ]
  },
  {
   "cell_type": "code",
   "execution_count": null,
   "metadata": {},
   "outputs": [],
   "source": []
  },
  {
   "cell_type": "code",
   "execution_count": null,
   "metadata": {},
   "outputs": [],
   "source": []
  },
  {
   "cell_type": "code",
   "execution_count": null,
   "metadata": {},
   "outputs": [],
   "source": []
  }
 ],
 "metadata": {
  "kernelspec": {
   "display_name": "Python 3",
   "language": "python",
   "name": "python3"
  },
  "language_info": {
   "codemirror_mode": {
    "name": "ipython",
    "version": 3
   },
   "file_extension": ".py",
   "mimetype": "text/x-python",
   "name": "python",
   "nbconvert_exporter": "python",
   "pygments_lexer": "ipython3",
   "version": "3.7.6"
  }
 },
 "nbformat": 4,
 "nbformat_minor": 4
}
