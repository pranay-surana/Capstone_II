{
 "cells": [
  {
   "cell_type": "markdown",
   "metadata": {},
   "source": [
    "<h1> Step Four : Feature Engineering and Modelling"
   ]
  },
  {
   "cell_type": "markdown",
   "metadata": {},
   "source": [
    "<B>Load python packages"
   ]
  },
  {
   "cell_type": "code",
   "execution_count": 1,
   "metadata": {},
   "outputs": [],
   "source": [
    "import os\n",
    "import pandas as pd\n",
    "import datetime\n",
    "import seaborn as sns\n",
    "import matplotlib.pyplot as plt\n",
    "from sklearn.metrics import classification_report,confusion_matrix,roc_curve,roc_auc_score\n",
    "from sklearn.metrics import f1_score\n",
    "from sklearn.metrics import classification_report,plot_precision_recall_curve\n",
    "from sklearn import preprocessing\n",
    "from sklearn.ensemble import RandomForestClassifier\n",
    "from sklearn.neighbors import KNeighborsClassifier\n",
    "from sklearn.linear_model import LogisticRegression\n",
    "from sklearn.metrics import accuracy_score, roc_auc_score\n",
    "from sklearn.model_selection import train_test_split\n",
    "from sklearn.linear_model import SGDClassifier as svm\n",
    "from sklearn.linear_model import RidgeClassifier\n",
    "from sklearn.utils.class_weight import compute_class_weight\n",
    "from sklearn.decomposition import PCA\n",
    "from sklearn.metrics import precision_recall_curve, roc_curve\n",
    "from sklearn.metrics import auc\n",
    "import numpy as np\n",
    "%matplotlib inline"
   ]
  },
  {
   "cell_type": "markdown",
   "metadata": {},
   "source": [
    "<B>Get Current Working Directory, read file and observe sample rows  "
   ]
  },
  {
   "cell_type": "code",
   "execution_count": 2,
   "metadata": {},
   "outputs": [
    {
     "data": {
      "text/plain": [
       "'C:\\\\Users\\\\Pranay\\\\Projects\\\\GitHub\\\\Capstone_II'"
      ]
     },
     "execution_count": 2,
     "metadata": {},
     "output_type": "execute_result"
    }
   ],
   "source": [
    "os.getcwd()"
   ]
  },
  {
   "cell_type": "code",
   "execution_count": 3,
   "metadata": {},
   "outputs": [
    {
     "data": {
      "text/html": [
       "<div>\n",
       "<style scoped>\n",
       "    .dataframe tbody tr th:only-of-type {\n",
       "        vertical-align: middle;\n",
       "    }\n",
       "\n",
       "    .dataframe tbody tr th {\n",
       "        vertical-align: top;\n",
       "    }\n",
       "\n",
       "    .dataframe thead th {\n",
       "        text-align: right;\n",
       "    }\n",
       "</style>\n",
       "<table border=\"1\" class=\"dataframe\">\n",
       "  <thead>\n",
       "    <tr style=\"text-align: right;\">\n",
       "      <th></th>\n",
       "      <th>age</th>\n",
       "      <th>job</th>\n",
       "      <th>marital</th>\n",
       "      <th>education</th>\n",
       "      <th>default</th>\n",
       "      <th>housing</th>\n",
       "      <th>loan</th>\n",
       "      <th>contact</th>\n",
       "      <th>month</th>\n",
       "      <th>day_of_week</th>\n",
       "      <th>campaign</th>\n",
       "      <th>pdays</th>\n",
       "      <th>previous</th>\n",
       "      <th>poutcome</th>\n",
       "      <th>emp.var.rate</th>\n",
       "      <th>cons.price.idx</th>\n",
       "      <th>cons.conf.idx</th>\n",
       "      <th>y</th>\n",
       "    </tr>\n",
       "  </thead>\n",
       "  <tbody>\n",
       "    <tr>\n",
       "      <th>0</th>\n",
       "      <td>56</td>\n",
       "      <td>housemaid</td>\n",
       "      <td>married</td>\n",
       "      <td>basic.4y</td>\n",
       "      <td>no</td>\n",
       "      <td>no</td>\n",
       "      <td>no</td>\n",
       "      <td>telephone</td>\n",
       "      <td>may</td>\n",
       "      <td>mon</td>\n",
       "      <td>1</td>\n",
       "      <td>999</td>\n",
       "      <td>0</td>\n",
       "      <td>nonexistent</td>\n",
       "      <td>1.1</td>\n",
       "      <td>93.994</td>\n",
       "      <td>-36.4</td>\n",
       "      <td>no</td>\n",
       "    </tr>\n",
       "    <tr>\n",
       "      <th>1</th>\n",
       "      <td>57</td>\n",
       "      <td>services</td>\n",
       "      <td>married</td>\n",
       "      <td>high.school</td>\n",
       "      <td>unknown</td>\n",
       "      <td>no</td>\n",
       "      <td>no</td>\n",
       "      <td>telephone</td>\n",
       "      <td>may</td>\n",
       "      <td>mon</td>\n",
       "      <td>1</td>\n",
       "      <td>999</td>\n",
       "      <td>0</td>\n",
       "      <td>nonexistent</td>\n",
       "      <td>1.1</td>\n",
       "      <td>93.994</td>\n",
       "      <td>-36.4</td>\n",
       "      <td>no</td>\n",
       "    </tr>\n",
       "    <tr>\n",
       "      <th>2</th>\n",
       "      <td>37</td>\n",
       "      <td>services</td>\n",
       "      <td>married</td>\n",
       "      <td>high.school</td>\n",
       "      <td>no</td>\n",
       "      <td>yes</td>\n",
       "      <td>no</td>\n",
       "      <td>telephone</td>\n",
       "      <td>may</td>\n",
       "      <td>mon</td>\n",
       "      <td>1</td>\n",
       "      <td>999</td>\n",
       "      <td>0</td>\n",
       "      <td>nonexistent</td>\n",
       "      <td>1.1</td>\n",
       "      <td>93.994</td>\n",
       "      <td>-36.4</td>\n",
       "      <td>no</td>\n",
       "    </tr>\n",
       "    <tr>\n",
       "      <th>3</th>\n",
       "      <td>40</td>\n",
       "      <td>admin.</td>\n",
       "      <td>married</td>\n",
       "      <td>basic.6y</td>\n",
       "      <td>no</td>\n",
       "      <td>no</td>\n",
       "      <td>no</td>\n",
       "      <td>telephone</td>\n",
       "      <td>may</td>\n",
       "      <td>mon</td>\n",
       "      <td>1</td>\n",
       "      <td>999</td>\n",
       "      <td>0</td>\n",
       "      <td>nonexistent</td>\n",
       "      <td>1.1</td>\n",
       "      <td>93.994</td>\n",
       "      <td>-36.4</td>\n",
       "      <td>no</td>\n",
       "    </tr>\n",
       "    <tr>\n",
       "      <th>4</th>\n",
       "      <td>56</td>\n",
       "      <td>services</td>\n",
       "      <td>married</td>\n",
       "      <td>high.school</td>\n",
       "      <td>no</td>\n",
       "      <td>no</td>\n",
       "      <td>yes</td>\n",
       "      <td>telephone</td>\n",
       "      <td>may</td>\n",
       "      <td>mon</td>\n",
       "      <td>1</td>\n",
       "      <td>999</td>\n",
       "      <td>0</td>\n",
       "      <td>nonexistent</td>\n",
       "      <td>1.1</td>\n",
       "      <td>93.994</td>\n",
       "      <td>-36.4</td>\n",
       "      <td>no</td>\n",
       "    </tr>\n",
       "  </tbody>\n",
       "</table>\n",
       "</div>"
      ],
      "text/plain": [
       "   age        job  marital    education  default housing loan    contact  \\\n",
       "0   56  housemaid  married     basic.4y       no      no   no  telephone   \n",
       "1   57   services  married  high.school  unknown      no   no  telephone   \n",
       "2   37   services  married  high.school       no     yes   no  telephone   \n",
       "3   40     admin.  married     basic.6y       no      no   no  telephone   \n",
       "4   56   services  married  high.school       no      no  yes  telephone   \n",
       "\n",
       "  month day_of_week  campaign  pdays  previous     poutcome  emp.var.rate  \\\n",
       "0   may         mon         1    999         0  nonexistent           1.1   \n",
       "1   may         mon         1    999         0  nonexistent           1.1   \n",
       "2   may         mon         1    999         0  nonexistent           1.1   \n",
       "3   may         mon         1    999         0  nonexistent           1.1   \n",
       "4   may         mon         1    999         0  nonexistent           1.1   \n",
       "\n",
       "   cons.price.idx  cons.conf.idx   y  \n",
       "0          93.994          -36.4  no  \n",
       "1          93.994          -36.4  no  \n",
       "2          93.994          -36.4  no  \n",
       "3          93.994          -36.4  no  \n",
       "4          93.994          -36.4  no  "
      ]
     },
     "execution_count": 3,
     "metadata": {},
     "output_type": "execute_result"
    }
   ],
   "source": [
    "#Read CSV data\n",
    "df=pd.read_csv('data/step3_output.csv')\n",
    "df.head()"
   ]
  },
  {
   "cell_type": "code",
   "execution_count": 4,
   "metadata": {},
   "outputs": [
    {
     "name": "stdout",
     "output_type": "stream",
     "text": [
      "(40779, 18)\n"
     ]
    }
   ],
   "source": [
    "#Get Shape\n",
    "print(df.shape)"
   ]
  },
  {
   "cell_type": "code",
   "execution_count": 5,
   "metadata": {},
   "outputs": [
    {
     "name": "stdout",
     "output_type": "stream",
     "text": [
      "age                 int64\n",
      "job                object\n",
      "marital            object\n",
      "education          object\n",
      "default            object\n",
      "housing            object\n",
      "loan               object\n",
      "contact            object\n",
      "month              object\n",
      "day_of_week        object\n",
      "campaign            int64\n",
      "pdays               int64\n",
      "previous            int64\n",
      "poutcome           object\n",
      "emp.var.rate      float64\n",
      "cons.price.idx    float64\n",
      "cons.conf.idx     float64\n",
      "y                  object\n",
      "dtype: object\n"
     ]
    }
   ],
   "source": [
    "#Get data types for all the colums \n",
    "print(df.dtypes)\n",
    "udf=df"
   ]
  },
  {
   "cell_type": "markdown",
   "metadata": {},
   "source": [
    "<B>Get all the columns with object datatype excluding dependent column and perform one hot encoding"
   ]
  },
  {
   "cell_type": "code",
   "execution_count": 6,
   "metadata": {},
   "outputs": [
    {
     "name": "stderr",
     "output_type": "stream",
     "text": [
      "C:\\Users\\Pranay\\anaconda3\\lib\\site-packages\\pandas\\core\\frame.py:3997: SettingWithCopyWarning: \n",
      "A value is trying to be set on a copy of a slice from a DataFrame\n",
      "\n",
      "See the caveats in the documentation: https://pandas.pydata.org/pandas-docs/stable/user_guide/indexing.html#returning-a-view-versus-a-copy\n",
      "  errors=errors,\n"
     ]
    }
   ],
   "source": [
    "only_obj=df.select_dtypes(include=['object'])\n",
    "only_obj.drop(['y'],axis=1,inplace=True)\n",
    "col=only_obj.columns"
   ]
  },
  {
   "cell_type": "code",
   "execution_count": 7,
   "metadata": {},
   "outputs": [],
   "source": [
    "#Do One Hot encoding for the objects columns\n",
    "df=pd.get_dummies(df,columns=col)"
   ]
  },
  {
   "cell_type": "code",
   "execution_count": 8,
   "metadata": {},
   "outputs": [
    {
     "data": {
      "text/plain": [
       "age                                int64\n",
       "campaign                           int64\n",
       "pdays                              int64\n",
       "previous                           int64\n",
       "emp.var.rate                     float64\n",
       "cons.price.idx                   float64\n",
       "cons.conf.idx                    float64\n",
       "y                                 object\n",
       "job_admin.                         uint8\n",
       "job_blue-collar                    uint8\n",
       "job_entrepreneur                   uint8\n",
       "job_housemaid                      uint8\n",
       "job_management                     uint8\n",
       "job_retired                        uint8\n",
       "job_self-employed                  uint8\n",
       "job_services                       uint8\n",
       "job_student                        uint8\n",
       "job_technician                     uint8\n",
       "job_unemployed                     uint8\n",
       "marital_divorced                   uint8\n",
       "marital_married                    uint8\n",
       "marital_single                     uint8\n",
       "education_basic.4y                 uint8\n",
       "education_basic.6y                 uint8\n",
       "education_basic.9y                 uint8\n",
       "education_high.school              uint8\n",
       "education_illiterate               uint8\n",
       "education_professional.course      uint8\n",
       "education_university.degree        uint8\n",
       "default_no                         uint8\n",
       "default_unknown                    uint8\n",
       "default_yes                        uint8\n",
       "housing_no                         uint8\n",
       "housing_unknown                    uint8\n",
       "housing_yes                        uint8\n",
       "loan_no                            uint8\n",
       "loan_unknown                       uint8\n",
       "loan_yes                           uint8\n",
       "contact_cellular                   uint8\n",
       "contact_telephone                  uint8\n",
       "month_apr                          uint8\n",
       "month_aug                          uint8\n",
       "month_dec                          uint8\n",
       "month_jul                          uint8\n",
       "month_jun                          uint8\n",
       "month_mar                          uint8\n",
       "month_may                          uint8\n",
       "month_nov                          uint8\n",
       "month_oct                          uint8\n",
       "month_sep                          uint8\n",
       "day_of_week_fri                    uint8\n",
       "day_of_week_mon                    uint8\n",
       "day_of_week_thu                    uint8\n",
       "day_of_week_tue                    uint8\n",
       "day_of_week_wed                    uint8\n",
       "poutcome_failure                   uint8\n",
       "poutcome_nonexistent               uint8\n",
       "poutcome_success                   uint8\n",
       "dtype: object"
      ]
     },
     "execution_count": 8,
     "metadata": {},
     "output_type": "execute_result"
    }
   ],
   "source": [
    "#Get updated data types of all the columns\n",
    "df.dtypes"
   ]
  },
  {
   "cell_type": "code",
   "execution_count": 9,
   "metadata": {},
   "outputs": [],
   "source": [
    "#Transform Dependent Variable values\n",
    "df.y.replace({'yes':1,'no':0},inplace=True)"
   ]
  },
  {
   "cell_type": "markdown",
   "metadata": {},
   "source": [
    "<B>Deal with other continuous variables"
   ]
  },
  {
   "cell_type": "code",
   "execution_count": 10,
   "metadata": {},
   "outputs": [],
   "source": [
    "#Group Age Columns\n",
    "df['Binned_Age']=pd.cut(\n",
    "    df['age'],\n",
    "    bins=[-np.inf,20,30,40,50,60,np.inf],\n",
    "    labels=['0-20','20-30','30-40','40-50','50-60','60-100']\n",
    ")"
   ]
  },
  {
   "cell_type": "code",
   "execution_count": 11,
   "metadata": {},
   "outputs": [],
   "source": [
    "#Group Emp_Var_Rate columns\n",
    "df['Binned_Emp_Var_Rate']=pd.cut(\n",
    "    df['emp.var.rate'],\n",
    "    bins=[-np.inf,-3.5,-2.5,-1.5,-0.5,0.5,1.5,np.inf],\n",
    "    labels=[-4,-3,-2,-1,0,1,2]\n",
    ")"
   ]
  },
  {
   "cell_type": "code",
   "execution_count": 12,
   "metadata": {},
   "outputs": [],
   "source": [
    "#df['euribor3m']=df['euribor3m'].round(1)\n",
    "df['cons.price.idx']=df['cons.price.idx'].round(2)"
   ]
  },
  {
   "cell_type": "code",
   "execution_count": 13,
   "metadata": {},
   "outputs": [],
   "source": [
    "iage=list(df.Binned_Age.value_counts().index)\n",
    "dfyes=df[df['y']==1]"
   ]
  },
  {
   "cell_type": "code",
   "execution_count": 14,
   "metadata": {},
   "outputs": [
    {
     "data": {
      "image/png": "[encoded data removed]",
      "text/plain": [
       "<Figure size 1440x1440 with 1 Axes>"
      ]
     },
     "metadata": {
      "needs_background": "light"
     },
     "output_type": "display_data"
    }
   ],
   "source": [
    "f, (ax1) = plt.subplots(1,1,figsize=(20, 20))\n",
    "x_1 = pd.DataFrame(df.Binned_Age.value_counts()).reindex(iage, axis=0).dropna()\n",
    "names_1 = list(x_1.index)\n",
    "values_1 = list(x_1.Binned_Age)\n",
    "x_2 = pd.DataFrame(dfyes.Binned_Age.value_counts()).reindex(iage, axis=0).dropna()\n",
    "names_2 = list(x_2.index)\n",
    "values_2 = list(x_2.Binned_Age)\n",
    "ax1.plot(names_2,values_2,linestyle='-', marker='o',color = 'black')\n",
    "for i, txt in enumerate(values_2):\n",
    "    ax1.annotate(txt, (names_2[i], values_2[i]))  \n",
    "splot=sns.barplot(x=names_1, y=values_1,color = 'skyblue',palette=None,ax=ax1)\n",
    "splot.set(xlabel= 'Binned_Age', ylabel='counts')\n",
    "for p in splot.patches:\n",
    "        splot.annotate(format(p.get_height(), '.2f'), (p.get_x() + p.get_width() / 2., p.get_height()), ha = 'center', va ='center', xytext = (0, 10), textcoords = 'offset points')\n"
   ]
  },
  {
   "cell_type": "code",
   "execution_count": 15,
   "metadata": {},
   "outputs": [
    {
     "name": "stdout",
     "output_type": "stream",
     "text": [
      "(40779, 65)\n"
     ]
    }
   ],
   "source": [
    "df=pd.get_dummies(df,columns=['Binned_Age'])\n",
    "#Get updated Shape\n",
    "print(df.shape)"
   ]
  },
  {
   "cell_type": "markdown",
   "metadata": {},
   "source": [
    "<B> As our data is ready and can we used for modelling purpose, divide the data in traing data and testing data"
   ]
  },
  {
   "cell_type": "code",
   "execution_count": 16,
   "metadata": {},
   "outputs": [],
   "source": [
    "X=df.drop(['y','emp.var.rate','age'], axis=1)\n",
    "y=df.y\n",
    "X_train, X_test, y_train, y_test = train_test_split(X, y, test_size=0.25, random_state=1)"
   ]
  },
  {
   "cell_type": "markdown",
   "metadata": {},
   "source": [
    "<H3><B>Fit the Data without scaling the data and check the accuracy</B></H3> \n",
    "<ul><li>Random Forest(As Random Forest does not depends on scaling of the data)\n",
    "    <li>KNN\n",
    "    <li>Logistic Regression "
   ]
  },
  {
   "cell_type": "markdown",
   "metadata": {},
   "source": [
    "<B>Random Forest(Unscaled Data)"
   ]
  },
  {
   "cell_type": "code",
   "execution_count": 17,
   "metadata": {},
   "outputs": [
    {
     "name": "stdout",
     "output_type": "stream",
     "text": [
      "Accuracy Score without scaling the data and using Random Forest 0.8887690044139284\n"
     ]
    }
   ],
   "source": [
    "#Fit Random Forest Algorithm on Training Data\n",
    "rand_clf = RandomForestClassifier()\n",
    "rand_clf.fit(X_train, y_train)\n",
    "#Predict the result for testing data\n",
    "y_pred=rand_clf.predict(X_test)\n",
    "# Print the accuracy from the testing data.\n",
    "print('Accuracy Score without scaling the data and using Random Forest',accuracy_score(y_pred, y_test))"
   ]
  },
  {
   "cell_type": "code",
   "execution_count": 18,
   "metadata": {},
   "outputs": [
    {
     "name": "stdout",
     "output_type": "stream",
     "text": [
      "Confusion Matrix without scaling the data and using Random Forest\n",
      " [[8731  333]\n",
      " [ 801  330]]\n"
     ]
    }
   ],
   "source": [
    "cm = confusion_matrix(y_test, y_pred)\n",
    "print('Confusion Matrix without scaling the data and using Random Forest\\n',cm)"
   ]
  },
  {
   "cell_type": "code",
   "execution_count": 19,
   "metadata": {},
   "outputs": [
    {
     "name": "stdout",
     "output_type": "stream",
     "text": [
      "Classifiaction Report without scaling the data and using Random Forest\n",
      "               precision    recall  f1-score   support\n",
      "\n",
      "           0       0.92      0.96      0.94      9064\n",
      "           1       0.50      0.29      0.37      1131\n",
      "\n",
      "    accuracy                           0.89     10195\n",
      "   macro avg       0.71      0.63      0.65     10195\n",
      "weighted avg       0.87      0.89      0.88     10195\n",
      "\n"
     ]
    }
   ],
   "source": [
    "print('Classifiaction Report without scaling the data and using Random Forest\\n',classification_report(y_test, y_pred))"
   ]
  },
  {
   "cell_type": "markdown",
   "metadata": {},
   "source": [
    "<B> KNN(Unscaled Data)"
   ]
  },
  {
   "cell_type": "code",
   "execution_count": 20,
   "metadata": {},
   "outputs": [
    {
     "name": "stdout",
     "output_type": "stream",
     "text": [
      "Accuracy Score without scaling the data and using KNN 0.8944580676802354\n"
     ]
    }
   ],
   "source": [
    "knn = KNeighborsClassifier()\n",
    "knn.fit(X_train, y_train)\n",
    "y_pred=knn.predict(X_test)\n",
    "print('Accuracy Score without scaling the data and using KNN',accuracy_score(y_pred, y_test))"
   ]
  },
  {
   "cell_type": "code",
   "execution_count": 21,
   "metadata": {},
   "outputs": [
    {
     "name": "stdout",
     "output_type": "stream",
     "text": [
      "Confusion Matrix without scaling the data and using KNN\n",
      " [[8786  278]\n",
      " [ 798  333]]\n"
     ]
    }
   ],
   "source": [
    "cm = confusion_matrix(y_test, y_pred)\n",
    "print('Confusion Matrix without scaling the data and using KNN\\n',cm)"
   ]
  },
  {
   "cell_type": "code",
   "execution_count": 22,
   "metadata": {},
   "outputs": [
    {
     "name": "stdout",
     "output_type": "stream",
     "text": [
      "Classifiaction Report without scaling the data and using KNN\n",
      "               precision    recall  f1-score   support\n",
      "\n",
      "           0       0.92      0.97      0.94      9064\n",
      "           1       0.55      0.29      0.38      1131\n",
      "\n",
      "    accuracy                           0.89     10195\n",
      "   macro avg       0.73      0.63      0.66     10195\n",
      "weighted avg       0.88      0.89      0.88     10195\n",
      "\n"
     ]
    }
   ],
   "source": [
    "print('Classifiaction Report without scaling the data and using KNN\\n',classification_report(y_test, y_pred))"
   ]
  },
  {
   "cell_type": "markdown",
   "metadata": {},
   "source": [
    "<B>Logistic Regression(Unscaled Data)"
   ]
  },
  {
   "cell_type": "code",
   "execution_count": 23,
   "metadata": {},
   "outputs": [
    {
     "name": "stdout",
     "output_type": "stream",
     "text": [
      "Accuracy Score without scaling the data and using Logistic Regression 0.9005394801373222\n"
     ]
    }
   ],
   "source": [
    "lr_clf = LogisticRegression(max_iter=1000)\n",
    "# Fit the model on the trainng data.\n",
    "lr_clf.fit(X_train, y_train)\n",
    "y_pred=lr_clf.predict(X_test)\n",
    "# Print the accuracy from the testing data.\n",
    "print('Accuracy Score without scaling the data and using Logistic Regression',accuracy_score(y_pred, y_test))"
   ]
  },
  {
   "cell_type": "code",
   "execution_count": 24,
   "metadata": {},
   "outputs": [
    {
     "name": "stdout",
     "output_type": "stream",
     "text": [
      "Confusion Matrix without scaling the data and using Logistic Regression\n",
      " [[8954  110]\n",
      " [ 904  227]]\n"
     ]
    }
   ],
   "source": [
    "cm = confusion_matrix(y_test, y_pred)\n",
    "print('Confusion Matrix without scaling the data and using Logistic Regression\\n',cm)"
   ]
  },
  {
   "cell_type": "code",
   "execution_count": 25,
   "metadata": {},
   "outputs": [
    {
     "name": "stdout",
     "output_type": "stream",
     "text": [
      "Classifiaction Report without scaling the data and using Logistic Regression\n",
      "               precision    recall  f1-score   support\n",
      "\n",
      "           0       0.91      0.99      0.95      9064\n",
      "           1       0.67      0.20      0.31      1131\n",
      "\n",
      "    accuracy                           0.90     10195\n",
      "   macro avg       0.79      0.59      0.63     10195\n",
      "weighted avg       0.88      0.90      0.88     10195\n",
      "\n"
     ]
    }
   ],
   "source": [
    "print('Classifiaction Report without scaling the data and using Logistic Regression\\n',classification_report(y_test, y_pred))"
   ]
  },
  {
   "cell_type": "markdown",
   "metadata": {},
   "source": [
    "<B>Get the Roc curve for the results"
   ]
  },
  {
   "cell_type": "code",
   "execution_count": 26,
   "metadata": {},
   "outputs": [
    {
     "name": "stdout",
     "output_type": "stream",
     "text": [
      "AUC: 0.7974795403235311\n"
     ]
    },
    {
     "data": {
      "image/png": "[encoded data removed]",
      "text/plain": [
       "<Figure size 432x432 with 1 Axes>"
      ]
     },
     "metadata": {
      "needs_background": "light"
     },
     "output_type": "display_data"
    }
   ],
   "source": [
    "from sklearn import metrics\n",
    "fig, ax = plt.subplots(figsize = (6,6))\n",
    "probs = lr_clf.predict_proba(X_test)\n",
    "preds = probs[:,1]\n",
    "fprrfc, tprrfc, thresholdrfc = metrics.roc_curve(y_test, preds)\n",
    "roc_aucrfc = metrics.auc(fprrfc, tprrfc)\n",
    "\n",
    "ax.plot(fprrfc, tprrfc, 'b', label = 'AUC = %0.2f' % roc_aucrfc)\n",
    "ax.plot([0, 1], [0, 1],'r--')\n",
    "ax.set_title('Receiver Operating Characteristic Logistic Regression ',fontsize=20)\n",
    "ax.set_ylabel('True Positive Rate',fontsize=20)\n",
    "ax.set_xlabel('False Positive Rate',fontsize=15)\n",
    "ax.legend(loc = 'lower right', prop={'size': 16})\n",
    "#Get the AUC score\n",
    "print(\"AUC: {}\".format(roc_auc_score(y_test, preds)))\n",
    "plt.subplots_adjust(wspace=1)"
   ]
  },
  {
   "cell_type": "code",
   "execution_count": 27,
   "metadata": {},
   "outputs": [
    {
     "name": "stdout",
     "output_type": "stream",
     "text": [
      "Logistic: f1=0.309 auc=0.426\n"
     ]
    },
    {
     "data": {
      "image/png": "[encoded data removed]",
      "text/plain": [
       "<Figure size 432x288 with 1 Axes>"
      ]
     },
     "metadata": {
      "needs_background": "light"
     },
     "output_type": "display_data"
    }
   ],
   "source": [
    "lr_probs=lr_clf.predict_proba(X_test)[:,1]\n",
    "lr_precision, lr_recall, _ = precision_recall_curve(y_test, lr_probs)\n",
    "lr_f1, lr_auc = f1_score(y_test, y_pred), auc(lr_recall,lr_precision)\n",
    "print('Logistic: f1=%.3f auc=%.3f' % (lr_f1, lr_auc))\n",
    "# plot the precision-recall curves\n",
    "no_skill = len(y_test[y_test==1]) / len(y_test)\n",
    "plt.plot([0, 1], [no_skill, no_skill], linestyle='--', label='No Skill')\n",
    "plt.plot(lr_recall,lr_precision, marker='.', label='Logistic')\n",
    "# axis labels\n",
    "plt.xlabel('Recall')\n",
    "plt.ylabel('Precision')\n",
    "# show the legend\n",
    "plt.legend()\n",
    "# show the plot\n",
    "plt.show()"
   ]
  },
  {
   "cell_type": "code",
   "execution_count": 28,
   "metadata": {},
   "outputs": [
    {
     "name": "stdout",
     "output_type": "stream",
     "text": [
      "Accuracy Score without scaling the data and using Logistic Regression with updated threshold 0.8713094654242276\n"
     ]
    }
   ],
   "source": [
    "#Adjust the threshold to 0.20\n",
    "THRESHOLD = 0.20\n",
    "#y_pred=clf.predict(X_test)\n",
    "y_pred=np.where(lr_clf.predict_proba(X_test)[:,1] > THRESHOLD, 1, 0)\n",
    "# Print the accuracy from the testing data.\n",
    "print('Accuracy Score without scaling the data and using Logistic Regression with updated threshold',accuracy_score(y_pred, y_test))"
   ]
  },
  {
   "cell_type": "code",
   "execution_count": 29,
   "metadata": {},
   "outputs": [
    {
     "name": "stdout",
     "output_type": "stream",
     "text": [
      "Confusion Matrix without scaling the data and using Logistic Regression with updated threshold\n",
      " [[8273  791]\n",
      " [ 521  610]]\n"
     ]
    }
   ],
   "source": [
    "cm = confusion_matrix(y_test, y_pred)\n",
    "print('Confusion Matrix without scaling the data and using Logistic Regression with updated threshold\\n',cm)"
   ]
  },
  {
   "cell_type": "code",
   "execution_count": 30,
   "metadata": {},
   "outputs": [
    {
     "name": "stdout",
     "output_type": "stream",
     "text": [
      "Classifiaction Report without scaling the data and using Logistic Regression with updated threshold\n",
      "               precision    recall  f1-score   support\n",
      "\n",
      "           0       0.94      0.91      0.93      9064\n",
      "           1       0.44      0.54      0.48      1131\n",
      "\n",
      "    accuracy                           0.87     10195\n",
      "   macro avg       0.69      0.73      0.70     10195\n",
      "weighted avg       0.88      0.87      0.88     10195\n",
      "\n"
     ]
    }
   ],
   "source": [
    "print('Classifiaction Report without scaling the data and using Logistic Regression with updated threshold\\n',classification_report(y_test, y_pred))"
   ]
  },
  {
   "cell_type": "markdown",
   "metadata": {},
   "source": [
    "<B>For this project it is important to have good recall and F1 score. Therefore there is need to improve recall score</B>"
   ]
  },
  {
   "cell_type": "markdown",
   "metadata": {},
   "source": [
    "from sklearn.cluster import KMeans\n",
    "x = df.drop(['Binned_Age','Binned_Emp_Var_Rate','y'], axis=1).values\n",
    "Error =[]\n",
    "for i in range(1, 11):\n",
    "    kmeans = KMeans(n_clusters = i).fit(x)\n",
    "    kmeans.fit(x)\n",
    "    Error.append(kmeans.inertia_)\n",
    "import matplotlib.pyplot as plt\n",
    "plt.plot(range(1, 11), Error)\n",
    "plt.title('Elbow method')\n",
    "plt.xlabel('No of clusters')\n",
    "plt.ylabel('Error')\n",
    "plt.show()"
   ]
  },
  {
   "cell_type": "markdown",
   "metadata": {},
   "source": [
    "range_n_clusters = list (range(2,10))\n",
    "print (\"Number of clusters from 2 to 9: \\n\", range_n_clusters)"
   ]
  },
  {
   "cell_type": "markdown",
   "metadata": {},
   "source": [
    "from sklearn.metrics import silhouette_score\n",
    "for n_clusters in range_n_clusters:\n",
    "    clusterer = KMeans(n_clusters=n_clusters)\n",
    "    preds = clusterer.fit_predict(x)\n",
    "    centers = clusterer.cluster_centers_\n",
    "\n",
    "    score = silhouette_score(x, preds)\n",
    "    print(\"For n_clusters = {}, silhouette score is {})\".format(n_clusters, score))"
   ]
  },
  {
   "cell_type": "markdown",
   "metadata": {},
   "source": [
    "<H3>Scale the Data and then split again</H3>"
   ]
  },
  {
   "cell_type": "code",
   "execution_count": 31,
   "metadata": {},
   "outputs": [],
   "source": [
    "X = df.drop(['age','y','emp.var.rate'], axis=1)\n",
    "y=df.y\n",
    "scaler = preprocessing.StandardScaler().fit(X)\n",
    "X_scaled=scaler.transform(X) "
   ]
  },
  {
   "cell_type": "code",
   "execution_count": 32,
   "metadata": {},
   "outputs": [],
   "source": [
    "X_train, X_test, y_train, y_test = train_test_split(X_scaled, y, test_size=0.25, random_state=1)"
   ]
  },
  {
   "cell_type": "markdown",
   "metadata": {},
   "source": [
    "<B>Here going forward, X_train and X_test will be our scaled data. For Scaled data, we will be using below algorithms</B>\n",
    "<ul><li>Random Forest\n",
    "    <li>KNN\n",
    "    <li>Logistic Regression \n",
    "    <li>SVM   "
   ]
  },
  {
   "cell_type": "markdown",
   "metadata": {},
   "source": [
    "<B>Random Forest Scaled Data"
   ]
  },
  {
   "cell_type": "code",
   "execution_count": 33,
   "metadata": {},
   "outputs": [
    {
     "name": "stdout",
     "output_type": "stream",
     "text": [
      "Accuracy Score of Random Forest is 0.8889651790093183\n",
      "Random Forest: f1-score=0.370\n"
     ]
    }
   ],
   "source": [
    "rand_clf1 = RandomForestClassifier()\n",
    "rand_clf1.fit(X_train, y_train)\n",
    "# Print the accuracy from the testing data.\n",
    "y_pred=rand_clf1.predict(X_test)\n",
    "print('Accuracy Score of Random Forest is',accuracy_score(y_pred, y_test))\n",
    "f1 = f1_score(y_test, y_pred)\n",
    "print('Random Forest: f1-score=%.3f' % (f1))"
   ]
  },
  {
   "cell_type": "code",
   "execution_count": 34,
   "metadata": {},
   "outputs": [
    {
     "name": "stdout",
     "output_type": "stream",
     "text": [
      "[[8731  333]\n",
      " [ 799  332]]\n"
     ]
    }
   ],
   "source": [
    "cm = confusion_matrix(y_test, y_pred)\n",
    "print(cm)"
   ]
  },
  {
   "cell_type": "code",
   "execution_count": 35,
   "metadata": {},
   "outputs": [
    {
     "name": "stdout",
     "output_type": "stream",
     "text": [
      "              precision    recall  f1-score   support\n",
      "\n",
      "           0       0.92      0.96      0.94      9064\n",
      "           1       0.50      0.29      0.37      1131\n",
      "\n",
      "    accuracy                           0.89     10195\n",
      "   macro avg       0.71      0.63      0.65     10195\n",
      "weighted avg       0.87      0.89      0.88     10195\n",
      "\n"
     ]
    }
   ],
   "source": [
    "print(classification_report(y_test, y_pred))"
   ]
  },
  {
   "cell_type": "markdown",
   "metadata": {},
   "source": [
    "<B>KNN(Scaled Data)"
   ]
  },
  {
   "cell_type": "code",
   "execution_count": 36,
   "metadata": {},
   "outputs": [
    {
     "name": "stdout",
     "output_type": "stream",
     "text": [
      "Accuracy Score scaling the data and using KNN 0.8805296714075527\n",
      "KNN: f1-score=0.320\n"
     ]
    }
   ],
   "source": [
    "knn1 = KNeighborsClassifier(n_neighbors=3)\n",
    "knn1.fit(X_train, y_train)\n",
    "#fit the data\n",
    "y_pred=knn1.predict(X_test)\n",
    "print('Accuracy Score scaling the data and using KNN',accuracy_score(y_pred, y_test))\n",
    "f1 = f1_score(y_test, y_pred)\n",
    "print('KNN: f1-score=%.3f' % (f1))"
   ]
  },
  {
   "cell_type": "code",
   "execution_count": 37,
   "metadata": {},
   "outputs": [
    {
     "name": "stdout",
     "output_type": "stream",
     "text": [
      "[[8691  373]\n",
      " [ 845  286]]\n"
     ]
    }
   ],
   "source": [
    "cm = confusion_matrix(y_test, y_pred)\n",
    "print(cm)"
   ]
  },
  {
   "cell_type": "code",
   "execution_count": 38,
   "metadata": {},
   "outputs": [
    {
     "name": "stdout",
     "output_type": "stream",
     "text": [
      "Classification Report after scaling the data and using KNN\n",
      "               precision    recall  f1-score   support\n",
      "\n",
      "           0       0.91      0.96      0.93      9064\n",
      "           1       0.43      0.25      0.32      1131\n",
      "\n",
      "    accuracy                           0.88     10195\n",
      "   macro avg       0.67      0.61      0.63     10195\n",
      "weighted avg       0.86      0.88      0.87     10195\n",
      "\n"
     ]
    }
   ],
   "source": [
    "print('Classification Report after scaling the data and using KNN\\n',classification_report(y_test, y_pred))"
   ]
  },
  {
   "cell_type": "markdown",
   "metadata": {},
   "source": [
    "<B>Logistic Regression with Scaled Data"
   ]
  },
  {
   "cell_type": "code",
   "execution_count": 39,
   "metadata": {},
   "outputs": [
    {
     "name": "stdout",
     "output_type": "stream",
     "text": [
      "Accuracy Score with scaling the data and using Logistic Regression 0.9030897498773909\n"
     ]
    }
   ],
   "source": [
    "lr_clf1 = LogisticRegression(max_iter=1000)\n",
    "# Fit the model on the trainng data.\n",
    "lr_clf1.fit(X_train, y_train)\n",
    "y_pred=lr_clf1.predict(X_test)\n",
    "# Print the accuracy from the testing data.\n",
    "print('Accuracy Score with scaling the data and using Logistic Regression',accuracy_score(y_pred, y_test))"
   ]
  },
  {
   "cell_type": "code",
   "execution_count": 40,
   "metadata": {},
   "outputs": [
    {
     "name": "stdout",
     "output_type": "stream",
     "text": [
      "Confusion Matrix with scaling the data and using Logistic Regression\n",
      " [[8950  114]\n",
      " [ 874  257]]\n"
     ]
    }
   ],
   "source": [
    "cm = confusion_matrix(y_test, y_pred)\n",
    "print('Confusion Matrix with scaling the data and using Logistic Regression\\n',cm)"
   ]
  },
  {
   "cell_type": "code",
   "execution_count": 41,
   "metadata": {},
   "outputs": [
    {
     "name": "stdout",
     "output_type": "stream",
     "text": [
      "Classifiaction Report with scaling the data and using Logistic Regression\n",
      "               precision    recall  f1-score   support\n",
      "\n",
      "           0       0.91      0.99      0.95      9064\n",
      "           1       0.69      0.23      0.34      1131\n",
      "\n",
      "    accuracy                           0.90     10195\n",
      "   macro avg       0.80      0.61      0.64     10195\n",
      "weighted avg       0.89      0.90      0.88     10195\n",
      "\n"
     ]
    }
   ],
   "source": [
    "print('Classifiaction Report with scaling the data and using Logistic Regression\\n',classification_report(y_test, y_pred))"
   ]
  },
  {
   "cell_type": "code",
   "execution_count": 42,
   "metadata": {},
   "outputs": [
    {
     "data": {
      "image/png": "[encoded data removed]",
      "text/plain": [
       "<Figure size 432x432 with 1 Axes>"
      ]
     },
     "metadata": {
      "needs_background": "light"
     },
     "output_type": "display_data"
    }
   ],
   "source": [
    "from sklearn import metrics\n",
    "fig, ax = plt.subplots(figsize = (6,6))\n",
    "probs = lr_clf1.predict_proba(X_test)\n",
    "preds = probs[:,1]\n",
    "fprrfc, tprrfc, thresholdrfc = metrics.roc_curve(y_test, preds)\n",
    "roc_aucrfc = metrics.auc(fprrfc, tprrfc)\n",
    "\n",
    "ax.plot(fprrfc, tprrfc, 'b', label = 'AUC = %0.2f' % roc_aucrfc)\n",
    "ax.plot([0, 1], [0, 1],'r--')\n",
    "ax.set_title('Receiver Operating Characteristic Logistic Regression ',fontsize=20)\n",
    "ax.set_ylabel('True Positive Rate',fontsize=20)\n",
    "ax.set_xlabel('False Positive Rate',fontsize=15)\n",
    "ax.legend(loc = 'lower right', prop={'size': 16})\n",
    "\n",
    "plt.subplots_adjust(wspace=1)"
   ]
  },
  {
   "cell_type": "code",
   "execution_count": 43,
   "metadata": {},
   "outputs": [
    {
     "name": "stdout",
     "output_type": "stream",
     "text": [
      "AUC: 0.8020504353363409\n"
     ]
    }
   ],
   "source": [
    "#Get the AUC score\n",
    "print(\"AUC: {}\".format(roc_auc_score(y_test, preds)))"
   ]
  },
  {
   "cell_type": "code",
   "execution_count": 44,
   "metadata": {},
   "outputs": [
    {
     "name": "stdout",
     "output_type": "stream",
     "text": [
      "Logistic: f1=0.342 auc=0.462\n"
     ]
    },
    {
     "data": {
      "image/png": "[encoded data removed]",
      "text/plain": [
       "<Figure size 432x288 with 1 Axes>"
      ]
     },
     "metadata": {
      "needs_background": "light"
     },
     "output_type": "display_data"
    }
   ],
   "source": [
    "lr_probs=lr_clf1.predict_proba(X_test)[:,1]\n",
    "lr_precision, lr_recall, _ = precision_recall_curve(y_test, lr_probs)\n",
    "lr_f1, lr_auc = f1_score(y_test, y_pred), auc(lr_recall,lr_precision)\n",
    "print('Logistic: f1=%.3f auc=%.3f' % (lr_f1, lr_auc))\n",
    "# plot the precision-recall curves\n",
    "no_skill = len(y_test[y_test==1]) / len(y_test)\n",
    "plt.plot([0, 1], [no_skill, no_skill], linestyle='--', label='No Skill')\n",
    "plt.plot(lr_recall,lr_precision, marker='.', label='Logistic')\n",
    "# axis labels\n",
    "plt.xlabel('Recall')\n",
    "plt.ylabel('Precision')\n",
    "# show the legend\n",
    "plt.legend()\n",
    "# show the plot\n",
    "plt.show()"
   ]
  },
  {
   "cell_type": "code",
   "execution_count": 45,
   "metadata": {},
   "outputs": [
    {
     "name": "stdout",
     "output_type": "stream",
     "text": [
      "Accuracy Score by after scaling the data and using logistic regression 0.8698381559588033\n",
      "Logistic Regression: f1-score=0.492\n"
     ]
    }
   ],
   "source": [
    "THRESHOLD = 0.20\n",
    "#y_pred=clf.predict(X_test)\n",
    "y_pred=np.where(lr_clf1.predict_proba(X_test)[:,1] > THRESHOLD, 1, 0)\n",
    "print('Accuracy Score by after scaling the data and using logistic regression',accuracy_score(y_pred, y_test))\n",
    "f1 = f1_score(y_test, y_pred)\n",
    "print('Logistic Regression: f1-score=%.3f' % (f1))"
   ]
  },
  {
   "cell_type": "code",
   "execution_count": 46,
   "metadata": {},
   "outputs": [
    {
     "name": "stdout",
     "output_type": "stream",
     "text": [
      "[[8225  839]\n",
      " [ 488  643]]\n"
     ]
    }
   ],
   "source": [
    "cm = confusion_matrix(y_test, y_pred)\n",
    "print(cm)"
   ]
  },
  {
   "cell_type": "code",
   "execution_count": 47,
   "metadata": {},
   "outputs": [
    {
     "name": "stdout",
     "output_type": "stream",
     "text": [
      "Classification Report after scaling the data and using Logistic regression\n",
      "               precision    recall  f1-score   support\n",
      "\n",
      "           0       0.94      0.91      0.93      9064\n",
      "           1       0.43      0.57      0.49      1131\n",
      "\n",
      "    accuracy                           0.87     10195\n",
      "   macro avg       0.69      0.74      0.71     10195\n",
      "weighted avg       0.89      0.87      0.88     10195\n",
      "\n"
     ]
    }
   ],
   "source": [
    "print('Classification Report after scaling the data and using Logistic regression\\n',classification_report(y_test, y_pred))"
   ]
  },
  {
   "cell_type": "markdown",
   "metadata": {},
   "source": [
    "<B>SVM(Scaled Data)"
   ]
  },
  {
   "cell_type": "code",
   "execution_count": 48,
   "metadata": {},
   "outputs": [
    {
     "name": "stdout",
     "output_type": "stream",
     "text": [
      "Accuracy Score of SVM is 0.8996566944580677\n"
     ]
    }
   ],
   "source": [
    "clf_svm = svm()\n",
    "clf_svm.fit(X_train, y_train)\n",
    "y_pred=clf_svm.predict(X_test)\n",
    "print('Accuracy Score of SVM is',accuracy_score(y_pred, y_test))"
   ]
  },
  {
   "cell_type": "code",
   "execution_count": 49,
   "metadata": {},
   "outputs": [
    {
     "name": "stdout",
     "output_type": "stream",
     "text": [
      "[[8942  122]\n",
      " [ 901  230]]\n"
     ]
    }
   ],
   "source": [
    "cm = confusion_matrix(y_test, y_pred)\n",
    "print(cm)"
   ]
  },
  {
   "cell_type": "code",
   "execution_count": 50,
   "metadata": {},
   "outputs": [
    {
     "name": "stdout",
     "output_type": "stream",
     "text": [
      "Classifiaction Report with scaling the data and using Logistic Regression\n",
      "               precision    recall  f1-score   support\n",
      "\n",
      "           0       0.91      0.99      0.95      9064\n",
      "           1       0.65      0.20      0.31      1131\n",
      "\n",
      "    accuracy                           0.90     10195\n",
      "   macro avg       0.78      0.59      0.63     10195\n",
      "weighted avg       0.88      0.90      0.88     10195\n",
      "\n"
     ]
    }
   ],
   "source": [
    "print('Classifiaction Report with scaling the data and using Logistic Regression\\n',classification_report(y_test, y_pred))"
   ]
  },
  {
   "cell_type": "code",
   "execution_count": 51,
   "metadata": {},
   "outputs": [
    {
     "data": {
      "image/png": "[encoded data removed]",
      "text/plain": [
       "<Figure size 432x288 with 1 Axes>"
      ]
     },
     "metadata": {
      "needs_background": "light"
     },
     "output_type": "display_data"
    }
   ],
   "source": [
    "disp=plot_precision_recall_curve(clf_svm, X_test, y_test)\n"
   ]
  },
  {
   "cell_type": "markdown",
   "metadata": {},
   "source": [
    "<H3>Still Recall score for \"yes\" is not improved as expected, Need to check more on improving recall score by trying regularization method</H3> \n",
    "<UL><LI>Ridge Regression"
   ]
  },
  {
   "cell_type": "markdown",
   "metadata": {},
   "source": [
    "<B>Ridge_Regression"
   ]
  },
  {
   "cell_type": "code",
   "execution_count": 52,
   "metadata": {},
   "outputs": [
    {
     "name": "stdout",
     "output_type": "stream",
     "text": [
      "Accuracy Score of Ridge Regression is 0.9013241785188818\n"
     ]
    }
   ],
   "source": [
    "ridge=RidgeClassifier()\n",
    "ridge.fit(X_train, y_train)\n",
    "y_pred=ridge.predict(X_test)\n",
    "print('Accuracy Score of Ridge Regression is',accuracy_score(y_pred, y_test))"
   ]
  },
  {
   "cell_type": "code",
   "execution_count": 53,
   "metadata": {},
   "outputs": [
    {
     "name": "stdout",
     "output_type": "stream",
     "text": [
      "[[8960  104]\n",
      " [ 902  229]]\n"
     ]
    }
   ],
   "source": [
    "cm = confusion_matrix(y_test, y_pred)\n",
    "print(cm)"
   ]
  },
  {
   "cell_type": "code",
   "execution_count": 54,
   "metadata": {},
   "outputs": [
    {
     "name": "stdout",
     "output_type": "stream",
     "text": [
      "              precision    recall  f1-score   support\n",
      "\n",
      "           0       0.91      0.99      0.95      9064\n",
      "           1       0.69      0.20      0.31      1131\n",
      "\n",
      "    accuracy                           0.90     10195\n",
      "   macro avg       0.80      0.60      0.63     10195\n",
      "weighted avg       0.88      0.90      0.88     10195\n",
      "\n"
     ]
    }
   ],
   "source": [
    "print(classification_report(y_test, y_pred))"
   ]
  },
  {
   "cell_type": "markdown",
   "metadata": {},
   "source": [
    "<H3>Still there is need to improve Recall Score and F1 Score for the models. There is need to balance data<H3>    "
   ]
  },
  {
   "cell_type": "markdown",
   "metadata": {},
   "source": [
    "<B>For Balancing data we will use class weight method. Once done we will use below algorithms\n",
    "    <ul><li>Random Forest\n",
    "    <li>Logistic Regression \n",
    "    <li>SVM  "
   ]
  },
  {
   "cell_type": "code",
   "execution_count": 55,
   "metadata": {},
   "outputs": [
    {
     "name": "stderr",
     "output_type": "stream",
     "text": [
      "C:\\Users\\Pranay\\anaconda3\\lib\\site-packages\\sklearn\\utils\\validation.py:70: FutureWarning: Pass classes=[1, 0] as keyword args. From version 0.25 passing these as positional arguments will result in an error\n",
      "  FutureWarning)\n"
     ]
    },
    {
     "data": {
      "text/plain": [
       "array([4.44793485, 0.56332425])"
      ]
     },
     "execution_count": 55,
     "metadata": {},
     "output_type": "execute_result"
    }
   ],
   "source": [
    "classes=[1,0]\n",
    "weights = compute_class_weight('balanced', classes, y=y_train)\n",
    "weights"
   ]
  },
  {
   "cell_type": "markdown",
   "metadata": {},
   "source": [
    "<B>Random Forest(updated class weight)"
   ]
  },
  {
   "cell_type": "code",
   "execution_count": 56,
   "metadata": {},
   "outputs": [
    {
     "name": "stdout",
     "output_type": "stream",
     "text": [
      "Accuracy Score of Random Forest is 0.879941147621383\n"
     ]
    }
   ],
   "source": [
    "rand_clf2= RandomForestClassifier(class_weight={0:0.56365827,1:4.4272198})\n",
    "rand_clf2.fit(X_train, y_train)\n",
    "# Print the accuracy from the testing data.\n",
    "y_pred=rand_clf2.predict(X_test)\n",
    "print('Accuracy Score of Random Forest is',accuracy_score(y_pred, y_test))"
   ]
  },
  {
   "cell_type": "code",
   "execution_count": 57,
   "metadata": {},
   "outputs": [
    {
     "name": "stdout",
     "output_type": "stream",
     "text": [
      "[[8636  428]\n",
      " [ 796  335]]\n"
     ]
    }
   ],
   "source": [
    "cm = confusion_matrix(y_test, y_pred)\n",
    "print(cm)"
   ]
  },
  {
   "cell_type": "code",
   "execution_count": 58,
   "metadata": {},
   "outputs": [
    {
     "name": "stdout",
     "output_type": "stream",
     "text": [
      "Classifiaction Report after balancing the data and using Random Forest\n",
      "               precision    recall  f1-score   support\n",
      "\n",
      "           0       0.92      0.95      0.93      9064\n",
      "           1       0.44      0.30      0.35      1131\n",
      "\n",
      "    accuracy                           0.88     10195\n",
      "   macro avg       0.68      0.62      0.64     10195\n",
      "weighted avg       0.86      0.88      0.87     10195\n",
      "\n"
     ]
    }
   ],
   "source": [
    "print('Classifiaction Report after balancing the data and using Random Forest\\n',\n",
    "      classification_report(y_test, y_pred))"
   ]
  },
  {
   "cell_type": "code",
   "execution_count": 59,
   "metadata": {},
   "outputs": [
    {
     "name": "stdout",
     "output_type": "stream",
     "text": [
      "59\n"
     ]
    },
    {
     "data": {
      "image/png": "[encoded data removed]",
      "text/plain": [
       "<Figure size 1080x1080 with 1 Axes>"
      ]
     },
     "metadata": {
      "needs_background": "light"
     },
     "output_type": "display_data"
    }
   ],
   "source": [
    "feature_importance = rand_clf2.feature_importances_\n",
    "# make importances relative to max importance\n",
    "feature_importance = 100.0 * (feature_importance / feature_importance.max())[:59]\n",
    "sorted_idx = np.argsort(feature_importance)[:59]\n",
    "\n",
    "pos = np.arange(sorted_idx.shape[0]) + .5\n",
    "print(pos.size)\n",
    "sorted_idx.size\n",
    "plt.figure(figsize=(15,15))\n",
    "plt.barh(pos, feature_importance[sorted_idx], align='center')\n",
    "plt.yticks(pos, X.columns[sorted_idx])\n",
    "plt.xlabel('Relative Importance')\n",
    "plt.title('Variable Importance')\n",
    "plt.show()"
   ]
  },
  {
   "cell_type": "markdown",
   "metadata": {},
   "source": [
    "<B>Plot ROC Curve for Random Forest"
   ]
  },
  {
   "cell_type": "code",
   "execution_count": 60,
   "metadata": {},
   "outputs": [
    {
     "data": {
      "image/png": "[encoded data removed]",
      "text/plain": [
       "<Figure size 432x432 with 1 Axes>"
      ]
     },
     "metadata": {
      "needs_background": "light"
     },
     "output_type": "display_data"
    }
   ],
   "source": [
    "fig, ax = plt.subplots(figsize = (6,6))\n",
    "probs = rand_clf2.predict_proba(X_test)\n",
    "preds = probs[:,1]\n",
    "fprrfc, tprrfc, thresholdrfc = metrics.roc_curve(y_test, preds)\n",
    "roc_aucrfc = metrics.auc(fprrfc, tprrfc)\n",
    "\n",
    "ax.plot(fprrfc, tprrfc, 'b', label = 'AUC = %0.2f' % roc_aucrfc)\n",
    "ax.plot([0, 1], [0, 1],'r--')\n",
    "ax.set_title('Receiver Operating Characteristic Random Forest ',fontsize=20)\n",
    "ax.set_ylabel('True Positive Rate',fontsize=20)\n",
    "ax.set_xlabel('False Positive Rate',fontsize=15)\n",
    "ax.legend(loc = 'lower right', prop={'size': 16})\n",
    "\n",
    "plt.subplots_adjust(wspace=1)"
   ]
  },
  {
   "cell_type": "code",
   "execution_count": 61,
   "metadata": {},
   "outputs": [
    {
     "name": "stdout",
     "output_type": "stream",
     "text": [
      "AUC: 0.7670170193605077\n"
     ]
    }
   ],
   "source": [
    "#Get the AUC score\n",
    "print(\"AUC: {}\".format(roc_auc_score(y_test, preds)))"
   ]
  },
  {
   "cell_type": "code",
   "execution_count": 62,
   "metadata": {},
   "outputs": [
    {
     "data": {
      "image/png": "[encoded data removed]",
      "text/plain": [
       "<Figure size 432x288 with 1 Axes>"
      ]
     },
     "metadata": {
      "needs_background": "light"
     },
     "output_type": "display_data"
    }
   ],
   "source": [
    "disp=plot_precision_recall_curve(rand_clf2, X_test, y_test)"
   ]
  },
  {
   "cell_type": "code",
   "execution_count": 63,
   "metadata": {},
   "outputs": [
    {
     "name": "stdout",
     "output_type": "stream",
     "text": [
      "Logistic: f1=0.354 auc=0.364\n"
     ]
    },
    {
     "data": {
      "image/png": "[encoded data removed]",
      "text/plain": [
       "<Figure size 432x288 with 1 Axes>"
      ]
     },
     "metadata": {
      "needs_background": "light"
     },
     "output_type": "display_data"
    }
   ],
   "source": [
    "lr_probs=rand_clf2.predict_proba(X_test)[:,1]\n",
    "lr_precision, lr_recall, _ = precision_recall_curve(y_test, lr_probs)\n",
    "lr_f1, lr_auc = f1_score(y_test, y_pred), auc(lr_recall,lr_precision)\n",
    "print('Logistic: f1=%.3f auc=%.3f' % (lr_f1, lr_auc))\n",
    "# plot the precision-recall curves\n",
    "no_skill = len(y_test[y_test==1]) / len(y_test)\n",
    "plt.plot([0, 1], [no_skill, no_skill], linestyle='--', label='No Skill')\n",
    "plt.plot(lr_recall,lr_precision, marker='.', label='Logistic')\n",
    "# axis labels\n",
    "plt.xlabel('Recall')\n",
    "plt.ylabel('Precision')\n",
    "# show the legend\n",
    "plt.legend()\n",
    "# show the plot\n",
    "plt.show()"
   ]
  },
  {
   "cell_type": "code",
   "execution_count": 64,
   "metadata": {},
   "outputs": [
    {
     "name": "stdout",
     "output_type": "stream",
     "text": [
      "Accuracy Score by after balancing the data and using Random Forest 0.8542422756253065\n"
     ]
    }
   ],
   "source": [
    "#update the threshold and then predict the value\n",
    "THRESHOLD = 0.30\n",
    "#y_pred=clf.predict(X_test)\n",
    "y_pred=np.where(rand_clf2.predict_proba(X_test)[:,1] > THRESHOLD, 1, 0)\n",
    "print('Accuracy Score by after balancing the data and using Random Forest',accuracy_score(y_pred, y_test))"
   ]
  },
  {
   "cell_type": "code",
   "execution_count": 65,
   "metadata": {},
   "outputs": [
    {
     "name": "stdout",
     "output_type": "stream",
     "text": [
      "[[8161  903]\n",
      " [ 583  548]]\n"
     ]
    }
   ],
   "source": [
    "cm = confusion_matrix(y_test, y_pred)\n",
    "print(cm)"
   ]
  },
  {
   "cell_type": "code",
   "execution_count": 66,
   "metadata": {},
   "outputs": [
    {
     "name": "stdout",
     "output_type": "stream",
     "text": [
      "Classifiaction Report after balancing the data and using Random Forest\n",
      "               precision    recall  f1-score   support\n",
      "\n",
      "           0       0.93      0.90      0.92      9064\n",
      "           1       0.38      0.48      0.42      1131\n",
      "\n",
      "    accuracy                           0.85     10195\n",
      "   macro avg       0.66      0.69      0.67     10195\n",
      "weighted avg       0.87      0.85      0.86     10195\n",
      "\n"
     ]
    }
   ],
   "source": [
    "print('Classifiaction Report after balancing the data and using Random Forest\\n',\n",
    "      classification_report(y_test, y_pred))"
   ]
  },
  {
   "cell_type": "markdown",
   "metadata": {},
   "source": [
    "<B>Logistic Regression (updated class weight) </B>"
   ]
  },
  {
   "cell_type": "code",
   "execution_count": 67,
   "metadata": {},
   "outputs": [
    {
     "name": "stdout",
     "output_type": "stream",
     "text": [
      "Accuracy Score with scaling the data and using Logistic Regression 0.8242275625306523\n"
     ]
    }
   ],
   "source": [
    "lr_clf2 = LogisticRegression(class_weight={0:0.56365827,1:4.4272198},max_iter=1000)\n",
    "# Fit the model on the trainng data.\n",
    "lr_clf2.fit(X_train, y_train)\n",
    "y_pred=lr_clf2.predict(X_test)\n",
    "# Print the accuracy from the testing data.\n",
    "print('Accuracy Score with scaling the data and using Logistic Regression',accuracy_score(y_pred, y_test))"
   ]
  },
  {
   "cell_type": "code",
   "execution_count": 68,
   "metadata": {},
   "outputs": [
    {
     "name": "stdout",
     "output_type": "stream",
     "text": [
      "Confusion Matrix after updating class weight and using Logistic Regression\n",
      " [[7674 1390]\n",
      " [ 402  729]]\n"
     ]
    }
   ],
   "source": [
    "cm = confusion_matrix(y_test, y_pred)\n",
    "print('Confusion Matrix after updating class weight and using Logistic Regression\\n',cm)"
   ]
  },
  {
   "cell_type": "code",
   "execution_count": 69,
   "metadata": {},
   "outputs": [
    {
     "name": "stdout",
     "output_type": "stream",
     "text": [
      "Classifiaction Report after balancing the data and using Random Forest\n",
      "               precision    recall  f1-score   support\n",
      "\n",
      "           0       0.95      0.85      0.90      9064\n",
      "           1       0.34      0.64      0.45      1131\n",
      "\n",
      "    accuracy                           0.82     10195\n",
      "   macro avg       0.65      0.75      0.67     10195\n",
      "weighted avg       0.88      0.82      0.85     10195\n",
      "\n"
     ]
    }
   ],
   "source": [
    "print('Classifiaction Report after balancing the data and using Random Forest\\n',\n",
    "      classification_report(y_test, y_pred))"
   ]
  },
  {
   "cell_type": "code",
   "execution_count": 70,
   "metadata": {},
   "outputs": [
    {
     "name": "stdout",
     "output_type": "stream",
     "text": [
      "59\n"
     ]
    },
    {
     "data": {
      "image/png": "[encoded data removed]",
      "text/plain": [
       "<Figure size 1080x1080 with 1 Axes>"
      ]
     },
     "metadata": {
      "needs_background": "light"
     },
     "output_type": "display_data"
    }
   ],
   "source": [
    "feature_importance = lr_clf2.coef_[0]\n",
    "feature_importance = 100.0 * (feature_importance / feature_importance.max())[:59]\n",
    "sorted_idx = np.argsort(feature_importance)[:59]\n",
    "\n",
    "pos = np.arange(sorted_idx.shape[0]) + .5\n",
    "print(pos.size)\n",
    "sorted_idx.size\n",
    "plt.figure(figsize=(15,15))\n",
    "plt.barh(pos, feature_importance[sorted_idx], align='center')\n",
    "plt.yticks(pos, X.columns[sorted_idx])\n",
    "plt.xlabel('Relative Importance')\n",
    "plt.title('Variable Importance')\n",
    "plt.show()"
   ]
  },
  {
   "cell_type": "markdown",
   "metadata": {},
   "source": [
    "<B>Plot Ruc Curve for Logistic Regression"
   ]
  },
  {
   "cell_type": "code",
   "execution_count": 71,
   "metadata": {},
   "outputs": [
    {
     "name": "stdout",
     "output_type": "stream",
     "text": [
      "AUC: 0.8023740989509318\n"
     ]
    },
    {
     "data": {
      "image/png": "[encoded data removed]",
      "text/plain": [
       "<Figure size 432x432 with 1 Axes>"
      ]
     },
     "metadata": {
      "needs_background": "light"
     },
     "output_type": "display_data"
    }
   ],
   "source": [
    "fig, ax = plt.subplots(figsize = (6,6))\n",
    "probs = lr_clf2.predict_proba(X_test)\n",
    "preds = probs[:,1]\n",
    "fprrfc, tprrfc, thresholdrfc = metrics.roc_curve(y_test, preds)\n",
    "roc_aucrfc = metrics.auc(fprrfc, tprrfc)\n",
    "\n",
    "ax.plot(fprrfc, tprrfc, 'b', label = 'AUC = %0.2f' % roc_aucrfc)\n",
    "ax.plot([0, 1], [0, 1],'r--')\n",
    "ax.set_title('Receiver Operating Characteristic Logistic Regression ',fontsize=20)\n",
    "ax.set_ylabel('True Positive Rate',fontsize=20)\n",
    "ax.set_xlabel('False Positive Rate',fontsize=15)\n",
    "ax.legend(loc = 'lower right', prop={'size': 16})\n",
    "#Get the AUC score\n",
    "print(\"AUC: {}\".format(roc_auc_score(y_test, preds)))\n",
    "plt.subplots_adjust(wspace=1)"
   ]
  },
  {
   "cell_type": "code",
   "execution_count": 72,
   "metadata": {},
   "outputs": [
    {
     "name": "stdout",
     "output_type": "stream",
     "text": [
      "Logistic: f1=0.449 auc=0.454\n"
     ]
    },
    {
     "data": {
      "image/png": "[encoded data removed]",
      "text/plain": [
       "<Figure size 432x288 with 1 Axes>"
      ]
     },
     "metadata": {
      "needs_background": "light"
     },
     "output_type": "display_data"
    }
   ],
   "source": [
    "lr_probs=lr_clf2.predict_proba(X_test)[:,1]\n",
    "lr_precision, lr_recall, _ = precision_recall_curve(y_test, lr_probs)\n",
    "lr_f1, lr_auc = f1_score(y_test, y_pred), auc(lr_recall,lr_precision)\n",
    "print('Logistic: f1=%.3f auc=%.3f' % (lr_f1, lr_auc))\n",
    "# plot the precision-recall curves\n",
    "no_skill = len(y_test[y_test==1]) / len(y_test)\n",
    "plt.plot([0, 1], [no_skill, no_skill], linestyle='--', label='No Skill')\n",
    "plt.plot(lr_recall,lr_precision, marker='.', label='Logistic')\n",
    "# axis labels\n",
    "plt.xlabel('Recall')\n",
    "plt.ylabel('Precision')\n",
    "# show the legend\n",
    "plt.legend()\n",
    "# show the plot\n",
    "plt.show()"
   ]
  },
  {
   "cell_type": "code",
   "execution_count": 73,
   "metadata": {},
   "outputs": [
    {
     "name": "stdout",
     "output_type": "stream",
     "text": [
      "Accuracy Score by after balancing the data and using Random Forest 0.8698381559588033\n"
     ]
    }
   ],
   "source": [
    "#update the threshold and then predict the value\n",
    "THRESHOLD = 0.65\n",
    "#y_pred=clf.predict(X_test)\n",
    "y_pred=np.where(lr_clf2.predict_proba(X_test)[:,1] > THRESHOLD, 1, 0)\n",
    "print('Accuracy Score by after balancing the data and using Random Forest',accuracy_score(y_pred, y_test))"
   ]
  },
  {
   "cell_type": "code",
   "execution_count": 74,
   "metadata": {},
   "outputs": [
    {
     "name": "stdout",
     "output_type": "stream",
     "text": [
      "[[8239  825]\n",
      " [ 502  629]]\n"
     ]
    }
   ],
   "source": [
    "cm = confusion_matrix(y_test, y_pred)\n",
    "print(cm)"
   ]
  },
  {
   "cell_type": "code",
   "execution_count": 75,
   "metadata": {},
   "outputs": [
    {
     "name": "stdout",
     "output_type": "stream",
     "text": [
      "Classifiaction Report after balancing the data and using Random Forest\n",
      "               precision    recall  f1-score   support\n",
      "\n",
      "           0       0.94      0.91      0.93      9064\n",
      "           1       0.43      0.56      0.49      1131\n",
      "\n",
      "    accuracy                           0.87     10195\n",
      "   macro avg       0.69      0.73      0.71     10195\n",
      "weighted avg       0.89      0.87      0.88     10195\n",
      "\n"
     ]
    }
   ],
   "source": [
    "print('Classifiaction Report after balancing the data and using Random Forest\\n',\n",
    "      classification_report(y_test, y_pred))"
   ]
  },
  {
   "cell_type": "code",
   "execution_count": 76,
   "metadata": {},
   "outputs": [
    {
     "name": "stdout",
     "output_type": "stream",
     "text": [
      "Accuracy Score of SVM is 0.7945071113290829\n"
     ]
    }
   ],
   "source": [
    "clf_svm1 = svm(class_weight={0:0.56365827,1:4.4272198})\n",
    "clf_svm1.fit(X_train, y_train)\n",
    "y_pred=clf_svm1.predict(X_test)\n",
    "print('Accuracy Score of SVM is',accuracy_score(y_pred, y_test))"
   ]
  },
  {
   "cell_type": "code",
   "execution_count": 77,
   "metadata": {},
   "outputs": [
    {
     "name": "stdout",
     "output_type": "stream",
     "text": [
      "Confusion Matrix after updating class weight and using Logistic Regression\n",
      " [[7373 1691]\n",
      " [ 404  727]]\n"
     ]
    }
   ],
   "source": [
    "cm = confusion_matrix(y_test, y_pred)\n",
    "print('Confusion Matrix after updating class weight and using Logistic Regression\\n',cm)"
   ]
  },
  {
   "cell_type": "code",
   "execution_count": 78,
   "metadata": {},
   "outputs": [
    {
     "name": "stdout",
     "output_type": "stream",
     "text": [
      "Classifiaction Report after balancing the data and using Random Forest\n",
      "               precision    recall  f1-score   support\n",
      "\n",
      "           0       0.95      0.81      0.88      9064\n",
      "           1       0.30      0.64      0.41      1131\n",
      "\n",
      "    accuracy                           0.79     10195\n",
      "   macro avg       0.62      0.73      0.64     10195\n",
      "weighted avg       0.88      0.79      0.82     10195\n",
      "\n"
     ]
    }
   ],
   "source": [
    "print('Classifiaction Report after balancing the data and using Random Forest\\n',\n",
    "      classification_report(y_test, y_pred))"
   ]
  },
  {
   "cell_type": "markdown",
   "metadata": {},
   "source": [
    "<B>Use Xgboost by balancing data</B>"
   ]
  },
  {
   "cell_type": "code",
   "execution_count": 79,
   "metadata": {},
   "outputs": [],
   "source": [
    "from xgboost import XGBClassifier\n",
    "scale_pos_weight = 26980/3435\n",
    "gbc = XGBClassifier(scale_pos_weight=scale_pos_weight)"
   ]
  },
  {
   "cell_type": "code",
   "execution_count": 80,
   "metadata": {},
   "outputs": [
    {
     "name": "stdout",
     "output_type": "stream",
     "text": [
      "Accuracy Score of Xgboost is 0.8356056890632663\n"
     ]
    }
   ],
   "source": [
    "gbc.fit(X_train, y_train)\n",
    "y_pred=gbc.predict(X_test)\n",
    "print('Accuracy Score of Xgboost is',accuracy_score(y_pred, y_test))"
   ]
  },
  {
   "cell_type": "code",
   "execution_count": 81,
   "metadata": {},
   "outputs": [
    {
     "name": "stdout",
     "output_type": "stream",
     "text": [
      "Confusion Matrix after updating class weight and using Xgboost\n",
      " [[7795 1269]\n",
      " [ 407  724]]\n"
     ]
    }
   ],
   "source": [
    "cm = confusion_matrix(y_test, y_pred)\n",
    "print('Confusion Matrix after updating class weight and using Xgboost\\n',cm)"
   ]
  },
  {
   "cell_type": "code",
   "execution_count": 82,
   "metadata": {},
   "outputs": [
    {
     "name": "stdout",
     "output_type": "stream",
     "text": [
      "Classifiaction Report after balancing the data and using Xgboost\n",
      "               precision    recall  f1-score   support\n",
      "\n",
      "           0       0.95      0.86      0.90      9064\n",
      "           1       0.36      0.64      0.46      1131\n",
      "\n",
      "    accuracy                           0.84     10195\n",
      "   macro avg       0.66      0.75      0.68     10195\n",
      "weighted avg       0.89      0.84      0.85     10195\n",
      "\n"
     ]
    }
   ],
   "source": [
    "print('Classifiaction Report after balancing the data and using Xgboost\\n',\n",
    "      classification_report(y_test, y_pred))"
   ]
  },
  {
   "cell_type": "code",
   "execution_count": 83,
   "metadata": {},
   "outputs": [
    {
     "data": {
      "image/png": "[encoded data removed]",
      "text/plain": [
       "<Figure size 432x288 with 1 Axes>"
      ]
     },
     "metadata": {
      "needs_background": "light"
     },
     "output_type": "display_data"
    }
   ],
   "source": [
    "disp=plot_precision_recall_curve(gbc, X_test, y_test)"
   ]
  },
  {
   "cell_type": "markdown",
   "metadata": {},
   "source": [
    "<H2>Still we need to work on improving F1 score</H2>\n",
    "<B> We will need to look for feature reduction techniques<B>\n",
    "    <UL><LI>PCA>>KNN"
   ]
  },
  {
   "cell_type": "code",
   "execution_count": 84,
   "metadata": {},
   "outputs": [],
   "source": [
    "pca=PCA(n_components=2)\n",
    "pca.fit(X_train)\n",
    "X_transformed=pca.transform(X_train)"
   ]
  },
  {
   "cell_type": "code",
   "execution_count": 85,
   "metadata": {},
   "outputs": [],
   "source": [
    "X_test_Transformed=pca.transform(X_test)"
   ]
  },
  {
   "cell_type": "code",
   "execution_count": 86,
   "metadata": {},
   "outputs": [
    {
     "name": "stdout",
     "output_type": "stream",
     "text": [
      "Accuracy Score scaling the data and using KNN 0.8824914173614516\n"
     ]
    }
   ],
   "source": [
    "knn2 = KNeighborsClassifier(n_neighbors=3)\n",
    "knn2.fit(X_transformed, y_train)\n",
    "#fit the data\n",
    "y_pred=knn2.predict(X_test_Transformed)\n",
    "print('Accuracy Score scaling the data and using KNN',accuracy_score(y_pred, y_test))"
   ]
  },
  {
   "cell_type": "code",
   "execution_count": 87,
   "metadata": {},
   "outputs": [
    {
     "name": "stdout",
     "output_type": "stream",
     "text": [
      "Confusion Matrix after updating class weight and using Logistic Regression\n",
      " [[8737  327]\n",
      " [ 871  260]]\n"
     ]
    }
   ],
   "source": [
    "cm = confusion_matrix(y_test, y_pred)\n",
    "print('Confusion Matrix after updating class weight and using Logistic Regression\\n',cm)"
   ]
  },
  {
   "cell_type": "code",
   "execution_count": 88,
   "metadata": {},
   "outputs": [
    {
     "name": "stdout",
     "output_type": "stream",
     "text": [
      "Classifiaction Report after balancing the data and using Random Forest\n",
      "               precision    recall  f1-score   support\n",
      "\n",
      "           0       0.91      0.96      0.94      9064\n",
      "           1       0.44      0.23      0.30      1131\n",
      "\n",
      "    accuracy                           0.88     10195\n",
      "   macro avg       0.68      0.60      0.62     10195\n",
      "weighted avg       0.86      0.88      0.87     10195\n",
      "\n"
     ]
    }
   ],
   "source": [
    "print('Classifiaction Report after balancing the data and using Random Forest\\n',\n",
    "      classification_report(y_test, y_pred))"
   ]
  },
  {
   "cell_type": "code",
   "execution_count": 89,
   "metadata": {},
   "outputs": [
    {
     "data": {
      "text/plain": [
       "0    27146\n",
       "1     3438\n",
       "Name: y, dtype: int64"
      ]
     },
     "execution_count": 89,
     "metadata": {},
     "output_type": "execute_result"
    }
   ],
   "source": [
    "y_train.value_counts()"
   ]
  },
  {
   "cell_type": "code",
   "execution_count": 90,
   "metadata": {},
   "outputs": [
    {
     "data": {
      "text/plain": [
       "(40779, 18)"
      ]
     },
     "execution_count": 90,
     "metadata": {},
     "output_type": "execute_result"
    }
   ],
   "source": [
    "udf.shape"
   ]
  },
  {
   "cell_type": "markdown",
   "metadata": {},
   "source": [
    "df['not_important_month']=0\n",
    "df.loc[((df['month_apr'] == 1)|(df['month_aug']==1) | (df['month_jul']==1 ) | (df['month_nov']==1) | (df['month_sep']==1)),\n",
    "      'not_important_month']=1\n",
    "to_drop=['month_apr','month_aug','month_jul','month_nov','month_sep']\n",
    "df.drop(to_drop, axis = 1,inplace=True)"
   ]
  },
  {
   "cell_type": "code",
   "execution_count": 91,
   "metadata": {},
   "outputs": [],
   "source": [
    "udf['Education_lt_09'],udf['Education_09'],udf['Education_High_School'],udf['Education_University_Degree'],udf['Education_Professional_Course']=0,0,0,0,0\n",
    "udf.loc[(udf['education'] == 'illiterate') | (udf['education'] == 'basic.4y') |  (udf['education'] == 'basic.6y'),\n",
    "       'Education_lt_09']=1\n",
    "udf.loc[(udf['education'] == 'basic.9y'),'Education_09']=1\n",
    "udf.loc[(udf['education'] == 'high.school'),'Education_High_School']=1\n",
    "udf.loc[(udf['education'] == 'university.degree'),'Education_University_Degree']=1\n",
    "udf.loc[(udf['education'] == 'professional.course'),'Education_Professional_Course']=1\n",
    "udf.drop(['education'], axis=1, inplace=True)"
   ]
  },
  {
   "cell_type": "code",
   "execution_count": 92,
   "metadata": {},
   "outputs": [],
   "source": [
    "udf['Quarter1'],udf['Quarter2'],udf['Quarter3'],udf['Quarter4']=0,0,0,0\n",
    "udf.loc[(udf['month'] == 'jan') | (udf['month'] == 'feb') |  (udf['month'] == 'mar'),'Quarter1']=1\n",
    "udf.loc[(udf['month'] == 'apr') | (udf['month'] == 'may') |  (udf['month'] == 'jun'),'Quarter2']=1\n",
    "udf.loc[(udf['month'] == 'jul') | (udf['month'] == 'aug') |  (udf['month'] == 'sep'),'Quarter3']=1\n",
    "udf.loc[(udf['month'] == 'oct') | (udf['month'] == 'nov') |  (udf['month'] == 'dec'),'Quarter4']=1\n",
    "udf.drop(['month'], axis=1, inplace=True)"
   ]
  },
  {
   "cell_type": "code",
   "execution_count": 93,
   "metadata": {},
   "outputs": [],
   "source": [
    "udf['Job_No_Income'],udf['Job_Self_Employed'],udf['Job_Management'],udf['Job_Services'],udf['Job_Admin'],udf['Job_blue_collar'],udf['Job_Technician']=0,0,0,0,0,0,0\n",
    "udf.loc[(udf['job'] == 'housemaid') | (udf['job'] == 'unemployed') | (udf['job'] == 'retired') | (udf['job'] == 'student')\n",
    "        ,'Job_No_Income']=1\n",
    "udf.loc[(udf['job'] == 'self-employed') | (udf['job'] == 'entrepreneur'),'Job_Self_Employed']=1\n",
    "udf.loc[(udf['job'] == 'management'),'Job_Management']=1\n",
    "udf.loc[(udf['job'] == 'services'),'Job_Services']=1\n",
    "udf.loc[(udf['job'] == 'admin.'),'Job_Admin']=1\n",
    "udf.loc[(udf['job'] == 'blue-collar'),'Job_blue_collar']=1\n",
    "udf.loc[(udf['job'] == 'technician'),'Job_Technician']=1\n",
    "udf.drop(['job'], axis=1, inplace=True)\n"
   ]
  },
  {
   "cell_type": "code",
   "execution_count": 94,
   "metadata": {},
   "outputs": [
    {
     "name": "stderr",
     "output_type": "stream",
     "text": [
      "C:\\Users\\Pranay\\anaconda3\\lib\\site-packages\\pandas\\core\\frame.py:3997: SettingWithCopyWarning: \n",
      "A value is trying to be set on a copy of a slice from a DataFrame\n",
      "\n",
      "See the caveats in the documentation: https://pandas.pydata.org/pandas-docs/stable/user_guide/indexing.html#returning-a-view-versus-a-copy\n",
      "  errors=errors,\n"
     ]
    },
    {
     "data": {
      "text/plain": [
       "age                                int64\n",
       "campaign                           int64\n",
       "pdays                              int64\n",
       "previous                           int64\n",
       "emp.var.rate                     float64\n",
       "cons.price.idx                   float64\n",
       "cons.conf.idx                    float64\n",
       "y                                  int64\n",
       "Education_lt_09                    int64\n",
       "Education_09                       int64\n",
       "Education_High_School              int64\n",
       "Education_University_Degree        int64\n",
       "Education_Professional_Course      int64\n",
       "Quarter1                           int64\n",
       "Quarter2                           int64\n",
       "Quarter3                           int64\n",
       "Quarter4                           int64\n",
       "Job_No_Income                      int64\n",
       "Job_Self_Employed                  int64\n",
       "Job_Management                     int64\n",
       "Job_Services                       int64\n",
       "Job_Admin                          int64\n",
       "Job_blue_collar                    int64\n",
       "Job_Technician                     int64\n",
       "marital_divorced                   uint8\n",
       "marital_married                    uint8\n",
       "marital_single                     uint8\n",
       "default_no                         uint8\n",
       "default_unknown                    uint8\n",
       "default_yes                        uint8\n",
       "housing_no                         uint8\n",
       "housing_unknown                    uint8\n",
       "housing_yes                        uint8\n",
       "loan_no                            uint8\n",
       "loan_unknown                       uint8\n",
       "loan_yes                           uint8\n",
       "contact_cellular                   uint8\n",
       "contact_telephone                  uint8\n",
       "day_of_week_fri                    uint8\n",
       "day_of_week_mon                    uint8\n",
       "day_of_week_thu                    uint8\n",
       "day_of_week_tue                    uint8\n",
       "day_of_week_wed                    uint8\n",
       "poutcome_failure                   uint8\n",
       "poutcome_nonexistent               uint8\n",
       "poutcome_success                   uint8\n",
       "dtype: object"
      ]
     },
     "execution_count": 94,
     "metadata": {},
     "output_type": "execute_result"
    }
   ],
   "source": [
    "only_obj=udf.select_dtypes(include=['object'])\n",
    "only_obj.drop(['y'],axis=1,inplace=True)\n",
    "col=only_obj.columns\n",
    "#Do One Hot encoding for the objects columns\n",
    "udf=pd.get_dummies(udf,columns=col)\n",
    "#Transform Dependent Variable values\n",
    "udf.y.replace({'yes':1,'no':0},inplace=True)\n",
    "#Get updated data types of all the columns\n",
    "udf.dtypes"
   ]
  },
  {
   "cell_type": "code",
   "execution_count": 95,
   "metadata": {},
   "outputs": [],
   "source": [
    "#Group Age Columns\n",
    "udf['Binned_Age']=pd.cut(\n",
    "    udf['age'],\n",
    "    bins=[-np.inf,20,30,40,50,60,np.inf],\n",
    "    labels=['0-20','20-30','30-40','40-50','50-60','60-100']\n",
    ")\n",
    "udf.drop(['age'], axis=1, inplace=True)"
   ]
  },
  {
   "cell_type": "code",
   "execution_count": 96,
   "metadata": {},
   "outputs": [],
   "source": [
    "#Group Emp_Var_Rate columns\n",
    "udf['Binned_Emp_Var_Rate']=pd.cut(\n",
    "    udf['emp.var.rate'],\n",
    "    bins=[-np.inf,-3.5,-2.5,-1.5,-0.5,0.5,1.5,np.inf],\n",
    "    labels=[-4,-3,-2,-1,0,1,2]\n",
    ")\n",
    "udf.drop(['emp.var.rate'], axis=1, inplace=True)"
   ]
  },
  {
   "cell_type": "code",
   "execution_count": 97,
   "metadata": {},
   "outputs": [],
   "source": [
    "#df['euribor3m']=df['euribor3m'].round(1)\n",
    "udf['cons.price.idx']=udf['cons.price.idx'].round(2)"
   ]
  },
  {
   "cell_type": "code",
   "execution_count": 98,
   "metadata": {},
   "outputs": [
    {
     "name": "stdout",
     "output_type": "stream",
     "text": [
      "(40779, 51)\n"
     ]
    }
   ],
   "source": [
    "udf=pd.get_dummies(udf,columns=['Binned_Age'])\n",
    "#Get updated Shape\n",
    "print(udf.shape)"
   ]
  },
  {
   "cell_type": "code",
   "execution_count": 99,
   "metadata": {},
   "outputs": [],
   "source": [
    "X = udf.drop(['y'], axis=1)\n",
    "y=udf.y\n",
    "scaler = preprocessing.StndardScaler().fit(X)\n",
    "X_scaled=scaler.transform(X) "
   ]
  },
  {
   "cell_type": "code",
   "execution_count": 100,
   "metadata": {},
   "outputs": [],
   "source": [
    "X_train, X_test, y_train, y_test = train_test_split(X_scaled, y, test_size=0.25, random_state=1)"
   ]
  },
  {
   "cell_type": "code",
   "execution_count": 101,
   "metadata": {},
   "outputs": [
    {
     "name": "stdout",
     "output_type": "stream",
     "text": [
      "Accuracy Score of Random Forest is 0.8776851397743992\n",
      "Random Forest: f1-score=0.345\n"
     ]
    }
   ],
   "source": [
    "rand_clf1 = RandomForestClassifier(class_weight={0:0.56365827,1:4.4272198})\n",
    "rand_clf1.fit(X_train, y_train)\n",
    "# Print the accuracy from the testing data.\n",
    "y_pred=rand_clf1.predict(X_test)\n",
    "print('Accuracy Score of Random Forest is',accuracy_score(y_pred, y_test))\n",
    "f1 = f1_score(y_test, y_pred)\n",
    "print('Random Forest: f1-score=%.3f' % (f1))"
   ]
  },
  {
   "cell_type": "code",
   "execution_count": 102,
   "metadata": {},
   "outputs": [
    {
     "name": "stdout",
     "output_type": "stream",
     "text": [
      "[[8619  445]\n",
      " [ 802  329]]\n"
     ]
    }
   ],
   "source": [
    "cm = confusion_matrix(y_test, y_pred)\n",
    "print(cm)"
   ]
  },
  {
   "cell_type": "code",
   "execution_count": 103,
   "metadata": {},
   "outputs": [
    {
     "name": "stdout",
     "output_type": "stream",
     "text": [
      "              precision    recall  f1-score   support\n",
      "\n",
      "           0       0.91      0.95      0.93      9064\n",
      "           1       0.43      0.29      0.35      1131\n",
      "\n",
      "    accuracy                           0.88     10195\n",
      "   macro avg       0.67      0.62      0.64     10195\n",
      "weighted avg       0.86      0.88      0.87     10195\n",
      "\n"
     ]
    }
   ],
   "source": [
    "print(classification_report(y_test, y_pred))"
   ]
  },
  {
   "cell_type": "code",
   "execution_count": 104,
   "metadata": {},
   "outputs": [
    {
     "name": "stdout",
     "output_type": "stream",
     "text": [
      "50\n"
     ]
    },
    {
     "data": {
      "image/png": "[encoded data removed]",
      "text/plain": [
       "<Figure size 1080x1080 with 1 Axes>"
      ]
     },
     "metadata": {
      "needs_background": "light"
     },
     "output_type": "display_data"
    }
   ],
   "source": [
    "feature_importance = rand_clf1.feature_importances_\n",
    "# make importances relative to max importance\n",
    "feature_importance = 100.0 * (feature_importance / feature_importance.max())[:50]\n",
    "sorted_idx = np.argsort(feature_importance)[:50]\n",
    "\n",
    "pos = np.arange(sorted_idx.shape[0]) + .5\n",
    "print(pos.size)\n",
    "sorted_idx.size\n",
    "plt.figure(figsize=(15,15))\n",
    "plt.barh(pos, feature_importance[sorted_idx], align='center')\n",
    "plt.yticks(pos, X.columns[sorted_idx])\n",
    "plt.xlabel('Relative Importance')\n",
    "plt.title('Variable Importance')\n",
    "plt.show()"
   ]
  },
  {
   "cell_type": "code",
   "execution_count": 105,
   "metadata": {},
   "outputs": [
    {
     "data": {
      "image/png": "[encoded data removed]",
      "text/plain": [
       "<Figure size 432x288 with 1 Axes>"
      ]
     },
     "metadata": {
      "needs_background": "light"
     },
     "output_type": "display_data"
    }
   ],
   "source": [
    "disp=plot_precision_recall_curve(rand_clf1, X_test, y_test)"
   ]
  },
  {
   "cell_type": "code",
   "execution_count": 106,
   "metadata": {},
   "outputs": [
    {
     "name": "stdout",
     "output_type": "stream",
     "text": [
      "Accuracy Score by after balancing the data and using Random Forest 0.8261893084845513\n"
     ]
    }
   ],
   "source": [
    "#update the threshold and then predict the value\n",
    "THRESHOLD = 0.20\n",
    "#y_pred=clf.predict(X_test)\n",
    "y_pred=np.where(rand_clf1.predict_proba(X_test)[:,1] > THRESHOLD, 1, 0)\n",
    "print('Accuracy Score by after balancing the data and using Random Forest',accuracy_score(y_pred, y_test))"
   ]
  },
  {
   "cell_type": "code",
   "execution_count": 107,
   "metadata": {},
   "outputs": [
    {
     "name": "stdout",
     "output_type": "stream",
     "text": [
      "[[7775 1289]\n",
      " [ 483  648]]\n"
     ]
    }
   ],
   "source": [
    "cm = confusion_matrix(y_test, y_pred)\n",
    "print(cm)"
   ]
  },
  {
   "cell_type": "code",
   "execution_count": 108,
   "metadata": {},
   "outputs": [
    {
     "name": "stdout",
     "output_type": "stream",
     "text": [
      "              precision    recall  f1-score   support\n",
      "\n",
      "           0       0.94      0.86      0.90      9064\n",
      "           1       0.33      0.57      0.42      1131\n",
      "\n",
      "    accuracy                           0.83     10195\n",
      "   macro avg       0.64      0.72      0.66     10195\n",
      "weighted avg       0.87      0.83      0.84     10195\n",
      "\n"
     ]
    }
   ],
   "source": [
    "print(classification_report(y_test, y_pred))"
   ]
  },
  {
   "cell_type": "code",
   "execution_count": 109,
   "metadata": {},
   "outputs": [
    {
     "name": "stdout",
     "output_type": "stream",
     "text": [
      "Accuracy Score with scaling the data and using Logistic Regression 0.8107896027464443\n"
     ]
    }
   ],
   "source": [
    "lr_clf2 = LogisticRegression(class_weight={0:0.56365827,1:4.4272198},max_iter=1000)\n",
    "# Fit the model on the trainng data.\n",
    "lr_clf2.fit(X_train, y_train)\n",
    "y_pred=lr_clf2.predict(X_test)\n",
    "# Print the accuracy from the testing data.\n",
    "print('Accuracy Score with scaling the data and using Logistic Regression',accuracy_score(y_pred, y_test))"
   ]
  },
  {
   "cell_type": "code",
   "execution_count": 110,
   "metadata": {},
   "outputs": [
    {
     "name": "stdout",
     "output_type": "stream",
     "text": [
      "Confusion Matrix after updating class weight and using Logistic Regression\n",
      " [[7523 1541]\n",
      " [ 388  743]]\n"
     ]
    }
   ],
   "source": [
    "cm = confusion_matrix(y_test, y_pred)\n",
    "print('Confusion Matrix after updating class weight and using Logistic Regression\\n',cm)"
   ]
  },
  {
   "cell_type": "code",
   "execution_count": 111,
   "metadata": {},
   "outputs": [
    {
     "name": "stdout",
     "output_type": "stream",
     "text": [
      "              precision    recall  f1-score   support\n",
      "\n",
      "           0       0.95      0.83      0.89      9064\n",
      "           1       0.33      0.66      0.44      1131\n",
      "\n",
      "    accuracy                           0.81     10195\n",
      "   macro avg       0.64      0.74      0.66     10195\n",
      "weighted avg       0.88      0.81      0.84     10195\n",
      "\n"
     ]
    }
   ],
   "source": [
    "print(classification_report(y_test, y_pred))"
   ]
  },
  {
   "cell_type": "code",
   "execution_count": 112,
   "metadata": {},
   "outputs": [
    {
     "name": "stdout",
     "output_type": "stream",
     "text": [
      "Logistic: f1=0.435 auc=0.459\n"
     ]
    },
    {
     "data": {
      "image/png": "[encoded data removed]",
      "text/plain": [
       "<Figure size 432x288 with 1 Axes>"
      ]
     },
     "metadata": {
      "needs_background": "light"
     },
     "output_type": "display_data"
    }
   ],
   "source": [
    "lr_probs=lr_clf2.predict_proba(X_test)[:,1]\n",
    "lr_precision, lr_recall, _ = precision_recall_curve(y_test, lr_probs)\n",
    "lr_f1, lr_auc = f1_score(y_test, y_pred), auc(lr_recall,lr_precision)\n",
    "print('Logistic: f1=%.3f auc=%.3f' % (lr_f1, lr_auc))\n",
    "# plot the precision-recall curves\n",
    "no_skill = len(y_test[y_test==1]) / len(y_test)\n",
    "plt.plot([0, 1], [no_skill, no_skill], linestyle='--', label='No Skill')\n",
    "plt.plot(lr_recall,lr_precision, marker='.', label='Logistic')\n",
    "# axis labels\n",
    "plt.xlabel('Recall')\n",
    "plt.ylabel('Precision')\n",
    "# show the legend\n",
    "plt.legend()\n",
    "# show the plot\n",
    "plt.show()"
   ]
  },
  {
   "cell_type": "code",
   "execution_count": 113,
   "metadata": {},
   "outputs": [
    {
     "name": "stdout",
     "output_type": "stream",
     "text": [
      "Accuracy Score by after balancing the data and using Random Forest 0.8635605689063266\n"
     ]
    }
   ],
   "source": [
    "#update the threshold and then predict the value\n",
    "THRESHOLD = 0.58\n",
    "#y_pred=clf.predict(X_test)\n",
    "y_pred=np.where(lr_clf2.predict_proba(X_test)[:,1] > THRESHOLD, 1, 0)\n",
    "print('Accuracy Score by after balancing the data and using Random Forest',accuracy_score(y_pred, y_test))"
   ]
  },
  {
   "cell_type": "code",
   "execution_count": 114,
   "metadata": {},
   "outputs": [
    {
     "name": "stdout",
     "output_type": "stream",
     "text": [
      "[[8156  908]\n",
      " [ 483  648]]\n"
     ]
    }
   ],
   "source": [
    "cm = confusion_matrix(y_test, y_pred)\n",
    "print(cm)"
   ]
  },
  {
   "cell_type": "code",
   "execution_count": 115,
   "metadata": {},
   "outputs": [
    {
     "name": "stdout",
     "output_type": "stream",
     "text": [
      "              precision    recall  f1-score   support\n",
      "\n",
      "           0       0.94      0.90      0.92      9064\n",
      "           1       0.42      0.57      0.48      1131\n",
      "\n",
      "    accuracy                           0.86     10195\n",
      "   macro avg       0.68      0.74      0.70     10195\n",
      "weighted avg       0.89      0.86      0.87     10195\n",
      "\n"
     ]
    }
   ],
   "source": [
    "print(classification_report(y_test, y_pred))"
   ]
  },
  {
   "cell_type": "code",
   "execution_count": 116,
   "metadata": {},
   "outputs": [
    {
     "name": "stdout",
     "output_type": "stream",
     "text": [
      "Accuracy Score of SVM is 0.7889161353604708\n"
     ]
    }
   ],
   "source": [
    "clf_svm1 = svm(class_weight={0:0.56365827,1:4.4272198})\n",
    "clf_svm1.fit(X_train, y_train)\n",
    "y_pred=clf_svm1.predict(X_test)\n",
    "print('Accuracy Score of SVM is',accuracy_score(y_pred, y_test))"
   ]
  },
  {
   "cell_type": "code",
   "execution_count": 117,
   "metadata": {},
   "outputs": [
    {
     "name": "stdout",
     "output_type": "stream",
     "text": [
      "Confusion Matrix after updating class weight and using Logistic Regression\n",
      " [[7324 1740]\n",
      " [ 412  719]]\n"
     ]
    }
   ],
   "source": [
    "cm = confusion_matrix(y_test, y_pred)\n",
    "print('Confusion Matrix after updating class weight and using Logistic Regression\\n',cm)"
   ]
  },
  {
   "cell_type": "code",
   "execution_count": 118,
   "metadata": {},
   "outputs": [
    {
     "name": "stdout",
     "output_type": "stream",
     "text": [
      "              precision    recall  f1-score   support\n",
      "\n",
      "           0       0.95      0.81      0.87      9064\n",
      "           1       0.29      0.64      0.40      1131\n",
      "\n",
      "    accuracy                           0.79     10195\n",
      "   macro avg       0.62      0.72      0.64     10195\n",
      "weighted avg       0.87      0.79      0.82     10195\n",
      "\n"
     ]
    }
   ],
   "source": [
    "print(classification_report(y_test, y_pred))"
   ]
  },
  {
   "cell_type": "code",
   "execution_count": 119,
   "metadata": {},
   "outputs": [],
   "source": [
    "from xgboost import XGBClassifier\n",
    "scale_pos_weight = 26980/3435\n",
    "gbc = XGBClassifier(scale_pos_weight=scale_pos_weight)"
   ]
  },
  {
   "cell_type": "code",
   "execution_count": 120,
   "metadata": {},
   "outputs": [
    {
     "name": "stdout",
     "output_type": "stream",
     "text": [
      "Accuracy Score of Xgboost is 0.8367827366356057\n"
     ]
    }
   ],
   "source": [
    "gbc.fit(X_train, y_train)\n",
    "y_pred=gbc.predict(X_test)\n",
    "print('Accuracy Score of Xgboost is',accuracy_score(y_pred, y_test))"
   ]
  },
  {
   "cell_type": "code",
   "execution_count": 121,
   "metadata": {},
   "outputs": [
    {
     "name": "stdout",
     "output_type": "stream",
     "text": [
      "Confusion Matrix after updating class weight and using Xgboost\n",
      " [[7799 1265]\n",
      " [ 399  732]]\n"
     ]
    }
   ],
   "source": [
    "cm = confusion_matrix(y_test, y_pred)\n",
    "print('Confusion Matrix after updating class weight and using Xgboost\\n',cm)"
   ]
  },
  {
   "cell_type": "code",
   "execution_count": 122,
   "metadata": {},
   "outputs": [
    {
     "name": "stdout",
     "output_type": "stream",
     "text": [
      "              precision    recall  f1-score   support\n",
      "\n",
      "           0       0.95      0.86      0.90      9064\n",
      "           1       0.37      0.65      0.47      1131\n",
      "\n",
      "    accuracy                           0.84     10195\n",
      "   macro avg       0.66      0.75      0.69     10195\n",
      "weighted avg       0.89      0.84      0.86     10195\n",
      "\n"
     ]
    }
   ],
   "source": [
    "print(classification_report(y_test, y_pred))"
   ]
  },
  {
   "cell_type": "code",
   "execution_count": null,
   "metadata": {},
   "outputs": [],
   "source": []
  },
  {
   "cell_type": "code",
   "execution_count": null,
   "metadata": {},
   "outputs": [],
   "source": []
  },
  {
   "cell_type": "code",
   "execution_count": null,
   "metadata": {},
   "outputs": [],
   "source": [
    "housemaid,unemployed,retired,student   \n",
    "(self-employed,entrepreneur) \n",
    "(management,services) \n",
    "admin.\n",
    "blue-collar \n",
    "technician "
   ]
  },
  {
   "cell_type": "code",
   "execution_count": null,
   "metadata": {},
   "outputs": [],
   "source": [
    "feature_importance = rand_clf2.feature_importances_\n",
    "# make importances relative to max importance\n",
    "feature_importance = 100.0 * (feature_importance / feature_importance.max())[:59]\n",
    "sorted_idx = np.argsort(feature_importance)[:59]\n",
    "\n",
    "pos = np.arange(sorted_idx.shape[0]) + .5\n",
    "print(pos.size)\n",
    "sorted_idx.size\n",
    "plt.figure(figsize=(15,15))\n",
    "plt.barh(pos, feature_importance[sorted_idx], align='center')\n",
    "plt.yticks(pos, X.columns[sorted_idx])\n",
    "plt.xlabel('Relative Importance')\n",
    "plt.title('Variable Importance')\n",
    "plt.show()"
   ]
  },
  {
   "cell_type": "code",
   "execution_count": null,
   "metadata": {},
   "outputs": [],
   "source": []
  },
  {
   "cell_type": "code",
   "execution_count": null,
   "metadata": {},
   "outputs": [],
   "source": [
    "#the grid of parameters to search over\n",
    "Cs = [0.001, 0.1, 1, 10, 100]\n",
    "param_grid = {'C': Cs}\n",
    "from sklearn.model_selection import GridSearchCV\n",
    "clf = LogisticRegression(max_iter=1000)\n",
    "clf_cv=GridSearchCV(clf,param_grid,cv=5)\n",
    "clf_cv.fit(X_train, y_train)\n",
    "print(\"Tuned Logistic Regression Parameters: {}\".format(clf_cv.best_params_))\n",
    "print(\"Best score is {}\".format(clf_cv.best_score_))"
   ]
  },
  {
   "cell_type": "code",
   "execution_count": null,
   "metadata": {},
   "outputs": [],
   "source": [
    "clf_best=LogisticRegression(C=10,max_iter=1000)\n",
    "clf_best.fit(X_train, y_train)"
   ]
  },
  {
   "cell_type": "code",
   "execution_count": null,
   "metadata": {},
   "outputs": [],
   "source": [
    "THRESHOLD = 0.20\n",
    "#y_pred=clf.predict(X_test)\n",
    "y_pred=np.where(clf_best.predict_proba(X_test)[:,1] > THRESHOLD, 1, 0)"
   ]
  },
  {
   "cell_type": "code",
   "execution_count": null,
   "metadata": {},
   "outputs": [],
   "source": [
    "cm = confusion_matrix(y_test, y_pred)\n",
    "print('Confusion Matrix without scaling the data and using Logistic Regression\\n',cm)"
   ]
  },
  {
   "cell_type": "code",
   "execution_count": null,
   "metadata": {},
   "outputs": [],
   "source": [
    "print('Accuracy Score without scaling the data and using Logistic Regression',accuracy_score(y_pred, y_test))\n",
    "f1 = f1_score(y_test, y_pred, average='weighted')\n",
    "print('Logistic Regression without scaling: f1-score=%.3f' % (f1))"
   ]
  },
  {
   "cell_type": "code",
   "execution_count": null,
   "metadata": {},
   "outputs": [],
   "source": [
    "print('Classifiaction Report without scaling the data and using Logistic Regression\\n',classification_report(y_test, y_pred))"
   ]
  },
  {
   "cell_type": "markdown",
   "metadata": {},
   "source": [
    "<B>KNN"
   ]
  },
  {
   "cell_type": "code",
   "execution_count": null,
   "metadata": {},
   "outputs": [],
   "source": [
    "param_grid={'n_neighbors':np.arange(1,50)}\n",
    "knn=KNeighborsClassifier()\n",
    "knn_cv=GridSearchCV(knn,param_grid,cv=5)\n",
    "#knn_cv.fit(X_train,y_train)\n",
    "#print(\"Tuned KNN Parameters: {}\".format(knn_cv.best_params_))\n",
    "#print(\"Best score is {}\".format(knn_cv.best_score_))"
   ]
  },
  {
   "cell_type": "code",
   "execution_count": null,
   "metadata": {},
   "outputs": [],
   "source": []
  },
  {
   "cell_type": "code",
   "execution_count": null,
   "metadata": {},
   "outputs": [],
   "source": [
    "#knn_cv.fit(X_train,y_train)"
   ]
  },
  {
   "cell_type": "code",
   "execution_count": null,
   "metadata": {},
   "outputs": [],
   "source": [
    "#print(\"Tuned KNN Parameters: {}\".format(knn_cv.best_params_))\n",
    "#print(\"Best score is {}\".format(knn_cv.best_score_))"
   ]
  },
  {
   "cell_type": "code",
   "execution_count": null,
   "metadata": {},
   "outputs": [],
   "source": [
    "#knn = KNeighborsClassifier(n_neighbors=30)\n",
    "#knn.fit(X_train, y_train)"
   ]
  },
  {
   "cell_type": "code",
   "execution_count": null,
   "metadata": {},
   "outputs": [],
   "source": [
    "#y_pred=knn.predict(X_test)\n",
    "#print('Accuracy Score without scaling the data and using KNN',accuracy_score(y_pred, y_test))\n",
    "#f1 = f1_score(y_test, y_pred, average='weighted')\n",
    "#print('KNN: f1-score=%.3f' % (f1))"
   ]
  },
  {
   "cell_type": "code",
   "execution_count": null,
   "metadata": {},
   "outputs": [],
   "source": [
    "#cm = confusion_matrix(y_test, y_pred)\n",
    "#print(cm)"
   ]
  },
  {
   "cell_type": "code",
   "execution_count": null,
   "metadata": {},
   "outputs": [],
   "source": [
    "#print('Classification Report after scaling the data and using KNN\\n',classification_report(y_test, y_pred))"
   ]
  },
  {
   "cell_type": "code",
   "execution_count": null,
   "metadata": {},
   "outputs": [],
   "source": [
    "from sklearn.model_selection import RandomizedSearchCV\n",
    "# Number of trees in random forest\n",
    "n_estimators = [int(x) for x in np.linspace(start = 200, stop = 2000, num = 10)] #this\n",
    "# Number of features to consider at every split\n",
    "max_features = ['auto', 'sqrt'] \n",
    "# Maximum number of levels in tree\n",
    "max_depth = [int(x) for x in np.linspace(10, 110, num = 11)] #this\n",
    "max_depth.append(None)\n",
    "# Minimum number of samples required to split a node\n",
    "min_samples_split = [2, 5, 10]\n",
    "# Minimum number of samples required at each leaf node\n",
    "min_samples_leaf = [1, 2, 4]\n",
    "# Method of selecting samples for training each tree\n",
    "bootstrap = [True, False]\n",
    "# Create the random grid\n",
    "random_grid = {'n_estimators': n_estimators,\n",
    "               'max_features': max_features,\n",
    "               'max_depth': max_depth,\n",
    "               'min_samples_split': min_samples_split,\n",
    "               'min_samples_leaf': min_samples_leaf,\n",
    "               'bootstrap': bootstrap}"
   ]
  },
  {
   "cell_type": "code",
   "execution_count": null,
   "metadata": {},
   "outputs": [],
   "source": [
    "clf = RandomForestClassifier()\n",
    "clf_cv=GridSearchCV(clf,random_grid,cv=5)"
   ]
  },
  {
   "cell_type": "code",
   "execution_count": null,
   "metadata": {},
   "outputs": [],
   "source": [
    "clf_cv.fit(X_train,y_train)"
   ]
  },
  {
   "cell_type": "code",
   "execution_count": null,
   "metadata": {},
   "outputs": [],
   "source": []
  }
 ],
 "metadata": {
  "kernelspec": {
   "display_name": "Python 3",
   "language": "python",
   "name": "python3"
  },
  "language_info": {
   "codemirror_mode": {
    "name": "ipython",
    "version": 3
   },
   "file_extension": ".py",
   "mimetype": "text/x-python",
   "name": "python",
   "nbconvert_exporter": "python",
   "pygments_lexer": "ipython3",
   "version": "3.7.6"
  }
 },
 "nbformat": 4,
 "nbformat_minor": 4
}
